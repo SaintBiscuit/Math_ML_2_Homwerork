{
  "cells": [
    {
      "cell_type": "markdown",
      "id": "b054bd88",
      "metadata": {
        "id": "b054bd88"
      },
      "source": [
        "# <center> Линейная алгебра в контексте линейных методов. Практика.\n",
        "\n",
        "## <center> Прогнозирование выработки газа на скважинах."
      ]
    },
    {
      "cell_type": "markdown",
      "id": "325bc80b",
      "metadata": {
        "id": "325bc80b"
      },
      "source": [
        "## Постановка задачи"
      ]
    },
    {
      "cell_type": "markdown",
      "id": "8247bd54",
      "metadata": {
        "id": "8247bd54"
      },
      "source": [
        "У Василия, основателя компании «Газ-Таз-Ваз-Нефть», дела идут в гору: у него уже функционирует 200 скважин для добычи газа. В этом году он открывает 30 новых скважин. Однако в целях оптимизации расходов и повышения дохода Василию необходимо оценить, сколько денег будет приносить ему каждая из скважин, а также понять, какие факторы (параметры скважин) потенциально сильнее всего повлияют на объём добычи газа. Для этого Василий решил нанять вас как специалиста в области Data Science.\n",
        "\n",
        "Василий представляет вам набор данных о добыче газа на своих скважинах. Файл с данными вы можете скачать на платформе.\n",
        "\n",
        "**Признаки в данных:**\n",
        "\n",
        "* Well — идентификатор скважины;\n",
        "* Por — пористость скважины (%);\n",
        "* Perm — проницаемость скважины;\n",
        "* AI — акустический импеданс ($кг/м^2 * 10^6$);\n",
        "* Brittle — коэффициент хрупкости скважины (%);\n",
        "* TOC — общий органический углерод (%);\n",
        "* VR — коэффициент отражения витринита (%);\n",
        "* Prod — добыча газа в сутки (млн. кубических футов).\n",
        "\n",
        "**Ваша задача** — построить регрессионную модель, которая прогнозирует выработку газа на скважине (целевой признак — Prod) на основе остальных характеристик скважины, и проинтерпретировать результаты вашей модели.\n",
        "\n",
        "Разделим задачу на две части:\n",
        "* В первой мы построим простейшую модель линейной регрессии, проанализируем результаты её работы и выберем наиболее значимые факторы для прогнозирования.\n",
        "* Во второй мы займёмся построением модели полиномиальной регрессии с регуляризацией и посмотрим на итоговые результаты моделирования.\n"
      ]
    },
    {
      "cell_type": "markdown",
      "id": "d67d069e",
      "metadata": {
        "id": "d67d069e"
      },
      "source": [
        "Импортируем необходимые библиотеки:"
      ]
    },
    {
      "cell_type": "code",
      "execution_count": 2,
      "id": "83a555bc-8dff-4b7e-bba1-cd4f4a9e69b2",
      "metadata": {
        "id": "83a555bc-8dff-4b7e-bba1-cd4f4a9e69b2"
      },
      "outputs": [],
      "source": [
        "# Импорт библиотек\n",
        "import numpy as np # для работы с массивами\n",
        "import pandas as pd # для работы с DataFrame \n",
        "import seaborn as sns # библиотека для визуализации статистических данных\n",
        "import matplotlib.pyplot as plt # для построения графиков\n",
        "import plotly.express as px\n",
        "\n",
        "%matplotlib inline"
      ]
    },
    {
      "cell_type": "markdown",
      "id": "e689ddaf",
      "metadata": {
        "id": "e689ddaf"
      },
      "source": [
        "Прочитаем исходные данные:"
      ]
    },
    {
      "cell_type": "code",
      "execution_count": 211,
      "id": "b7b5cd9b-703f-4dbc-a6e3-61d583eafcac",
      "metadata": {
        "colab": {
          "base_uri": "https://localhost:8080/",
          "height": 206
        },
        "id": "b7b5cd9b-703f-4dbc-a6e3-61d583eafcac",
        "outputId": "d4e99a48-2a0d-4edd-f86c-617c44bf36d2"
      },
      "outputs": [
        {
          "data": {
            "text/html": [
              "<div>\n",
              "<style scoped>\n",
              "    .dataframe tbody tr th:only-of-type {\n",
              "        vertical-align: middle;\n",
              "    }\n",
              "\n",
              "    .dataframe tbody tr th {\n",
              "        vertical-align: top;\n",
              "    }\n",
              "\n",
              "    .dataframe thead th {\n",
              "        text-align: right;\n",
              "    }\n",
              "</style>\n",
              "<table border=\"1\" class=\"dataframe\">\n",
              "  <thead>\n",
              "    <tr style=\"text-align: right;\">\n",
              "      <th></th>\n",
              "      <th>Well</th>\n",
              "      <th>Por</th>\n",
              "      <th>Perm</th>\n",
              "      <th>AI</th>\n",
              "      <th>Brittle</th>\n",
              "      <th>TOC</th>\n",
              "      <th>VR</th>\n",
              "      <th>Prod</th>\n",
              "    </tr>\n",
              "  </thead>\n",
              "  <tbody>\n",
              "    <tr>\n",
              "      <th>0</th>\n",
              "      <td>1</td>\n",
              "      <td>12.08</td>\n",
              "      <td>2.92</td>\n",
              "      <td>2.80</td>\n",
              "      <td>81.40</td>\n",
              "      <td>1.16</td>\n",
              "      <td>2.31</td>\n",
              "      <td>4165.196191</td>\n",
              "    </tr>\n",
              "    <tr>\n",
              "      <th>1</th>\n",
              "      <td>2</td>\n",
              "      <td>12.38</td>\n",
              "      <td>3.53</td>\n",
              "      <td>3.22</td>\n",
              "      <td>46.17</td>\n",
              "      <td>0.89</td>\n",
              "      <td>1.88</td>\n",
              "      <td>3561.146205</td>\n",
              "    </tr>\n",
              "    <tr>\n",
              "      <th>2</th>\n",
              "      <td>3</td>\n",
              "      <td>14.02</td>\n",
              "      <td>2.59</td>\n",
              "      <td>4.01</td>\n",
              "      <td>72.80</td>\n",
              "      <td>0.89</td>\n",
              "      <td>2.72</td>\n",
              "      <td>4284.348574</td>\n",
              "    </tr>\n",
              "    <tr>\n",
              "      <th>3</th>\n",
              "      <td>4</td>\n",
              "      <td>17.67</td>\n",
              "      <td>6.75</td>\n",
              "      <td>2.63</td>\n",
              "      <td>39.81</td>\n",
              "      <td>1.08</td>\n",
              "      <td>1.88</td>\n",
              "      <td>5098.680869</td>\n",
              "    </tr>\n",
              "    <tr>\n",
              "      <th>4</th>\n",
              "      <td>5</td>\n",
              "      <td>17.52</td>\n",
              "      <td>4.57</td>\n",
              "      <td>3.18</td>\n",
              "      <td>10.94</td>\n",
              "      <td>1.51</td>\n",
              "      <td>1.90</td>\n",
              "      <td>3406.132832</td>\n",
              "    </tr>\n",
              "  </tbody>\n",
              "</table>\n",
              "</div>"
            ],
            "text/plain": [
              "   Well    Por  Perm    AI  Brittle   TOC    VR         Prod\n",
              "0     1  12.08  2.92  2.80    81.40  1.16  2.31  4165.196191\n",
              "1     2  12.38  3.53  3.22    46.17  0.89  1.88  3561.146205\n",
              "2     3  14.02  2.59  4.01    72.80  0.89  2.72  4284.348574\n",
              "3     4  17.67  6.75  2.63    39.81  1.08  1.88  5098.680869\n",
              "4     5  17.52  4.57  3.18    10.94  1.51  1.90  3406.132832"
            ]
          },
          "execution_count": 211,
          "metadata": {},
          "output_type": "execute_result"
        }
      ],
      "source": [
        "data = pd.read_csv('data/unconv.csv')\n",
        "data.head()"
      ]
    },
    {
      "cell_type": "markdown",
      "id": "58639b40",
      "metadata": {
        "id": "58639b40"
      },
      "source": [
        "## Практика: линейная регрессия по методу наименьших квадратов"
      ]
    },
    {
      "cell_type": "markdown",
      "id": "a90535b8",
      "metadata": {
        "id": "a90535b8"
      },
      "source": [
        "Для начала построим простейшую модель линейной регрессии, проанализируем результаты её работы и выберем наиболее значимые факторы для прогнозирования.\n",
        "\n",
        "В первой части вам предстоит выполнить задания 5.0–5.6. Максимальное количество баллов, которое можно получить, — 9."
      ]
    },
    {
      "cell_type": "markdown",
      "id": "4061b706",
      "metadata": {
        "id": "4061b706"
      },
      "source": [
        "### Задание 5.0. (не оценивается)\n",
        "\n",
        "Проведите небольшой разведывательный анализ, чтобы поближе познакомиться с исходными данными. Постройте несколько визуализаций, которые помогут вам понять, как устроены исходные признаки, а также смогут продемонстрировать взаимосвязь факторов. \n",
        "\n",
        "Сделайте промежуточные выводы из проведённого разведывательного анализа."
      ]
    },
    {
      "cell_type": "code",
      "execution_count": 4,
      "id": "daf1ccc7",
      "metadata": {
        "id": "daf1ccc7"
      },
      "outputs": [
        {
          "data": {
            "text/plain": [
              "Text(0, 0.5, 'Пористость')"
            ]
          },
          "execution_count": 4,
          "metadata": {},
          "output_type": "execute_result"
        },
        {
          "data": {
            "image/png": "[encoded data removed]",
            "text/plain": [
              "<Figure size 2000x500 with 2 Axes>"
            ]
          },
          "metadata": {},
          "output_type": "display_data"
        }
      ],
      "source": [
        "fig, axes = plt.subplots(nrows=1, ncols=2, figsize=(20, 5))\n",
        "axes[0].scatter(\n",
        "    data[\"Prod\"],\n",
        "    data[\"Perm\"],\n",
        "    color=\"tomato\",\n",
        "    lw=2,\n",
        ")\n",
        "axes[0].set_title(\"Зависимость добычи газа от проницаемости шахты\")\n",
        "axes[0].set_xlabel('Добыча (млн. куб. футов)')\n",
        "axes[0].set_ylabel('Проницаемость')\n",
        "\n",
        "axes[1].scatter(\n",
        "    data[\"Prod\"],\n",
        "    data[\"Por\"],\n",
        "    color=\"tomato\",\n",
        "    lw=2,\n",
        ")\n",
        "axes[1].set_title(\"Зависимость добычи газа от пористости скважины\")\n",
        "axes[1].set_xlabel('Добыча (млн. куб. футов)')\n",
        "axes[1].set_ylabel('Пористость')\n"
      ]
    },
    {
      "cell_type": "markdown",
      "id": "fe1c5f97",
      "metadata": {},
      "source": [
        "На основе получившихся графиков можно сделать что показатель добычи газа напрямую зависит от пористости и проницаемости шахты.<br> \n",
        "К сожалению, остальные показатель сравнить не предстваляется возможности, так как нет знаний в области определий газовой отрасли"
      ]
    },
    {
      "cell_type": "markdown",
      "id": "d11cb44f",
      "metadata": {
        "id": "d11cb44f"
      },
      "source": [
        "### Задание 5.1. (2 балла)\n",
        "\n",
        "Постройте корреляционную матрицу факторов, включив в неё целевой признак. \n",
        "\n",
        "Для наглядности визуализируйте полученную матрицу с помощью тепловой карты. \n",
        "\n",
        "**Примечание.** *Для визуализации вы можете использовать любую из знакомых вам библиотек.*\n",
        "\n",
        "На основе построенной корреляционной матрицы ответьте на следующий вопрос:\n",
        "\n",
        "* Какие факторы сильнее всего коррелируют с целевой переменной?\n",
        "\n",
        "Вычислите ранг и определитель полученной матрицы корреляций и приведите развёрнутые ответы на следующие вопросы:\n",
        "* Является ли корреляционная матрица плохо обусловенной (близок ли её опредитель к нулю)?\n",
        "* Что вы можете сказать о наличии коллинераности/мультиколлинеарности в данных? \n",
        "* Применима ли в данном случае модель классической линейной регрессии по методу наименьших квадратов и почему? "
      ]
    },
    {
      "cell_type": "markdown",
      "id": "57OjUl5e2oiL",
      "metadata": {
        "id": "57OjUl5e2oiL"
      },
      "source": [
        "**Критерии оценивания:**\n",
        "- Задание выполнено верно, учтены все условия (**2 балла**): \n",
        "    * приведён код для расчёта корреляционной матрицы;\n",
        "    * приведён код для визуализации корреляционной матрицы в виде тепловой карты;\n",
        "    * рассчитаны ранг и определитель корреляционной матрицы;\n",
        "    * предоставлены обоснованные ответы на все поставленные вопросы. \n",
        "\n",
        "- Задание выполнено верно, но не учтено одно условие (**1 балл**).\n",
        "- Задание выполнено неверно, не учтено несколько условий (**0 баллов**)."
      ]
    },
    {
      "cell_type": "code",
      "execution_count": 54,
      "id": "af00a5a0",
      "metadata": {
        "id": "af00a5a0"
      },
      "outputs": [
        {
          "data": {
            "application/vnd.plotly.v1+json": {
              "config": {
                "plotlyServerURL": "https://plot.ly"
              },
              "data": [
                {
                  "coloraxis": "coloraxis",
                  "hovertemplate": "value=%{x}<br>index=%{y}<br>count=%{z}<extra></extra>",
                  "name": "",
                  "type": "histogram2d",
                  "x": [
                    1,
                    0.06892650716930902,
                    0.07792780891929288,
                    0.0414826184736394,
                    -0.07925236389007449,
                    0.02262431043795967,
                    -0.007278678268113182,
                    0.02681677681635362,
                    0.06892650716930902,
                    1,
                    0.7605459242862604,
                    -0.46154937413830893,
                    -0.21857029663949573,
                    0.7118306758116919,
                    0.11185977924568775,
                    0.8619095390498694,
                    0.07792780891929288,
                    0.7605459242862604,
                    1,
                    -0.23963581449371366,
                    -0.12401730308963654,
                    0.47174631684108176,
                    0.05102320050943358,
                    0.7274261409379983,
                    0.0414826184736394,
                    -0.46154937413830893,
                    -0.23963581449371366,
                    1,
                    0.127599431810448,
                    -0.5318635967128338,
                    0.49914264873911235,
                    -0.39083476681722223,
                    -0.07925236389007449,
                    -0.21857029663949573,
                    -0.12401730308963654,
                    0.127599431810448,
                    1,
                    -0.2142817704313906,
                    0.31792865708154255,
                    0.23715533470634578,
                    0.02262431043795967,
                    0.7118306758116919,
                    0.47174631684108176,
                    -0.5318635967128338,
                    -0.2142817704313906,
                    1,
                    0.299482866262007,
                    0.6544451995719837,
                    -0.007278678268113182,
                    0.11185977924568775,
                    0.05102320050943358,
                    0.49914264873911235,
                    0.31792865708154255,
                    0.299482866262007,
                    1,
                    0.3231815474813121,
                    0.02681677681635362,
                    0.8619095390498694,
                    0.7274261409379983,
                    -0.39083476681722223,
                    0.23715533470634578,
                    0.6544451995719837,
                    0.3231815474813121,
                    1
                  ],
                  "xaxis": "x",
                  "xbingroup": "x",
                  "y": [
                    "Well",
                    "Por",
                    "Perm",
                    "AI",
                    "Brittle",
                    "TOC",
                    "VR",
                    "Prod",
                    "Well",
                    "Por",
                    "Perm",
                    "AI",
                    "Brittle",
                    "TOC",
                    "VR",
                    "Prod",
                    "Well",
                    "Por",
                    "Perm",
                    "AI",
                    "Brittle",
                    "TOC",
                    "VR",
                    "Prod",
                    "Well",
                    "Por",
                    "Perm",
                    "AI",
                    "Brittle",
                    "TOC",
                    "VR",
                    "Prod",
                    "Well",
                    "Por",
                    "Perm",
                    "AI",
                    "Brittle",
                    "TOC",
                    "VR",
                    "Prod",
                    "Well",
                    "Por",
                    "Perm",
                    "AI",
                    "Brittle",
                    "TOC",
                    "VR",
                    "Prod",
                    "Well",
                    "Por",
                    "Perm",
                    "AI",
                    "Brittle",
                    "TOC",
                    "VR",
                    "Prod",
                    "Well",
                    "Por",
                    "Perm",
                    "AI",
                    "Brittle",
                    "TOC",
                    "VR",
                    "Prod"
                  ],
                  "yaxis": "y",
                  "ybingroup": "y"
                }
              ],
              "layout": {
                "coloraxis": {
                  "colorbar": {
                    "title": {
                      "text": "count"
                    }
                  },
                  "colorscale": [
                    [
                      0,
                      "#0d0887"
                    ],
                    [
                      0.1111111111111111,
                      "#46039f"
                    ],
                    [
                      0.2222222222222222,
                      "#7201a8"
                    ],
                    [
                      0.3333333333333333,
                      "#9c179e"
                    ],
                    [
                      0.4444444444444444,
                      "#bd3786"
                    ],
                    [
                      0.5555555555555556,
                      "#d8576b"
                    ],
                    [
                      0.6666666666666666,
                      "#ed7953"
                    ],
                    [
                      0.7777777777777778,
                      "#fb9f3a"
                    ],
                    [
                      0.8888888888888888,
                      "#fdca26"
                    ],
                    [
                      1,
                      "#f0f921"
                    ]
                  ]
                },
                "legend": {
                  "tracegroupgap": 0
                },
                "margin": {
                  "t": 60
                },
                "template": {
                  "data": {
                    "bar": [
                      {
                        "error_x": {
                          "color": "#2a3f5f"
                        },
                        "error_y": {
                          "color": "#2a3f5f"
                        },
                        "marker": {
                          "line": {
                            "color": "#E5ECF6",
                            "width": 0.5
                          },
                          "pattern": {
                            "fillmode": "overlay",
                            "size": 10,
                            "solidity": 0.2
                          }
                        },
                        "type": "bar"
                      }
                    ],
                    "barpolar": [
                      {
                        "marker": {
                          "line": {
                            "color": "#E5ECF6",
                            "width": 0.5
                          },
                          "pattern": {
                            "fillmode": "overlay",
                            "size": 10,
                            "solidity": 0.2
                          }
                        },
                        "type": "barpolar"
                      }
                    ],
                    "carpet": [
                      {
                        "aaxis": {
                          "endlinecolor": "#2a3f5f",
                          "gridcolor": "white",
                          "linecolor": "white",
                          "minorgridcolor": "white",
                          "startlinecolor": "#2a3f5f"
                        },
                        "baxis": {
                          "endlinecolor": "#2a3f5f",
                          "gridcolor": "white",
                          "linecolor": "white",
                          "minorgridcolor": "white",
                          "startlinecolor": "#2a3f5f"
                        },
                        "type": "carpet"
                      }
                    ],
                    "choropleth": [
                      {
                        "colorbar": {
                          "outlinewidth": 0,
                          "ticks": ""
                        },
                        "type": "choropleth"
                      }
                    ],
                    "contour": [
                      {
                        "colorbar": {
                          "outlinewidth": 0,
                          "ticks": ""
                        },
                        "colorscale": [
                          [
                            0,
                            "#0d0887"
                          ],
                          [
                            0.1111111111111111,
                            "#46039f"
                          ],
                          [
                            0.2222222222222222,
                            "#7201a8"
                          ],
                          [
                            0.3333333333333333,
                            "#9c179e"
                          ],
                          [
                            0.4444444444444444,
                            "#bd3786"
                          ],
                          [
                            0.5555555555555556,
                            "#d8576b"
                          ],
                          [
                            0.6666666666666666,
                            "#ed7953"
                          ],
                          [
                            0.7777777777777778,
                            "#fb9f3a"
                          ],
                          [
                            0.8888888888888888,
                            "#fdca26"
                          ],
                          [
                            1,
                            "#f0f921"
                          ]
                        ],
                        "type": "contour"
                      }
                    ],
                    "contourcarpet": [
                      {
                        "colorbar": {
                          "outlinewidth": 0,
                          "ticks": ""
                        },
                        "type": "contourcarpet"
                      }
                    ],
                    "heatmap": [
                      {
                        "colorbar": {
                          "outlinewidth": 0,
                          "ticks": ""
                        },
                        "colorscale": [
                          [
                            0,
                            "#0d0887"
                          ],
                          [
                            0.1111111111111111,
                            "#46039f"
                          ],
                          [
                            0.2222222222222222,
                            "#7201a8"
                          ],
                          [
                            0.3333333333333333,
                            "#9c179e"
                          ],
                          [
                            0.4444444444444444,
                            "#bd3786"
                          ],
                          [
                            0.5555555555555556,
                            "#d8576b"
                          ],
                          [
                            0.6666666666666666,
                            "#ed7953"
                          ],
                          [
                            0.7777777777777778,
                            "#fb9f3a"
                          ],
                          [
                            0.8888888888888888,
                            "#fdca26"
                          ],
                          [
                            1,
                            "#f0f921"
                          ]
                        ],
                        "type": "heatmap"
                      }
                    ],
                    "heatmapgl": [
                      {
                        "colorbar": {
                          "outlinewidth": 0,
                          "ticks": ""
                        },
                        "colorscale": [
                          [
                            0,
                            "#0d0887"
                          ],
                          [
                            0.1111111111111111,
                            "#46039f"
                          ],
                          [
                            0.2222222222222222,
                            "#7201a8"
                          ],
                          [
                            0.3333333333333333,
                            "#9c179e"
                          ],
                          [
                            0.4444444444444444,
                            "#bd3786"
                          ],
                          [
                            0.5555555555555556,
                            "#d8576b"
                          ],
                          [
                            0.6666666666666666,
                            "#ed7953"
                          ],
                          [
                            0.7777777777777778,
                            "#fb9f3a"
                          ],
                          [
                            0.8888888888888888,
                            "#fdca26"
                          ],
                          [
                            1,
                            "#f0f921"
                          ]
                        ],
                        "type": "heatmapgl"
                      }
                    ],
                    "histogram": [
                      {
                        "marker": {
                          "pattern": {
                            "fillmode": "overlay",
                            "size": 10,
                            "solidity": 0.2
                          }
                        },
                        "type": "histogram"
                      }
                    ],
                    "histogram2d": [
                      {
                        "colorbar": {
                          "outlinewidth": 0,
                          "ticks": ""
                        },
                        "colorscale": [
                          [
                            0,
                            "#0d0887"
                          ],
                          [
                            0.1111111111111111,
                            "#46039f"
                          ],
                          [
                            0.2222222222222222,
                            "#7201a8"
                          ],
                          [
                            0.3333333333333333,
                            "#9c179e"
                          ],
                          [
                            0.4444444444444444,
                            "#bd3786"
                          ],
                          [
                            0.5555555555555556,
                            "#d8576b"
                          ],
                          [
                            0.6666666666666666,
                            "#ed7953"
                          ],
                          [
                            0.7777777777777778,
                            "#fb9f3a"
                          ],
                          [
                            0.8888888888888888,
                            "#fdca26"
                          ],
                          [
                            1,
                            "#f0f921"
                          ]
                        ],
                        "type": "histogram2d"
                      }
                    ],
                    "histogram2dcontour": [
                      {
                        "colorbar": {
                          "outlinewidth": 0,
                          "ticks": ""
                        },
                        "colorscale": [
                          [
                            0,
                            "#0d0887"
                          ],
                          [
                            0.1111111111111111,
                            "#46039f"
                          ],
                          [
                            0.2222222222222222,
                            "#7201a8"
                          ],
                          [
                            0.3333333333333333,
                            "#9c179e"
                          ],
                          [
                            0.4444444444444444,
                            "#bd3786"
                          ],
                          [
                            0.5555555555555556,
                            "#d8576b"
                          ],
                          [
                            0.6666666666666666,
                            "#ed7953"
                          ],
                          [
                            0.7777777777777778,
                            "#fb9f3a"
                          ],
                          [
                            0.8888888888888888,
                            "#fdca26"
                          ],
                          [
                            1,
                            "#f0f921"
                          ]
                        ],
                        "type": "histogram2dcontour"
                      }
                    ],
                    "mesh3d": [
                      {
                        "colorbar": {
                          "outlinewidth": 0,
                          "ticks": ""
                        },
                        "type": "mesh3d"
                      }
                    ],
                    "parcoords": [
                      {
                        "line": {
                          "colorbar": {
                            "outlinewidth": 0,
                            "ticks": ""
                          }
                        },
                        "type": "parcoords"
                      }
                    ],
                    "pie": [
                      {
                        "automargin": true,
                        "type": "pie"
                      }
                    ],
                    "scatter": [
                      {
                        "fillpattern": {
                          "fillmode": "overlay",
                          "size": 10,
                          "solidity": 0.2
                        },
                        "type": "scatter"
                      }
                    ],
                    "scatter3d": [
                      {
                        "line": {
                          "colorbar": {
                            "outlinewidth": 0,
                            "ticks": ""
                          }
                        },
                        "marker": {
                          "colorbar": {
                            "outlinewidth": 0,
                            "ticks": ""
                          }
                        },
                        "type": "scatter3d"
                      }
                    ],
                    "scattercarpet": [
                      {
                        "marker": {
                          "colorbar": {
                            "outlinewidth": 0,
                            "ticks": ""
                          }
                        },
                        "type": "scattercarpet"
                      }
                    ],
                    "scattergeo": [
                      {
                        "marker": {
                          "colorbar": {
                            "outlinewidth": 0,
                            "ticks": ""
                          }
                        },
                        "type": "scattergeo"
                      }
                    ],
                    "scattergl": [
                      {
                        "marker": {
                          "colorbar": {
                            "outlinewidth": 0,
                            "ticks": ""
                          }
                        },
                        "type": "scattergl"
                      }
                    ],
                    "scattermapbox": [
                      {
                        "marker": {
                          "colorbar": {
                            "outlinewidth": 0,
                            "ticks": ""
                          }
                        },
                        "type": "scattermapbox"
                      }
                    ],
                    "scatterpolar": [
                      {
                        "marker": {
                          "colorbar": {
                            "outlinewidth": 0,
                            "ticks": ""
                          }
                        },
                        "type": "scatterpolar"
                      }
                    ],
                    "scatterpolargl": [
                      {
                        "marker": {
                          "colorbar": {
                            "outlinewidth": 0,
                            "ticks": ""
                          }
                        },
                        "type": "scatterpolargl"
                      }
                    ],
                    "scatterternary": [
                      {
                        "marker": {
                          "colorbar": {
                            "outlinewidth": 0,
                            "ticks": ""
                          }
                        },
                        "type": "scatterternary"
                      }
                    ],
                    "surface": [
                      {
                        "colorbar": {
                          "outlinewidth": 0,
                          "ticks": ""
                        },
                        "colorscale": [
                          [
                            0,
                            "#0d0887"
                          ],
                          [
                            0.1111111111111111,
                            "#46039f"
                          ],
                          [
                            0.2222222222222222,
                            "#7201a8"
                          ],
                          [
                            0.3333333333333333,
                            "#9c179e"
                          ],
                          [
                            0.4444444444444444,
                            "#bd3786"
                          ],
                          [
                            0.5555555555555556,
                            "#d8576b"
                          ],
                          [
                            0.6666666666666666,
                            "#ed7953"
                          ],
                          [
                            0.7777777777777778,
                            "#fb9f3a"
                          ],
                          [
                            0.8888888888888888,
                            "#fdca26"
                          ],
                          [
                            1,
                            "#f0f921"
                          ]
                        ],
                        "type": "surface"
                      }
                    ],
                    "table": [
                      {
                        "cells": {
                          "fill": {
                            "color": "#EBF0F8"
                          },
                          "line": {
                            "color": "white"
                          }
                        },
                        "header": {
                          "fill": {
                            "color": "#C8D4E3"
                          },
                          "line": {
                            "color": "white"
                          }
                        },
                        "type": "table"
                      }
                    ]
                  },
                  "layout": {
                    "annotationdefaults": {
                      "arrowcolor": "#2a3f5f",
                      "arrowhead": 0,
                      "arrowwidth": 1
                    },
                    "autotypenumbers": "strict",
                    "coloraxis": {
                      "colorbar": {
                        "outlinewidth": 0,
                        "ticks": ""
                      }
                    },
                    "colorscale": {
                      "diverging": [
                        [
                          0,
                          "#8e0152"
                        ],
                        [
                          0.1,
                          "#c51b7d"
                        ],
                        [
                          0.2,
                          "#de77ae"
                        ],
                        [
                          0.3,
                          "#f1b6da"
                        ],
                        [
                          0.4,
                          "#fde0ef"
                        ],
                        [
                          0.5,
                          "#f7f7f7"
                        ],
                        [
                          0.6,
                          "#e6f5d0"
                        ],
                        [
                          0.7,
                          "#b8e186"
                        ],
                        [
                          0.8,
                          "#7fbc41"
                        ],
                        [
                          0.9,
                          "#4d9221"
                        ],
                        [
                          1,
                          "#276419"
                        ]
                      ],
                      "sequential": [
                        [
                          0,
                          "#0d0887"
                        ],
                        [
                          0.1111111111111111,
                          "#46039f"
                        ],
                        [
                          0.2222222222222222,
                          "#7201a8"
                        ],
                        [
                          0.3333333333333333,
                          "#9c179e"
                        ],
                        [
                          0.4444444444444444,
                          "#bd3786"
                        ],
                        [
                          0.5555555555555556,
                          "#d8576b"
                        ],
                        [
                          0.6666666666666666,
                          "#ed7953"
                        ],
                        [
                          0.7777777777777778,
                          "#fb9f3a"
                        ],
                        [
                          0.8888888888888888,
                          "#fdca26"
                        ],
                        [
                          1,
                          "#f0f921"
                        ]
                      ],
                      "sequentialminus": [
                        [
                          0,
                          "#0d0887"
                        ],
                        [
                          0.1111111111111111,
                          "#46039f"
                        ],
                        [
                          0.2222222222222222,
                          "#7201a8"
                        ],
                        [
                          0.3333333333333333,
                          "#9c179e"
                        ],
                        [
                          0.4444444444444444,
                          "#bd3786"
                        ],
                        [
                          0.5555555555555556,
                          "#d8576b"
                        ],
                        [
                          0.6666666666666666,
                          "#ed7953"
                        ],
                        [
                          0.7777777777777778,
                          "#fb9f3a"
                        ],
                        [
                          0.8888888888888888,
                          "#fdca26"
                        ],
                        [
                          1,
                          "#f0f921"
                        ]
                      ]
                    },
                    "colorway": [
                      "#636efa",
                      "#EF553B",
                      "#00cc96",
                      "#ab63fa",
                      "#FFA15A",
                      "#19d3f3",
                      "#FF6692",
                      "#B6E880",
                      "#FF97FF",
                      "#FECB52"
                    ],
                    "font": {
                      "color": "#2a3f5f"
                    },
                    "geo": {
                      "bgcolor": "white",
                      "lakecolor": "white",
                      "landcolor": "#E5ECF6",
                      "showlakes": true,
                      "showland": true,
                      "subunitcolor": "white"
                    },
                    "hoverlabel": {
                      "align": "left"
                    },
                    "hovermode": "closest",
                    "mapbox": {
                      "style": "light"
                    },
                    "paper_bgcolor": "white",
                    "plot_bgcolor": "#E5ECF6",
                    "polar": {
                      "angularaxis": {
                        "gridcolor": "white",
                        "linecolor": "white",
                        "ticks": ""
                      },
                      "bgcolor": "#E5ECF6",
                      "radialaxis": {
                        "gridcolor": "white",
                        "linecolor": "white",
                        "ticks": ""
                      }
                    },
                    "scene": {
                      "xaxis": {
                        "backgroundcolor": "#E5ECF6",
                        "gridcolor": "white",
                        "gridwidth": 2,
                        "linecolor": "white",
                        "showbackground": true,
                        "ticks": "",
                        "zerolinecolor": "white"
                      },
                      "yaxis": {
                        "backgroundcolor": "#E5ECF6",
                        "gridcolor": "white",
                        "gridwidth": 2,
                        "linecolor": "white",
                        "showbackground": true,
                        "ticks": "",
                        "zerolinecolor": "white"
                      },
                      "zaxis": {
                        "backgroundcolor": "#E5ECF6",
                        "gridcolor": "white",
                        "gridwidth": 2,
                        "linecolor": "white",
                        "showbackground": true,
                        "ticks": "",
                        "zerolinecolor": "white"
                      }
                    },
                    "shapedefaults": {
                      "line": {
                        "color": "#2a3f5f"
                      }
                    },
                    "ternary": {
                      "aaxis": {
                        "gridcolor": "white",
                        "linecolor": "white",
                        "ticks": ""
                      },
                      "baxis": {
                        "gridcolor": "white",
                        "linecolor": "white",
                        "ticks": ""
                      },
                      "bgcolor": "#E5ECF6",
                      "caxis": {
                        "gridcolor": "white",
                        "linecolor": "white",
                        "ticks": ""
                      }
                    },
                    "title": {
                      "x": 0.05
                    },
                    "xaxis": {
                      "automargin": true,
                      "gridcolor": "white",
                      "linecolor": "white",
                      "ticks": "",
                      "title": {
                        "standoff": 15
                      },
                      "zerolinecolor": "white",
                      "zerolinewidth": 2
                    },
                    "yaxis": {
                      "automargin": true,
                      "gridcolor": "white",
                      "linecolor": "white",
                      "ticks": "",
                      "title": {
                        "standoff": 15
                      },
                      "zerolinecolor": "white",
                      "zerolinewidth": 2
                    }
                  }
                },
                "xaxis": {
                  "anchor": "y",
                  "domain": [
                    0,
                    1
                  ],
                  "title": {
                    "text": "value"
                  }
                },
                "yaxis": {
                  "anchor": "x",
                  "domain": [
                    0,
                    1
                  ],
                  "title": {
                    "text": "index"
                  }
                }
              }
            }
          },
          "metadata": {},
          "output_type": "display_data"
        }
      ],
      "source": [
        "corr_data = data.corr()\n",
        "\n",
        "\n",
        "fig = px.density_heatmap(\n",
        "    corr_data,\n",
        "    x=corr_data.columns,\n",
        ")\n",
        "fig.show()"
      ]
    },
    {
      "cell_type": "code",
      "execution_count": 55,
      "id": "adf762d5",
      "metadata": {},
      "outputs": [
        {
          "data": {
            "text/html": [
              "<div>\n",
              "<style scoped>\n",
              "    .dataframe tbody tr th:only-of-type {\n",
              "        vertical-align: middle;\n",
              "    }\n",
              "\n",
              "    .dataframe tbody tr th {\n",
              "        vertical-align: top;\n",
              "    }\n",
              "\n",
              "    .dataframe thead th {\n",
              "        text-align: right;\n",
              "    }\n",
              "</style>\n",
              "<table border=\"1\" class=\"dataframe\">\n",
              "  <thead>\n",
              "    <tr style=\"text-align: right;\">\n",
              "      <th></th>\n",
              "      <th>Well</th>\n",
              "      <th>Por</th>\n",
              "      <th>Perm</th>\n",
              "      <th>AI</th>\n",
              "      <th>Brittle</th>\n",
              "      <th>TOC</th>\n",
              "      <th>VR</th>\n",
              "      <th>Prod</th>\n",
              "    </tr>\n",
              "  </thead>\n",
              "  <tbody>\n",
              "    <tr>\n",
              "      <th>Well</th>\n",
              "      <td>1.000000</td>\n",
              "      <td>0.068927</td>\n",
              "      <td>0.077928</td>\n",
              "      <td>0.041483</td>\n",
              "      <td>-0.079252</td>\n",
              "      <td>0.022624</td>\n",
              "      <td>-0.007279</td>\n",
              "      <td>0.026817</td>\n",
              "    </tr>\n",
              "    <tr>\n",
              "      <th>Por</th>\n",
              "      <td>0.068927</td>\n",
              "      <td>1.000000</td>\n",
              "      <td>0.760546</td>\n",
              "      <td>-0.461549</td>\n",
              "      <td>-0.218570</td>\n",
              "      <td>0.711831</td>\n",
              "      <td>0.111860</td>\n",
              "      <td>0.861910</td>\n",
              "    </tr>\n",
              "    <tr>\n",
              "      <th>Perm</th>\n",
              "      <td>0.077928</td>\n",
              "      <td>0.760546</td>\n",
              "      <td>1.000000</td>\n",
              "      <td>-0.239636</td>\n",
              "      <td>-0.124017</td>\n",
              "      <td>0.471746</td>\n",
              "      <td>0.051023</td>\n",
              "      <td>0.727426</td>\n",
              "    </tr>\n",
              "    <tr>\n",
              "      <th>AI</th>\n",
              "      <td>0.041483</td>\n",
              "      <td>-0.461549</td>\n",
              "      <td>-0.239636</td>\n",
              "      <td>1.000000</td>\n",
              "      <td>0.127599</td>\n",
              "      <td>-0.531864</td>\n",
              "      <td>0.499143</td>\n",
              "      <td>-0.390835</td>\n",
              "    </tr>\n",
              "    <tr>\n",
              "      <th>Brittle</th>\n",
              "      <td>-0.079252</td>\n",
              "      <td>-0.218570</td>\n",
              "      <td>-0.124017</td>\n",
              "      <td>0.127599</td>\n",
              "      <td>1.000000</td>\n",
              "      <td>-0.214282</td>\n",
              "      <td>0.317929</td>\n",
              "      <td>0.237155</td>\n",
              "    </tr>\n",
              "    <tr>\n",
              "      <th>TOC</th>\n",
              "      <td>0.022624</td>\n",
              "      <td>0.711831</td>\n",
              "      <td>0.471746</td>\n",
              "      <td>-0.531864</td>\n",
              "      <td>-0.214282</td>\n",
              "      <td>1.000000</td>\n",
              "      <td>0.299483</td>\n",
              "      <td>0.654445</td>\n",
              "    </tr>\n",
              "    <tr>\n",
              "      <th>VR</th>\n",
              "      <td>-0.007279</td>\n",
              "      <td>0.111860</td>\n",
              "      <td>0.051023</td>\n",
              "      <td>0.499143</td>\n",
              "      <td>0.317929</td>\n",
              "      <td>0.299483</td>\n",
              "      <td>1.000000</td>\n",
              "      <td>0.323182</td>\n",
              "    </tr>\n",
              "    <tr>\n",
              "      <th>Prod</th>\n",
              "      <td>0.026817</td>\n",
              "      <td>0.861910</td>\n",
              "      <td>0.727426</td>\n",
              "      <td>-0.390835</td>\n",
              "      <td>0.237155</td>\n",
              "      <td>0.654445</td>\n",
              "      <td>0.323182</td>\n",
              "      <td>1.000000</td>\n",
              "    </tr>\n",
              "  </tbody>\n",
              "</table>\n",
              "</div>"
            ],
            "text/plain": [
              "             Well       Por      Perm        AI   Brittle       TOC        VR  \\\n",
              "Well     1.000000  0.068927  0.077928  0.041483 -0.079252  0.022624 -0.007279   \n",
              "Por      0.068927  1.000000  0.760546 -0.461549 -0.218570  0.711831  0.111860   \n",
              "Perm     0.077928  0.760546  1.000000 -0.239636 -0.124017  0.471746  0.051023   \n",
              "AI       0.041483 -0.461549 -0.239636  1.000000  0.127599 -0.531864  0.499143   \n",
              "Brittle -0.079252 -0.218570 -0.124017  0.127599  1.000000 -0.214282  0.317929   \n",
              "TOC      0.022624  0.711831  0.471746 -0.531864 -0.214282  1.000000  0.299483   \n",
              "VR      -0.007279  0.111860  0.051023  0.499143  0.317929  0.299483  1.000000   \n",
              "Prod     0.026817  0.861910  0.727426 -0.390835  0.237155  0.654445  0.323182   \n",
              "\n",
              "             Prod  \n",
              "Well     0.026817  \n",
              "Por      0.861910  \n",
              "Perm     0.727426  \n",
              "AI      -0.390835  \n",
              "Brittle  0.237155  \n",
              "TOC      0.654445  \n",
              "VR       0.323182  \n",
              "Prod     1.000000  "
            ]
          },
          "metadata": {},
          "output_type": "display_data"
        },
        {
          "name": "stdout",
          "output_type": "stream",
          "text": [
            "Ранг матрицы 8\n",
            "Определитель матрицы 0.0007299388072652095\n"
          ]
        }
      ],
      "source": [
        "display(corr_data)\n",
        "print('Ранг матрицы', np.linalg.matrix_rank(corr_data))\n",
        "print('Определитель матрицы', np.linalg.det(corr_data))"
      ]
    },
    {
      "cell_type": "markdown",
      "id": "9a56013d",
      "metadata": {
        "id": "9a56013d"
      },
      "source": [
        "* Какие факторы сильнее всего коррелируют с целевой переменной?<br>\n",
        "    Сильнее всего с целевой переменной коррелируют показатели пористости и проницаемости шахты (Por, Perm)<br>\n",
        "\n",
        "* Является ли корреляционная матрица плохо обусловенной (близок ли её опредитель к нулю)?<br>\n",
        "    Корреляционная матрица плохо обусловенной, так как её определитель близок к нулю<br>\n",
        "\n",
        "* Что вы можете сказать о наличии коллинераности/мультиколлинеарности в данных? <br>\n",
        "    Данные мультиколлениарны, ранг матрицы максимален, факторы формально линейно независимы и определитель корреляционной матрицы близок к 0<br>\n",
        "\n",
        "* Применима ли в данном случае модель классической линейной регрессии по методу наименьших квадратов и почему? <br>\n",
        "    Мультиколлинеарность усложняет интерпретацию параметров регрессии, так как они теряют смысл.<br>"
      ]
    },
    {
      "cell_type": "markdown",
      "id": "43fd91c4",
      "metadata": {
        "id": "43fd91c4"
      },
      "source": [
        "### Задание 5.2. (2 балла)\n",
        "\n",
        "Создайте матрицу наблюдений `X` и вектор правильных ответов `y`. В качестве факторов для матрицы наблюдений возьмите все имеющиеся в данных признаки. \n",
        "\n",
        "Постройте модель линейной регрессии по методу наименьших квадратов. Для этого воспользуйтесь матричной формулой МНК и инструментарием библиотеки numpy. \n",
        "\n",
        "Выведите на экран полученные оценки коэффициентов модели, округлённые до целого.\n",
        "\n",
        "Приведите подробные выводы по полученным результатам, ответив на следующие вопросы:\n",
        "* Есть ли в ваших данных признаки, которые, согласно модели, можно назвать неинформативными, то есть они не оказывают влияния на целевую переменную или оказывают шумовое влияние?\n",
        "* Приведите интерпретацию нескольких (двух или трёх) коэффициентов полученной модели линейной регрессии.\n"
      ]
    },
    {
      "cell_type": "markdown",
      "id": "QtNtTUzI4Cpq",
      "metadata": {
        "id": "QtNtTUzI4Cpq"
      },
      "source": [
        "**Критерии оценивания:**\n",
        "- Задание выполнено верно, учтены все условия (**2 балла**): \n",
        "    * приведён код для нахождения параметров модели линейной регрессии с помощью матричной формулы МНК;\n",
        "    * на основе полученных параметров даны верные ответы на поставленные вопросы;\n",
        "    * приведена корректная интерпретация нескольких коэффициентов полученной модели линейной регрессии.\n",
        "\n",
        "- Задание выполнено верно, но не учтено одно из условий (**1 балл**).\n",
        "- Задание выполнено неверно, не учтено несколько условий (**0 баллов**)."
      ]
    },
    {
      "cell_type": "code",
      "execution_count": 62,
      "id": "5724288c",
      "metadata": {
        "id": "5724288c"
      },
      "outputs": [
        {
          "name": "stdout",
          "output_type": "stream",
          "text": [
            "Оценка коэффициентов модели      Prod\n",
            "0 -1232.0\n",
            "1     0.0\n",
            "2   230.0\n",
            "3   116.0\n",
            "4  -365.0\n",
            "5    25.0\n",
            "6   -78.0\n",
            "7   785.0\n"
          ]
        }
      ],
      "source": [
        "# Составляем матрицу признаков с интерцептором\n",
        "A = np.column_stack((np.ones(200), data[['Well', 'Por', 'Perm', 'AI', 'Brittle', 'TOC', 'VR']]))\n",
        "# Составляем вектор целевой переменной\n",
        "y = data[['Prod']]\n",
        "# Считаем оценку коэффициентов модели\n",
        "w_hat=np.linalg.inv(A.T@A)@A.T@y\n",
        "print('Оценка коэффициентов модели', round(w_hat))"
      ]
    },
    {
      "cell_type": "markdown",
      "id": "bab9ee21",
      "metadata": {
        "id": "bab9ee21"
      },
      "source": [
        "* Есть ли в ваших данных признаки, которые, согласно модели, можно назвать неинформативными, то есть они не оказывают влияния на целевую переменную или оказывают шумовое влияние?<br>\n",
        "    Признак Well, который является номером скважины является неифнормативным, чтобы сделать вывод о неинформативности других призаков необходимо произвести стандратизацию признаков и уже после провести оценку коэффициентов модели<br>\n",
        "\n",
        "* Приведите интерпретацию нескольких (двух или трёх) коэффициентов полученной модели линейной регрессии.<br>\n",
        "    Значение коэффициента оценки модели w_i означает, на сколько в среднем изменится медианная добыча (млн. кубических футов) при увеличении на 1. Например, при изменении пористости скважины 'Por' на 1%, то медианная добыча (в среднем) увеличиться на 230 млн. кубических футов. Тогда как изменение общего органического углерода на 1%, медианная добыча (в среднем) уменьшиться на 78 млн. кубических футов."
      ]
    },
    {
      "cell_type": "markdown",
      "id": "4a05a4ac",
      "metadata": {
        "id": "4a05a4ac"
      },
      "source": [
        "### Задание 5.3. (1 балл)\n",
        "\n",
        "Теперь потренируемся строить предсказание для наблюдений целевой переменной. \n",
        "\n",
        "**а)** Постройте прогноз выработки газа для скважины со следующими параметрами:\n",
        "\n",
        "```python\n",
        "{\n",
        "    'Well': 106.0,\n",
        "    'Por': 15.32,\n",
        "    'Perm': 3.71,\n",
        "    'AI': 3.29,\n",
        "    'Brittle': 55.99,\n",
        "    'TOC': 1.35,\n",
        "    'VR': 2.42\n",
        " }\n",
        "```\n",
        "\n",
        "Рассчитайте абсолютную ошибку построенного вами прогноза для предложенной скважины (в миллионах кубических футов в день), если известно, что на этой скважине производится `4748.315024` миллионов кубических футов газа в день. \n",
        "\n",
        "**б)** Постройте прогноз выработки газа для всех скважин из обучающего набора данных. Выберите метрику, по которой вы будете оценивать качество регрессионных моделей и сравнивать их между собой (можно использовать несколько метрик, но не более двух).\n",
        "\n",
        "Рассчитайте значение выбранной метрики для вашей модели. Приведите интерпретацию полученного результата. "
      ]
    },
    {
      "cell_type": "markdown",
      "id": "qUDcep5Q5GWU",
      "metadata": {
        "id": "qUDcep5Q5GWU"
      },
      "source": [
        "**Критерии оценивания:**\n",
        "- Задание выполнено верно, учтены все условия (**1 балл**): \n",
        "    * приведён код для построения прогноза выработки газа на указанной скважине и рассчитана абсолютная ошибка прогноза для этой скважины;\n",
        "    * выбрана корректная для поставленной задачи метрика (или метрики) оценки качества модели и приведён код для расчёта этой метрики на всём обучающем наборе данных;\n",
        "    * приведена корректная интерпретация полученного результата.\n",
        "\n",
        "- Задание выполнено верно, но не учтено одно из условий, или задание выполнено неверно (**0 баллов**)."
      ]
    },
    {
      "cell_type": "code",
      "execution_count": 127,
      "id": "e4291db0",
      "metadata": {
        "id": "e4291db0"
      },
      "outputs": [
        {
          "name": "stdout",
          "output_type": "stream",
          "text": [
            "Прогноз добычи Prod для новых данных [4723.06405371]\n",
            "Абсолютная ошибка [25.25097029]\n",
            "Средняя абсолютная ошибка MAE 153.62297086558195\n",
            "Средняя абсолютная процентная ошибка MAPE 3.63\n"
          ]
        }
      ],
      "source": [
        "# [интерсептор, 'Well', 'Por', 'Perm', 'AI', 'Brittle', 'TOC', 'VR']\n",
        "new_data = np.array([1, 106.0, 15.32, 3.71, 3.29, 55.99, 1.35, 2.42])\n",
        "prod_real = 4748.315024\n",
        "prod_new = (new_data@w_hat).values\n",
        "print('Прогноз добычи Prod для новых данных', prod_new)\n",
        "print('Абсолютная ошибка', prod_real - prod_new)\n",
        "\n",
        "# Составляем матрицу обучающего набора данных вместе с интерцептором\n",
        "data_with_interceptor = np.column_stack((np.ones(200), data[['Well', 'Por', 'Perm', 'AI', 'Brittle', 'TOC', 'VR']]))\n",
        "data_copy = data.copy()\n",
        "# Получаем колонки Prod_Forecast - прогноз по добыче на основе получивших коэф оценки и \n",
        "# Prod_Absolute - абсолютная ошибка между реальным значением и спрогнозированным\n",
        "data_copy['Prod_Forecast'] = data_with_interceptor@w_hat\n",
        "data_copy['Prod_Absolute'] = data_copy['Prod'] - data_copy['Prod_Forecast']\n",
        "print('Средняя абсолютная ошибка MAE', sum(abs(data_copy['Prod'] - data_copy['Prod_Forecast'])) / data_copy.shape[0])\n",
        "print('Средняя абсолютная процентная ошибка MAPE', round((sum((abs(data_copy['Prod'] - data_copy['Prod_Forecast'])) / abs(data_copy['Prod'])) / data_copy.shape[0]) * 100, 2))"
      ]
    },
    {
      "cell_type": "markdown",
      "id": "c9bee4bc",
      "metadata": {
        "id": "c9bee4bc"
      },
      "source": [
        "На основе полученных ошибок можно сделать вывод, что полученные коэффициенты оценки модели позволяют прогнозировать значения добычи с точностью в среднем +-155 (млн. куб. футов)"
      ]
    },
    {
      "cell_type": "markdown",
      "id": "0c25c3aa",
      "metadata": {
        "id": "0c25c3aa"
      },
      "source": [
        "### Задание 5.4. (1 балл)\n",
        "\n",
        "Настало время анализа построенной модели. Посмотрите на коэффициенты и сравните их знаки со значениями выборочных корреляций между целевым признаком и факторами, которые вы нашли ранее.\n",
        "\n",
        "Дайте развёрнутые ответы на следующие вопросы:\n",
        "\n",
        "* Есть ли в вашей модели фактор, при котором коэффициент в модели линейной регрессии противоречит соответствующему коэффициенту корреляции? Например, корреляция говорит, что зависимость между фактором и целевой переменной прямая, а модель говорит обратное. Если таких факторов несколько, укажите их все.\n",
        "* Как вы считаете, с чем связано полученное противоречие результатов?"
      ]
    },
    {
      "cell_type": "markdown",
      "id": "ngJ3UdYb6Ll6",
      "metadata": {
        "id": "ngJ3UdYb6Ll6"
      },
      "source": [
        "**Критерии оценивания:**\n",
        "\n",
        "- Задание выполнено верно, даны корректные развёрнутые ответы на все поставленные в задании вопросы (**1 балл**). \n",
        "\n",
        "- Задание выполнено неверно, даны некорректные ответы на один или несколько поставленных в задании вопросов (**0 баллов**)."
      ]
    },
    {
      "cell_type": "code",
      "execution_count": 183,
      "id": "v-zIxRPY9wK7",
      "metadata": {
        "id": "v-zIxRPY9wK7"
      },
      "outputs": [
        {
          "name": "stdout",
          "output_type": "stream",
          "text": [
            "Таблица коэффициентов корреляции\n"
          ]
        },
        {
          "data": {
            "text/html": [
              "<div>\n",
              "<style scoped>\n",
              "    .dataframe tbody tr th:only-of-type {\n",
              "        vertical-align: middle;\n",
              "    }\n",
              "\n",
              "    .dataframe tbody tr th {\n",
              "        vertical-align: top;\n",
              "    }\n",
              "\n",
              "    .dataframe thead th {\n",
              "        text-align: right;\n",
              "    }\n",
              "</style>\n",
              "<table border=\"1\" class=\"dataframe\">\n",
              "  <thead>\n",
              "    <tr style=\"text-align: right;\">\n",
              "      <th></th>\n",
              "      <th>Well</th>\n",
              "      <th>Por</th>\n",
              "      <th>Perm</th>\n",
              "      <th>AI</th>\n",
              "      <th>Brittle</th>\n",
              "      <th>TOC</th>\n",
              "      <th>VR</th>\n",
              "      <th>Prod</th>\n",
              "    </tr>\n",
              "  </thead>\n",
              "  <tbody>\n",
              "    <tr>\n",
              "      <th>Well</th>\n",
              "      <td>1.000000</td>\n",
              "      <td>0.068927</td>\n",
              "      <td>0.077928</td>\n",
              "      <td>0.041483</td>\n",
              "      <td>-0.079252</td>\n",
              "      <td>0.022624</td>\n",
              "      <td>-0.007279</td>\n",
              "      <td>0.026817</td>\n",
              "    </tr>\n",
              "    <tr>\n",
              "      <th>Por</th>\n",
              "      <td>0.068927</td>\n",
              "      <td>1.000000</td>\n",
              "      <td>0.760546</td>\n",
              "      <td>-0.461549</td>\n",
              "      <td>-0.218570</td>\n",
              "      <td>0.711831</td>\n",
              "      <td>0.111860</td>\n",
              "      <td>0.861910</td>\n",
              "    </tr>\n",
              "    <tr>\n",
              "      <th>Perm</th>\n",
              "      <td>0.077928</td>\n",
              "      <td>0.760546</td>\n",
              "      <td>1.000000</td>\n",
              "      <td>-0.239636</td>\n",
              "      <td>-0.124017</td>\n",
              "      <td>0.471746</td>\n",
              "      <td>0.051023</td>\n",
              "      <td>0.727426</td>\n",
              "    </tr>\n",
              "    <tr>\n",
              "      <th>AI</th>\n",
              "      <td>0.041483</td>\n",
              "      <td>-0.461549</td>\n",
              "      <td>-0.239636</td>\n",
              "      <td>1.000000</td>\n",
              "      <td>0.127599</td>\n",
              "      <td>-0.531864</td>\n",
              "      <td>0.499143</td>\n",
              "      <td>-0.390835</td>\n",
              "    </tr>\n",
              "    <tr>\n",
              "      <th>Brittle</th>\n",
              "      <td>-0.079252</td>\n",
              "      <td>-0.218570</td>\n",
              "      <td>-0.124017</td>\n",
              "      <td>0.127599</td>\n",
              "      <td>1.000000</td>\n",
              "      <td>-0.214282</td>\n",
              "      <td>0.317929</td>\n",
              "      <td>0.237155</td>\n",
              "    </tr>\n",
              "    <tr>\n",
              "      <th>TOC</th>\n",
              "      <td>0.022624</td>\n",
              "      <td>0.711831</td>\n",
              "      <td>0.471746</td>\n",
              "      <td>-0.531864</td>\n",
              "      <td>-0.214282</td>\n",
              "      <td>1.000000</td>\n",
              "      <td>0.299483</td>\n",
              "      <td>0.654445</td>\n",
              "    </tr>\n",
              "    <tr>\n",
              "      <th>VR</th>\n",
              "      <td>-0.007279</td>\n",
              "      <td>0.111860</td>\n",
              "      <td>0.051023</td>\n",
              "      <td>0.499143</td>\n",
              "      <td>0.317929</td>\n",
              "      <td>0.299483</td>\n",
              "      <td>1.000000</td>\n",
              "      <td>0.323182</td>\n",
              "    </tr>\n",
              "    <tr>\n",
              "      <th>Prod</th>\n",
              "      <td>0.026817</td>\n",
              "      <td>0.861910</td>\n",
              "      <td>0.727426</td>\n",
              "      <td>-0.390835</td>\n",
              "      <td>0.237155</td>\n",
              "      <td>0.654445</td>\n",
              "      <td>0.323182</td>\n",
              "      <td>1.000000</td>\n",
              "    </tr>\n",
              "  </tbody>\n",
              "</table>\n",
              "</div>"
            ],
            "text/plain": [
              "             Well       Por      Perm        AI   Brittle       TOC        VR  \\\n",
              "Well     1.000000  0.068927  0.077928  0.041483 -0.079252  0.022624 -0.007279   \n",
              "Por      0.068927  1.000000  0.760546 -0.461549 -0.218570  0.711831  0.111860   \n",
              "Perm     0.077928  0.760546  1.000000 -0.239636 -0.124017  0.471746  0.051023   \n",
              "AI       0.041483 -0.461549 -0.239636  1.000000  0.127599 -0.531864  0.499143   \n",
              "Brittle -0.079252 -0.218570 -0.124017  0.127599  1.000000 -0.214282  0.317929   \n",
              "TOC      0.022624  0.711831  0.471746 -0.531864 -0.214282  1.000000  0.299483   \n",
              "VR      -0.007279  0.111860  0.051023  0.499143  0.317929  0.299483  1.000000   \n",
              "Prod     0.026817  0.861910  0.727426 -0.390835  0.237155  0.654445  0.323182   \n",
              "\n",
              "             Prod  \n",
              "Well     0.026817  \n",
              "Por      0.861910  \n",
              "Perm     0.727426  \n",
              "AI      -0.390835  \n",
              "Brittle  0.237155  \n",
              "TOC      0.654445  \n",
              "VR       0.323182  \n",
              "Prod     1.000000  "
            ]
          },
          "metadata": {},
          "output_type": "display_data"
        },
        {
          "name": "stdout",
          "output_type": "stream",
          "text": [
            "Таблица оценки коэффициентов модели\n"
          ]
        },
        {
          "data": {
            "text/html": [
              "<div>\n",
              "<style scoped>\n",
              "    .dataframe tbody tr th:only-of-type {\n",
              "        vertical-align: middle;\n",
              "    }\n",
              "\n",
              "    .dataframe tbody tr th {\n",
              "        vertical-align: top;\n",
              "    }\n",
              "\n",
              "    .dataframe thead th {\n",
              "        text-align: right;\n",
              "    }\n",
              "</style>\n",
              "<table border=\"1\" class=\"dataframe\">\n",
              "  <thead>\n",
              "    <tr style=\"text-align: right;\">\n",
              "      <th></th>\n",
              "      <th>Prod</th>\n",
              "    </tr>\n",
              "  </thead>\n",
              "  <tbody>\n",
              "    <tr>\n",
              "      <th>1</th>\n",
              "      <td>0.050700</td>\n",
              "    </tr>\n",
              "    <tr>\n",
              "      <th>2</th>\n",
              "      <td>230.179140</td>\n",
              "    </tr>\n",
              "    <tr>\n",
              "      <th>3</th>\n",
              "      <td>116.239006</td>\n",
              "    </tr>\n",
              "    <tr>\n",
              "      <th>4</th>\n",
              "      <td>-365.202301</td>\n",
              "    </tr>\n",
              "    <tr>\n",
              "      <th>5</th>\n",
              "      <td>24.994370</td>\n",
              "    </tr>\n",
              "    <tr>\n",
              "      <th>6</th>\n",
              "      <td>-78.400929</td>\n",
              "    </tr>\n",
              "    <tr>\n",
              "      <th>7</th>\n",
              "      <td>785.259815</td>\n",
              "    </tr>\n",
              "  </tbody>\n",
              "</table>\n",
              "</div>"
            ],
            "text/plain": [
              "         Prod\n",
              "1    0.050700\n",
              "2  230.179140\n",
              "3  116.239006\n",
              "4 -365.202301\n",
              "5   24.994370\n",
              "6  -78.400929\n",
              "7  785.259815"
            ]
          },
          "metadata": {},
          "output_type": "display_data"
        }
      ],
      "source": [
        "print('Таблица коэффициентов корреляции')\n",
        "display(corr_data)\n",
        "print('Таблица оценки коэффициентов модели')\n",
        "display(w_hat[1:])"
      ]
    },
    {
      "cell_type": "markdown",
      "id": "qeowwIp99yBf",
      "metadata": {
        "id": "qeowwIp99yBf"
      },
      "source": [
        "* Есть ли в вашей модели фактор, при котором коэффициент в модели линейной регрессии противоречит соответствующему коэффициенту корреляции? Например, корреляция говорит, что зависимость между фактором и целевой переменной прямая, а модель говорит обратное. Если таких факторов несколько, укажите их все.<br>\n",
        "    Этим фаткором является TOC\n",
        "\n",
        "* Как вы считаете, с чем связано полученное противоречие результатов?<br>\n",
        "    Это связано с тем что в данной модели есть другие признака/факторы, которые оказывают влияение на TOC, что в свою очередь оказывает влияние на целевую переменную "
      ]
    },
    {
      "cell_type": "markdown",
      "id": "9cea9195",
      "metadata": {
        "id": "9cea9195"
      },
      "source": [
        "### Задание 5.5. (2 балла)\n",
        "\n",
        "* Исключите из данных сильно коррелированные между собой факторы. Под сильной корреляцией в данной задаче будем понимать значения выше `0.7`.\n",
        "\n",
        "Выбирая, какой из коррелированных факторов оставить, руководствуйтесь коэффициентом корреляции с целевой переменной: оставляйте тот фактор, который больше всего коррелирует с целевой переменной (объёмом добычи газа).\n",
        "\n",
        "* Также исключите из данных факторы, для которых корреляция с целевой переменной меньше `0.05`.\n",
        "\n",
        "Постройте модель линейной регрессии на обновлённых после удаления факторов данных по методу наименьших квадратов. Для этого используйте матричную формулу и библиотеку numpy. Выведите значение полученных коэффициентов, округлённых до целого.\n",
        "\n",
        "Сделайте прогноз для всего обучающего набора данных и рассчитайте выбранную вами ранее метрику (или метрики). \n",
        "\n",
        "Дайте подробные ответы на следующие вопросы:\n",
        "\n",
        "* Приведите интерпретацию нескольких полученных коэффициентов (двух или трёх). Сравните их значения с полученными ранее.\n",
        "* Приведите интерпретацию полученных значений метрик. Сравните их значения с полученными ранее. \n",
        "* Удалось ли вам побороть противоречие коэффициентов линейной регрессии и коэффициентов корреляции?"
      ]
    },
    {
      "cell_type": "markdown",
      "id": "vlUYVjJP6oXN",
      "metadata": {
        "id": "vlUYVjJP6oXN"
      },
      "source": [
        "**Критерии оценивания:**\n",
        "- Задание выполнено верно, учтены все условия (**2 балла**): \n",
        "    * отобраны верные факторы;\n",
        "    * на основе отобранных факторов построена модель линейной регрессии с помощью матричной формулы МНК и найдены параметры модели, соответствующие каждому из факторов;\n",
        "    * построен прогноз для всего обучающего набора данных и рассчитано значение метрики (метрика должна быть выбрана корректно);\n",
        "    * даны ответы на все поставленные в задании вопросы.\n",
        "\n",
        "- Задание выполнено верно, но не учтено одно из условий (**1 балл**).\n",
        "- Задание выполнено верно, не учтено несколько из условий (**0 баллов**)."
      ]
    },
    {
      "cell_type": "code",
      "execution_count": 227,
      "id": "5d5ZJ0lX_UHe",
      "metadata": {
        "id": "5d5ZJ0lX_UHe"
      },
      "outputs": [
        {
          "data": {
            "text/html": [
              "<div>\n",
              "<style scoped>\n",
              "    .dataframe tbody tr th:only-of-type {\n",
              "        vertical-align: middle;\n",
              "    }\n",
              "\n",
              "    .dataframe tbody tr th {\n",
              "        vertical-align: top;\n",
              "    }\n",
              "\n",
              "    .dataframe thead th {\n",
              "        text-align: right;\n",
              "    }\n",
              "</style>\n",
              "<table border=\"1\" class=\"dataframe\">\n",
              "  <thead>\n",
              "    <tr style=\"text-align: right;\">\n",
              "      <th></th>\n",
              "      <th>Por</th>\n",
              "      <th>AI</th>\n",
              "      <th>Brittle</th>\n",
              "      <th>VR</th>\n",
              "      <th>Prod</th>\n",
              "    </tr>\n",
              "  </thead>\n",
              "  <tbody>\n",
              "    <tr>\n",
              "      <th>Por</th>\n",
              "      <td>1.000000</td>\n",
              "      <td>-0.461549</td>\n",
              "      <td>-0.218570</td>\n",
              "      <td>0.111860</td>\n",
              "      <td>0.861910</td>\n",
              "    </tr>\n",
              "    <tr>\n",
              "      <th>AI</th>\n",
              "      <td>-0.461549</td>\n",
              "      <td>1.000000</td>\n",
              "      <td>0.127599</td>\n",
              "      <td>0.499143</td>\n",
              "      <td>-0.390835</td>\n",
              "    </tr>\n",
              "    <tr>\n",
              "      <th>Brittle</th>\n",
              "      <td>-0.218570</td>\n",
              "      <td>0.127599</td>\n",
              "      <td>1.000000</td>\n",
              "      <td>0.317929</td>\n",
              "      <td>0.237155</td>\n",
              "    </tr>\n",
              "    <tr>\n",
              "      <th>VR</th>\n",
              "      <td>0.111860</td>\n",
              "      <td>0.499143</td>\n",
              "      <td>0.317929</td>\n",
              "      <td>1.000000</td>\n",
              "      <td>0.323182</td>\n",
              "    </tr>\n",
              "    <tr>\n",
              "      <th>Prod</th>\n",
              "      <td>0.861910</td>\n",
              "      <td>-0.390835</td>\n",
              "      <td>0.237155</td>\n",
              "      <td>0.323182</td>\n",
              "      <td>1.000000</td>\n",
              "    </tr>\n",
              "  </tbody>\n",
              "</table>\n",
              "</div>"
            ],
            "text/plain": [
              "              Por        AI   Brittle        VR      Prod\n",
              "Por      1.000000 -0.461549 -0.218570  0.111860  0.861910\n",
              "AI      -0.461549  1.000000  0.127599  0.499143 -0.390835\n",
              "Brittle -0.218570  0.127599  1.000000  0.317929  0.237155\n",
              "VR       0.111860  0.499143  0.317929  1.000000  0.323182\n",
              "Prod     0.861910 -0.390835  0.237155  0.323182  1.000000"
            ]
          },
          "execution_count": 227,
          "metadata": {},
          "output_type": "execute_result"
        }
      ],
      "source": [
        "# Удалим из нашей модели признак \"Perm\" и признак \"Toc\", так как онb имеют большую корреляцию с \"Por\". \n",
        "# Также удалим признак \"Well\", так как он не несет никакой информации для нас, что понятно из контекста и видно из корреляционных коэффициентов\n",
        "data_copy = data.drop(['Perm', 'TOC', 'Well'], axis=1)\n",
        "data_copy.corr()"
      ]
    },
    {
      "cell_type": "code",
      "execution_count": 226,
      "id": "d08fcb72",
      "metadata": {},
      "outputs": [
        {
          "name": "stdout",
          "output_type": "stream",
          "text": [
            "Оценка коэффициентов модели\n"
          ]
        },
        {
          "data": {
            "text/html": [
              "<div>\n",
              "<style scoped>\n",
              "    .dataframe tbody tr th:only-of-type {\n",
              "        vertical-align: middle;\n",
              "    }\n",
              "\n",
              "    .dataframe tbody tr th {\n",
              "        vertical-align: top;\n",
              "    }\n",
              "\n",
              "    .dataframe thead th {\n",
              "        text-align: right;\n",
              "    }\n",
              "</style>\n",
              "<table border=\"1\" class=\"dataframe\">\n",
              "  <thead>\n",
              "    <tr style=\"text-align: right;\">\n",
              "      <th></th>\n",
              "      <th>Prod</th>\n",
              "    </tr>\n",
              "  </thead>\n",
              "  <tbody>\n",
              "    <tr>\n",
              "      <th>0</th>\n",
              "      <td>-1835.0</td>\n",
              "    </tr>\n",
              "    <tr>\n",
              "      <th>1</th>\n",
              "      <td>293.0</td>\n",
              "    </tr>\n",
              "    <tr>\n",
              "      <th>2</th>\n",
              "      <td>517.0</td>\n",
              "    </tr>\n",
              "    <tr>\n",
              "      <th>3</th>\n",
              "      <td>-200.0</td>\n",
              "    </tr>\n",
              "    <tr>\n",
              "      <th>4</th>\n",
              "      <td>28.0</td>\n",
              "    </tr>\n",
              "  </tbody>\n",
              "</table>\n",
              "</div>"
            ],
            "text/plain": [
              "     Prod\n",
              "0 -1835.0\n",
              "1   293.0\n",
              "2   517.0\n",
              "3  -200.0\n",
              "4    28.0"
            ]
          },
          "metadata": {},
          "output_type": "display_data"
        },
        {
          "name": "stdout",
          "output_type": "stream",
          "text": [
            "Средняя абсолютная ошибка MAE 171.43\n",
            "Средняя абсолютная процентная ошибка MAPE 4.04\n"
          ]
        }
      ],
      "source": [
        "A = np.column_stack((np.ones(200), data_copy[['Por', 'VR', 'AI', 'Brittle',]]))\n",
        "# Составляем вектор целевой переменной\n",
        "y = data_copy[['Prod']]\n",
        "\n",
        "w_hat = np.linalg.inv(A.T@A)@A.T@y\n",
        "print('Оценка коэффициентов модели')\n",
        "display(round(w_hat))\n",
        "\n",
        "# Получаем колонки Prod_Forecast - прогноз по добыче на основе получивших коэф оценки и \n",
        "# Prod_Absolute - абсолютная ошибка между реальным значением и спрогнозированным\n",
        "data_copy['Prod_Forecast'] = A@w_hat\n",
        "data_copy['Prod_Absolute'] = data_copy['Prod'] - data_copy['Prod_Forecast']\n",
        "print('Средняя абсолютная ошибка MAE', round(sum(abs(data_copy['Prod'] - data_copy['Prod_Forecast'])) / data_copy.shape[0], 2))\n",
        "print('Средняя абсолютная процентная ошибка MAPE', round((sum((abs(data_copy['Prod'] - data_copy['Prod_Forecast'])) / abs(data_copy['Prod'])) / data_copy.shape[0]) * 100, 2))"
      ]
    },
    {
      "cell_type": "markdown",
      "id": "KxbYvMDo_WLe",
      "metadata": {
        "id": "KxbYvMDo_WLe"
      },
      "source": [
        "* Приведите интерпретацию нескольких полученных коэффициентов (двух или трёх). Сравните их значения с полученными ранее. <br>\n",
        "Значение коэффициента оценки модели w_i означает, на сколько в среднем изменится медианная добыча (млн. кубических футов) при увеличении на 1. Например, при изменении пористости скважины 'Por' на 1%, то медианная добыча (в среднем) увеличиться на 293 млн. кубических футов. Тогда как изменение акустический импеданс на 1 единицу, медианная добыча (в среднем) уменьшиться на 200 млн. кубических футов.<br>\n",
        "\n",
        "    Таблица 1. Сравнение коэффициентов оценки\n",
        "    | Название | Было | Стало |\n",
        "    |:----:|:----:|:----:|\n",
        "    | Интрецептор  | -1231  | -1835  |\n",
        "    | Por  | 230  | 293  |\n",
        "    | VR   | 785  | 517  |\n",
        "    | AI   | -365 | -200  |\n",
        "    | Brittle | 25 | 28  |\n",
        "<br>\n",
        "\n",
        "* Приведите интерпретацию полученных значений метрик. Сравните их значения с полученными ранее.<br>\n",
        "\n",
        "С удалением признаков согласно заданию можно заметить увеличение ошибки, связано это может быть с несколькими причинами:<br>\n",
        "\n",
        "1. Упущенная информация - коррелированные признаки могут представлять собой разные стороны одного и того же фактора и удаление одного признака может приводить к ухудшению точности всей модели. Пример: признаки \"количество комнат\" и \"площадь кваритиры\" могут сильно коррелировать, но оба важны для предсказания цены квартиры\n",
        "2. Сложная (нелинейная) зависимость между признаками<br>\n",
        "<br>\n",
        "Таблица 2. Сравнение метрик\n",
        "    | Название | Было | Стало |\n",
        "    |:----:|:----:|:----:|\n",
        "    | MAE  | 153.62  | 171.43  |\n",
        "    | MAPE   | 3.63  | 4.04  |\n",
        "<br>\n",
        "\n",
        "* Удалось ли вам побороть противоречие коэффициентов линейной регрессии и коэффициентов корреляции?<br>\n",
        "Побороть противоречие коэффициентов линейной регрессии и коэффициентов корреляции удалось, знаки при коэффициентах соответствуют друг другу"
      ]
    },
    {
      "cell_type": "markdown",
      "id": "7d50db12",
      "metadata": {
        "id": "7d50db12"
      },
      "source": [
        "### Задание 5.6. (1 балл)\n",
        "\n",
        "Наконец, давайте построим модель линейной регрессии из библиотеки `scikit-learn (sklearn)` и сравним результаты её работы с теми, что нам удалось получить вручную. \n",
        "\n",
        "Постройте модель линейной регрессии на обновлённых после удаления факторов данных по методу наименьших квадратов. Для этого воспользуйтесь классом `LinearRegression` из библиотеки `sklearn`. Выведите значения полученных коэффициентов, округлённые до целого.\n",
        "\n",
        "Сделайте прогноз для всего обучающего набора данных и рассчитайте значение выбранной вами метрики (или метрик).\n",
        "\n",
        "Сравните результаты библиотечной реализации с тем, что вы получили ранее. "
      ]
    },
    {
      "cell_type": "markdown",
      "id": "emu5D3w278JP",
      "metadata": {
        "id": "emu5D3w278JP"
      },
      "source": [
        "**Критерии оценивания:**\n",
        "\n",
        "- Задание выполнено верно, учтены все условия (**1 балл**): \n",
        "    * на основе отобранных факторов построена модель линейной регрессии из библиотеки sklearn и найдены параметры модели, соответствующие каждому из факторов;\n",
        "    * построен прогноз для всего обучающего набора данных и рассчитано значение метрики (метрика должна быть выбрана корректно);\n",
        "    * приведён вывод о соответствии результатов, полученных вручную и с помощью библиотеки.\n",
        "- Задание выполнено неверно, не учтено одно или несколько условий (**0 баллов**)."
      ]
    },
    {
      "cell_type": "code",
      "execution_count": 235,
      "id": "Gpdpfq59AKGu",
      "metadata": {
        "id": "Gpdpfq59AKGu"
      },
      "outputs": [
        {
          "name": "stdout",
          "output_type": "stream",
          "text": [
            "w_hat: [[-1835.44646069   293.03624565   517.40272597  -200.03091206\n",
            "     27.64098209]]\n",
            "Средняя абсолютная ошибка MAE 171.43\n",
            "Средняя абсолютная процентная ошибка MAPE 4.04\n"
          ]
        }
      ],
      "source": [
        "from sklearn.linear_model import LinearRegression\n",
        "# создаём модель линейной регрессии\n",
        "model = LinearRegression(fit_intercept=False)\n",
        "# вычисляем коэффициенты регрессии\n",
        "model.fit(A, y)\n",
        "l_w_hat = model.coef_\n",
        "print('w_hat:', l_w_hat)\n",
        "\n",
        "# Повторяем действия из предыдущей ячейки\n",
        "data_copy['Prod_Forecast'] = A@l_w_hat.T\n",
        "data_copy['Prod_Absolute'] = data_copy['Prod'] - data_copy['Prod_Forecast']\n",
        "print('Средняя абсолютная ошибка MAE', round(sum(abs(data_copy['Prod'] - data_copy['Prod_Forecast'])) / data_copy.shape[0], 2))\n",
        "print('Средняя абсолютная процентная ошибка MAPE', round((sum((abs(data_copy['Prod'] - data_copy['Prod_Forecast'])) / abs(data_copy['Prod'])) / data_copy.shape[0]) * 100, 2))"
      ]
    },
    {
      "cell_type": "markdown",
      "id": "WT9cdHAbAMG7",
      "metadata": {
        "id": "WT9cdHAbAMG7"
      },
      "source": [
        "Сравните результаты библиотечной реализации с тем, что вы получили ранее<br>\n",
        "\n",
        "Таблица 3. Сравнение коэффициентов оценки рассчитанных вручную и с помощью библиотеки\n",
        "| Название | Вручную | LinearRegression |\n",
        "|:----:|:----:|:----:|\n",
        "| Интрецептор  | -1835  | -1835  |\n",
        "| Por  | 293  | 293  |\n",
        "| VR   | 517  | 517  |\n",
        "| AI   | -200 | -200  |\n",
        "| Brittle | 28 | 28  |\n"
      ]
    },
    {
      "cell_type": "markdown",
      "id": "5346338e",
      "metadata": {
        "id": "5346338e"
      },
      "source": [
        "## Практика: полиномиальная регрессия и регуляризация"
      ]
    },
    {
      "cell_type": "markdown",
      "id": "aad9e3a6",
      "metadata": {
        "id": "aad9e3a6"
      },
      "source": [
        "Мы продолжаем работать над задачей от владельца компании «Газ-Таз-Ваз-Нефть» Василия.\n",
        "\n",
        "Ранее мы построили модель линейной регрессии, которая прогнозирует выработку газа на скважине. Для этого мы с помощью матрицы корреляций и рассуждений отобрали некоррелированные, значимые для предсказания признаки. **Далее мы будем использовать именно их (см. задание 5.5).**\n",
        "\n",
        "Мы хотим улучшить результат — уменьшить ошибку прогноза. Для этого мы воспользуемся моделью полиномиальной регрессии третьей степени. Однако теперь мы знаем, что полиномиальным моделям очень легко переобучиться под исходную выборку. Так как данных у нас не так много (всего 200 скважин), то для контроля качества модели мы будем использовать кросс-валидацию. \n",
        "\n",
        "Приступим! Выполните задания 8.1–8.5:\n"
      ]
    },
    {
      "cell_type": "code",
      "execution_count": 288,
      "id": "18506d1b",
      "metadata": {
        "id": "18506d1b"
      },
      "outputs": [],
      "source": [
        "from sklearn.preprocessing import PolynomialFeatures, StandardScaler\n",
        "from sklearn.linear_model import LinearRegression, Lasso, Ridge, ElasticNet\n",
        "from sklearn.model_selection import GridSearchCV\n",
        "from sklearn.model_selection import cross_validate"
      ]
    },
    {
      "cell_type": "markdown",
      "id": "bfbfea8d",
      "metadata": {
        "id": "bfbfea8d"
      },
      "source": [
        "### Задание 8.1. (1 балл)\n",
        "\n",
        "Стандаризируйте признаки с помощью `StandartScaler` из библиотеки `sklearn`. \n",
        "\n",
        "Затем сгенерируйте полиномиальные признаки третьего порядка на факторах, которые вы выбрали для обучения моделей. Для этого воспользуйтесь генератором полиномов `PolynomialFeatures` из библиотеки `sklearn`. Параметр `include_bias` установите в значение `False`.\n",
        "\n",
        "Выведите на экран, сколько факторов у вас получилось после генерации полиномиальных признаков.\n",
        "\n",
        "**Важно:** стандартизацию необходимо произвести до генерации полиномиальных факторов!\n",
        "\n",
        "Обучите модель линейной регрессии из библиотеки `sklearn` (`LinearRegression`) на полученных полиномиальных факторах.\n",
        "\n",
        "Используя кросс-валидацию оцените среднее значение выбранной вами метрики (или метрик) на тренировочных и валидационных фолдах.\n",
        "\n",
        "Проинтерпретируйте полученные результаты."
      ]
    },
    {
      "cell_type": "markdown",
      "id": "Y8oAhQkr8gV-",
      "metadata": {
        "id": "Y8oAhQkr8gV-"
      },
      "source": [
        "**Критерии оценивания:**\n",
        "\n",
        "- Задание выполнено верно, учтены все условия (**1 балл**): \n",
        "    * на основе отобранных факторов сгенерированы полиномиальные признаки третьего порядка;\n",
        "    * построена модель полиномиальной регрессии (линейной регрессии на полиномиальных признаках);\n",
        "    * с помощью кросс-валидации оценено среднее значение выбранной студентом метрики (или метрик) на тренировочных и валидационных фолдах (метрика должна быть выбрана корректно).\n",
        "- Задание выполнено неверно, не учтено одно или несколько из условий (**0 баллов**)."
      ]
    },
    {
      "cell_type": "code",
      "execution_count": 371,
      "id": "d295aeae",
      "metadata": {},
      "outputs": [],
      "source": [
        "from sklearn.preprocessing import StandardScaler\n",
        "from sklearn.preprocessing import PolynomialFeatures\n",
        "from sklearn.model_selection import cross_validate\n",
        "from sklearn.linear_model import Lasso, Ridge, ElasticNet\n",
        "from sklearn.model_selection import GridSearchCV, train_test_split\n",
        "from sklearn.model_selection import cross_validate"
      ]
    },
    {
      "cell_type": "code",
      "execution_count": 417,
      "id": "80635cbf",
      "metadata": {},
      "outputs": [],
      "source": [
        "# Создаем переменные в которых храняться данные с которыми будем работать дальше\n",
        "A = data[['Por', 'Perm', 'AI', 'Brittle', 'TOC', 'VR']]\n",
        "y = data[['Prod']] "
      ]
    },
    {
      "cell_type": "code",
      "execution_count": 418,
      "id": "-ln3bx8NFNRw",
      "metadata": {
        "id": "-ln3bx8NFNRw"
      },
      "outputs": [
        {
          "name": "stdout",
          "output_type": "stream",
          "text": [
            "Количество полиноминальных признаком 84\n",
            "MAPE на тренировочных фолдах: 0.55 %\n",
            "MAPE на валидационных фолдах: 1.89 %\n"
          ]
        }
      ],
      "source": [
        "scaler = StandardScaler()\n",
        "# подгоняем параметры стандартизатора (вычисляем среднее и СКО)\n",
        "A = scaler.fit_transform(A)\n",
        "# добавляем полиномиальные признаки\n",
        "poly = PolynomialFeatures(degree=3, include_bias=True)\n",
        "A_poly = poly.fit_transform(A)\n",
        "print('Количество полиноминальных признаком', A_poly.shape[1])\n",
        "\n",
        "# создаём модель линейной регрессии\n",
        "lr = LinearRegression()\n",
        " \n",
        "# оцениваем качество модели на кросс-валидации, метрика — MAPE\n",
        "cv_results = cross_validate(lr, A_poly, y, scoring='neg_mean_absolute_percentage_error', cv=5, return_train_score=True)\n",
        "print('MAPE на тренировочных фолдах: {:.2f} %'.format(-cv_results['train_score'].mean()* 100))\n",
        "print('MAPE на валидационных фолдах: {:.2f} %'.format(-cv_results['test_score'].mean() * 100))\n",
        "#Данные для вывода в 8.5\n",
        "linear_model = np.array(['Linear Model', np.nan, True, round(-cv_results['train_score'].mean()* 100, 2), round(-cv_results['test_score'].mean() * 100, 2)])\n",
        " "
      ]
    },
    {
      "cell_type": "markdown",
      "id": "9DkuuLLtFPPy",
      "metadata": {
        "id": "9DkuuLLtFPPy"
      },
      "source": [
        "Разница между MAPE высокая, больше чем в 3 раза"
      ]
    },
    {
      "cell_type": "markdown",
      "id": "63d06013",
      "metadata": {
        "id": "63d06013"
      },
      "source": [
        "### Задание 8.2. (2 балла)\n",
        "\n",
        "Теперь попробуем воспользоваться линейной регрессией с регуляризацией. Для начала возьмём $L_1$-регуляризацию.\n",
        "\n",
        "Обучите модель `Lasso` из библиотеки `sklearn` на полученных полиномиальных факторах, предварительно стандартизировав факторы. \n",
        "\n",
        "Коэффициент регуляризации (`alpha`) подберите самостоятельно с помощью любого известного вам метода подбора гиперпаметров.\n",
        "\n",
        "Используя кросс-валидацию, оцените среднее значение выбранной вами метрики (или метрик) на тренировочных и валидационных фолдах.\n",
        "\n",
        "Проинтерпретируйте полученные результаты."
      ]
    },
    {
      "cell_type": "markdown",
      "id": "z24YUfuA9rUq",
      "metadata": {
        "id": "z24YUfuA9rUq"
      },
      "source": [
        "**Критерии оценивания:**\n",
        "\n",
        "- Задание выполнено верно, учтены все условия (**2 балла**): \n",
        "    * правильно построена модель полиномиальной регрессии (линейной регрессии на полиномиальных признаках) с регуляризацией (Lasso), учтены условия необходимости масштабирования факторов для построения модели;\n",
        "    * приведён код для подбора параметра регуляризации (вручную или с помощью библиотечных инструментов);\n",
        "    * с помощью кросс-валидации оценено среднее значение выбранной студентом метрики (или метрик) на тренировочных и валидационных фолдах (метрика должна быть выбрана корректно).\n",
        "\n",
        "- Задание выполнено верно, но не учтено одно из условий (**1 балл**).\n",
        "- Задание выполнено неверно, не учтено несколько условий (**0 баллов**)."
      ]
    },
    {
      "cell_type": "code",
      "execution_count": 419,
      "id": "IJ5b5G8qFz-r",
      "metadata": {
        "id": "IJ5b5G8qFz-r"
      },
      "outputs": [
        {
          "name": "stderr",
          "output_type": "stream",
          "text": [
            "g:\\PythonProject\\Educational_Folder\\venv\\Lib\\site-packages\\sklearn\\linear_model\\_coordinate_descent.py:695: ConvergenceWarning:\n",
            "\n",
            "Objective did not converge. You might want to increase the number of iterations, check the scale of the features or consider increasing regularisation. Duality gap: 4.697e+04, tolerance: 1.286e+04\n",
            "\n",
            "g:\\PythonProject\\Educational_Folder\\venv\\Lib\\site-packages\\sklearn\\linear_model\\_coordinate_descent.py:695: ConvergenceWarning:\n",
            "\n",
            "Objective did not converge. You might want to increase the number of iterations, check the scale of the features or consider increasing regularisation. Duality gap: 5.191e+04, tolerance: 1.332e+04\n",
            "\n",
            "g:\\PythonProject\\Educational_Folder\\venv\\Lib\\site-packages\\sklearn\\linear_model\\_coordinate_descent.py:695: ConvergenceWarning:\n",
            "\n",
            "Objective did not converge. You might want to increase the number of iterations, check the scale of the features or consider increasing regularisation. Duality gap: 4.435e+04, tolerance: 1.172e+04\n",
            "\n",
            "g:\\PythonProject\\Educational_Folder\\venv\\Lib\\site-packages\\sklearn\\linear_model\\_coordinate_descent.py:695: ConvergenceWarning:\n",
            "\n",
            "Objective did not converge. You might want to increase the number of iterations, check the scale of the features or consider increasing regularisation. Duality gap: 4.043e+04, tolerance: 1.346e+04\n",
            "\n",
            "g:\\PythonProject\\Educational_Folder\\venv\\Lib\\site-packages\\sklearn\\linear_model\\_coordinate_descent.py:695: ConvergenceWarning:\n",
            "\n",
            "Objective did not converge. You might want to increase the number of iterations, check the scale of the features or consider increasing regularisation. Duality gap: 4.493e+04, tolerance: 1.329e+04\n",
            "\n",
            "g:\\PythonProject\\Educational_Folder\\venv\\Lib\\site-packages\\sklearn\\linear_model\\_coordinate_descent.py:695: ConvergenceWarning:\n",
            "\n",
            "Objective did not converge. You might want to increase the number of iterations, check the scale of the features or consider increasing regularisation. Duality gap: 4.697e+04, tolerance: 1.286e+04\n",
            "\n",
            "g:\\PythonProject\\Educational_Folder\\venv\\Lib\\site-packages\\sklearn\\linear_model\\_coordinate_descent.py:695: ConvergenceWarning:\n",
            "\n",
            "Objective did not converge. You might want to increase the number of iterations, check the scale of the features or consider increasing regularisation. Duality gap: 5.191e+04, tolerance: 1.332e+04\n",
            "\n",
            "g:\\PythonProject\\Educational_Folder\\venv\\Lib\\site-packages\\sklearn\\linear_model\\_coordinate_descent.py:695: ConvergenceWarning:\n",
            "\n",
            "Objective did not converge. You might want to increase the number of iterations, check the scale of the features or consider increasing regularisation. Duality gap: 4.435e+04, tolerance: 1.172e+04\n",
            "\n",
            "g:\\PythonProject\\Educational_Folder\\venv\\Lib\\site-packages\\sklearn\\linear_model\\_coordinate_descent.py:695: ConvergenceWarning:\n",
            "\n",
            "Objective did not converge. You might want to increase the number of iterations, check the scale of the features or consider increasing regularisation. Duality gap: 4.043e+04, tolerance: 1.346e+04\n",
            "\n",
            "g:\\PythonProject\\Educational_Folder\\venv\\Lib\\site-packages\\sklearn\\linear_model\\_coordinate_descent.py:695: ConvergenceWarning:\n",
            "\n",
            "Objective did not converge. You might want to increase the number of iterations, check the scale of the features or consider increasing regularisation. Duality gap: 4.493e+04, tolerance: 1.329e+04\n",
            "\n",
            "g:\\PythonProject\\Educational_Folder\\venv\\Lib\\site-packages\\sklearn\\linear_model\\_coordinate_descent.py:695: ConvergenceWarning:\n",
            "\n",
            "Objective did not converge. You might want to increase the number of iterations, check the scale of the features or consider increasing regularisation. Duality gap: 4.698e+04, tolerance: 1.286e+04\n",
            "\n",
            "g:\\PythonProject\\Educational_Folder\\venv\\Lib\\site-packages\\sklearn\\linear_model\\_coordinate_descent.py:695: ConvergenceWarning:\n",
            "\n",
            "Objective did not converge. You might want to increase the number of iterations, check the scale of the features or consider increasing regularisation. Duality gap: 5.191e+04, tolerance: 1.332e+04\n",
            "\n",
            "g:\\PythonProject\\Educational_Folder\\venv\\Lib\\site-packages\\sklearn\\linear_model\\_coordinate_descent.py:695: ConvergenceWarning:\n",
            "\n",
            "Objective did not converge. You might want to increase the number of iterations, check the scale of the features or consider increasing regularisation. Duality gap: 4.435e+04, tolerance: 1.172e+04\n",
            "\n",
            "g:\\PythonProject\\Educational_Folder\\venv\\Lib\\site-packages\\sklearn\\linear_model\\_coordinate_descent.py:695: ConvergenceWarning:\n",
            "\n",
            "Objective did not converge. You might want to increase the number of iterations, check the scale of the features or consider increasing regularisation. Duality gap: 4.043e+04, tolerance: 1.346e+04\n",
            "\n",
            "g:\\PythonProject\\Educational_Folder\\venv\\Lib\\site-packages\\sklearn\\linear_model\\_coordinate_descent.py:695: ConvergenceWarning:\n",
            "\n",
            "Objective did not converge. You might want to increase the number of iterations, check the scale of the features or consider increasing regularisation. Duality gap: 4.493e+04, tolerance: 1.329e+04\n",
            "\n",
            "g:\\PythonProject\\Educational_Folder\\venv\\Lib\\site-packages\\sklearn\\linear_model\\_coordinate_descent.py:695: ConvergenceWarning:\n",
            "\n",
            "Objective did not converge. You might want to increase the number of iterations, check the scale of the features or consider increasing regularisation. Duality gap: 4.698e+04, tolerance: 1.286e+04\n",
            "\n",
            "g:\\PythonProject\\Educational_Folder\\venv\\Lib\\site-packages\\sklearn\\linear_model\\_coordinate_descent.py:695: ConvergenceWarning:\n",
            "\n",
            "Objective did not converge. You might want to increase the number of iterations, check the scale of the features or consider increasing regularisation. Duality gap: 5.191e+04, tolerance: 1.332e+04\n",
            "\n",
            "g:\\PythonProject\\Educational_Folder\\venv\\Lib\\site-packages\\sklearn\\linear_model\\_coordinate_descent.py:695: ConvergenceWarning:\n",
            "\n",
            "Objective did not converge. You might want to increase the number of iterations, check the scale of the features or consider increasing regularisation. Duality gap: 4.435e+04, tolerance: 1.172e+04\n",
            "\n",
            "g:\\PythonProject\\Educational_Folder\\venv\\Lib\\site-packages\\sklearn\\linear_model\\_coordinate_descent.py:695: ConvergenceWarning:\n",
            "\n",
            "Objective did not converge. You might want to increase the number of iterations, check the scale of the features or consider increasing regularisation. Duality gap: 4.044e+04, tolerance: 1.346e+04\n",
            "\n",
            "g:\\PythonProject\\Educational_Folder\\venv\\Lib\\site-packages\\sklearn\\linear_model\\_coordinate_descent.py:695: ConvergenceWarning:\n",
            "\n",
            "Objective did not converge. You might want to increase the number of iterations, check the scale of the features or consider increasing regularisation. Duality gap: 4.493e+04, tolerance: 1.329e+04\n",
            "\n",
            "g:\\PythonProject\\Educational_Folder\\venv\\Lib\\site-packages\\sklearn\\linear_model\\_coordinate_descent.py:695: ConvergenceWarning:\n",
            "\n",
            "Objective did not converge. You might want to increase the number of iterations, check the scale of the features or consider increasing regularisation. Duality gap: 4.698e+04, tolerance: 1.286e+04\n",
            "\n",
            "g:\\PythonProject\\Educational_Folder\\venv\\Lib\\site-packages\\sklearn\\linear_model\\_coordinate_descent.py:695: ConvergenceWarning:\n",
            "\n",
            "Objective did not converge. You might want to increase the number of iterations, check the scale of the features or consider increasing regularisation. Duality gap: 5.191e+04, tolerance: 1.332e+04\n",
            "\n",
            "g:\\PythonProject\\Educational_Folder\\venv\\Lib\\site-packages\\sklearn\\linear_model\\_coordinate_descent.py:695: ConvergenceWarning:\n",
            "\n",
            "Objective did not converge. You might want to increase the number of iterations, check the scale of the features or consider increasing regularisation. Duality gap: 4.435e+04, tolerance: 1.172e+04\n",
            "\n",
            "g:\\PythonProject\\Educational_Folder\\venv\\Lib\\site-packages\\sklearn\\linear_model\\_coordinate_descent.py:695: ConvergenceWarning:\n",
            "\n",
            "Objective did not converge. You might want to increase the number of iterations, check the scale of the features or consider increasing regularisation. Duality gap: 4.044e+04, tolerance: 1.346e+04\n",
            "\n",
            "g:\\PythonProject\\Educational_Folder\\venv\\Lib\\site-packages\\sklearn\\linear_model\\_coordinate_descent.py:695: ConvergenceWarning:\n",
            "\n",
            "Objective did not converge. You might want to increase the number of iterations, check the scale of the features or consider increasing regularisation. Duality gap: 4.494e+04, tolerance: 1.329e+04\n",
            "\n",
            "g:\\PythonProject\\Educational_Folder\\venv\\Lib\\site-packages\\sklearn\\linear_model\\_coordinate_descent.py:695: ConvergenceWarning:\n",
            "\n",
            "Objective did not converge. You might want to increase the number of iterations, check the scale of the features or consider increasing regularisation. Duality gap: 4.698e+04, tolerance: 1.286e+04\n",
            "\n",
            "g:\\PythonProject\\Educational_Folder\\venv\\Lib\\site-packages\\sklearn\\linear_model\\_coordinate_descent.py:695: ConvergenceWarning:\n",
            "\n",
            "Objective did not converge. You might want to increase the number of iterations, check the scale of the features or consider increasing regularisation. Duality gap: 5.191e+04, tolerance: 1.332e+04\n",
            "\n",
            "g:\\PythonProject\\Educational_Folder\\venv\\Lib\\site-packages\\sklearn\\linear_model\\_coordinate_descent.py:695: ConvergenceWarning:\n",
            "\n",
            "Objective did not converge. You might want to increase the number of iterations, check the scale of the features or consider increasing regularisation. Duality gap: 4.435e+04, tolerance: 1.172e+04\n",
            "\n",
            "g:\\PythonProject\\Educational_Folder\\venv\\Lib\\site-packages\\sklearn\\linear_model\\_coordinate_descent.py:695: ConvergenceWarning:\n",
            "\n",
            "Objective did not converge. You might want to increase the number of iterations, check the scale of the features or consider increasing regularisation. Duality gap: 4.044e+04, tolerance: 1.346e+04\n",
            "\n",
            "g:\\PythonProject\\Educational_Folder\\venv\\Lib\\site-packages\\sklearn\\linear_model\\_coordinate_descent.py:695: ConvergenceWarning:\n",
            "\n",
            "Objective did not converge. You might want to increase the number of iterations, check the scale of the features or consider increasing regularisation. Duality gap: 4.494e+04, tolerance: 1.329e+04\n",
            "\n",
            "g:\\PythonProject\\Educational_Folder\\venv\\Lib\\site-packages\\sklearn\\linear_model\\_coordinate_descent.py:695: ConvergenceWarning:\n",
            "\n",
            "Objective did not converge. You might want to increase the number of iterations, check the scale of the features or consider increasing regularisation. Duality gap: 4.698e+04, tolerance: 1.286e+04\n",
            "\n",
            "g:\\PythonProject\\Educational_Folder\\venv\\Lib\\site-packages\\sklearn\\linear_model\\_coordinate_descent.py:695: ConvergenceWarning:\n",
            "\n",
            "Objective did not converge. You might want to increase the number of iterations, check the scale of the features or consider increasing regularisation. Duality gap: 5.191e+04, tolerance: 1.332e+04\n",
            "\n",
            "g:\\PythonProject\\Educational_Folder\\venv\\Lib\\site-packages\\sklearn\\linear_model\\_coordinate_descent.py:695: ConvergenceWarning:\n",
            "\n",
            "Objective did not converge. You might want to increase the number of iterations, check the scale of the features or consider increasing regularisation. Duality gap: 4.435e+04, tolerance: 1.172e+04\n",
            "\n",
            "g:\\PythonProject\\Educational_Folder\\venv\\Lib\\site-packages\\sklearn\\linear_model\\_coordinate_descent.py:695: ConvergenceWarning:\n",
            "\n",
            "Objective did not converge. You might want to increase the number of iterations, check the scale of the features or consider increasing regularisation. Duality gap: 4.045e+04, tolerance: 1.346e+04\n",
            "\n",
            "g:\\PythonProject\\Educational_Folder\\venv\\Lib\\site-packages\\sklearn\\linear_model\\_coordinate_descent.py:695: ConvergenceWarning:\n",
            "\n",
            "Objective did not converge. You might want to increase the number of iterations, check the scale of the features or consider increasing regularisation. Duality gap: 4.494e+04, tolerance: 1.329e+04\n",
            "\n",
            "g:\\PythonProject\\Educational_Folder\\venv\\Lib\\site-packages\\sklearn\\linear_model\\_coordinate_descent.py:695: ConvergenceWarning:\n",
            "\n",
            "Objective did not converge. You might want to increase the number of iterations, check the scale of the features or consider increasing regularisation. Duality gap: 4.698e+04, tolerance: 1.286e+04\n",
            "\n",
            "g:\\PythonProject\\Educational_Folder\\venv\\Lib\\site-packages\\sklearn\\linear_model\\_coordinate_descent.py:695: ConvergenceWarning:\n",
            "\n",
            "Objective did not converge. You might want to increase the number of iterations, check the scale of the features or consider increasing regularisation. Duality gap: 5.191e+04, tolerance: 1.332e+04\n",
            "\n",
            "g:\\PythonProject\\Educational_Folder\\venv\\Lib\\site-packages\\sklearn\\linear_model\\_coordinate_descent.py:695: ConvergenceWarning:\n",
            "\n",
            "Objective did not converge. You might want to increase the number of iterations, check the scale of the features or consider increasing regularisation. Duality gap: 4.435e+04, tolerance: 1.172e+04\n",
            "\n",
            "g:\\PythonProject\\Educational_Folder\\venv\\Lib\\site-packages\\sklearn\\linear_model\\_coordinate_descent.py:695: ConvergenceWarning:\n",
            "\n",
            "Objective did not converge. You might want to increase the number of iterations, check the scale of the features or consider increasing regularisation. Duality gap: 4.046e+04, tolerance: 1.346e+04\n",
            "\n",
            "g:\\PythonProject\\Educational_Folder\\venv\\Lib\\site-packages\\sklearn\\linear_model\\_coordinate_descent.py:695: ConvergenceWarning:\n",
            "\n",
            "Objective did not converge. You might want to increase the number of iterations, check the scale of the features or consider increasing regularisation. Duality gap: 4.495e+04, tolerance: 1.329e+04\n",
            "\n",
            "g:\\PythonProject\\Educational_Folder\\venv\\Lib\\site-packages\\sklearn\\linear_model\\_coordinate_descent.py:695: ConvergenceWarning:\n",
            "\n",
            "Objective did not converge. You might want to increase the number of iterations, check the scale of the features or consider increasing regularisation. Duality gap: 4.698e+04, tolerance: 1.286e+04\n",
            "\n",
            "g:\\PythonProject\\Educational_Folder\\venv\\Lib\\site-packages\\sklearn\\linear_model\\_coordinate_descent.py:695: ConvergenceWarning:\n",
            "\n",
            "Objective did not converge. You might want to increase the number of iterations, check the scale of the features or consider increasing regularisation. Duality gap: 5.191e+04, tolerance: 1.332e+04\n",
            "\n",
            "g:\\PythonProject\\Educational_Folder\\venv\\Lib\\site-packages\\sklearn\\linear_model\\_coordinate_descent.py:695: ConvergenceWarning:\n",
            "\n",
            "Objective did not converge. You might want to increase the number of iterations, check the scale of the features or consider increasing regularisation. Duality gap: 4.434e+04, tolerance: 1.172e+04\n",
            "\n",
            "g:\\PythonProject\\Educational_Folder\\venv\\Lib\\site-packages\\sklearn\\linear_model\\_coordinate_descent.py:695: ConvergenceWarning:\n",
            "\n",
            "Objective did not converge. You might want to increase the number of iterations, check the scale of the features or consider increasing regularisation. Duality gap: 4.046e+04, tolerance: 1.346e+04\n",
            "\n",
            "g:\\PythonProject\\Educational_Folder\\venv\\Lib\\site-packages\\sklearn\\linear_model\\_coordinate_descent.py:695: ConvergenceWarning:\n",
            "\n",
            "Objective did not converge. You might want to increase the number of iterations, check the scale of the features or consider increasing regularisation. Duality gap: 4.495e+04, tolerance: 1.329e+04\n",
            "\n",
            "g:\\PythonProject\\Educational_Folder\\venv\\Lib\\site-packages\\sklearn\\linear_model\\_coordinate_descent.py:695: ConvergenceWarning:\n",
            "\n",
            "Objective did not converge. You might want to increase the number of iterations, check the scale of the features or consider increasing regularisation. Duality gap: 4.699e+04, tolerance: 1.286e+04\n",
            "\n",
            "g:\\PythonProject\\Educational_Folder\\venv\\Lib\\site-packages\\sklearn\\linear_model\\_coordinate_descent.py:695: ConvergenceWarning:\n",
            "\n",
            "Objective did not converge. You might want to increase the number of iterations, check the scale of the features or consider increasing regularisation. Duality gap: 5.191e+04, tolerance: 1.332e+04\n",
            "\n",
            "g:\\PythonProject\\Educational_Folder\\venv\\Lib\\site-packages\\sklearn\\linear_model\\_coordinate_descent.py:695: ConvergenceWarning:\n",
            "\n",
            "Objective did not converge. You might want to increase the number of iterations, check the scale of the features or consider increasing regularisation. Duality gap: 4.434e+04, tolerance: 1.172e+04\n",
            "\n",
            "g:\\PythonProject\\Educational_Folder\\venv\\Lib\\site-packages\\sklearn\\linear_model\\_coordinate_descent.py:695: ConvergenceWarning:\n",
            "\n",
            "Objective did not converge. You might want to increase the number of iterations, check the scale of the features or consider increasing regularisation. Duality gap: 4.047e+04, tolerance: 1.346e+04\n",
            "\n",
            "g:\\PythonProject\\Educational_Folder\\venv\\Lib\\site-packages\\sklearn\\linear_model\\_coordinate_descent.py:695: ConvergenceWarning:\n",
            "\n",
            "Objective did not converge. You might want to increase the number of iterations, check the scale of the features or consider increasing regularisation. Duality gap: 4.495e+04, tolerance: 1.329e+04\n",
            "\n",
            "g:\\PythonProject\\Educational_Folder\\venv\\Lib\\site-packages\\sklearn\\linear_model\\_coordinate_descent.py:695: ConvergenceWarning:\n",
            "\n",
            "Objective did not converge. You might want to increase the number of iterations, check the scale of the features or consider increasing regularisation. Duality gap: 4.699e+04, tolerance: 1.286e+04\n",
            "\n",
            "g:\\PythonProject\\Educational_Folder\\venv\\Lib\\site-packages\\sklearn\\linear_model\\_coordinate_descent.py:695: ConvergenceWarning:\n",
            "\n",
            "Objective did not converge. You might want to increase the number of iterations, check the scale of the features or consider increasing regularisation. Duality gap: 5.191e+04, tolerance: 1.332e+04\n",
            "\n",
            "g:\\PythonProject\\Educational_Folder\\venv\\Lib\\site-packages\\sklearn\\linear_model\\_coordinate_descent.py:695: ConvergenceWarning:\n",
            "\n",
            "Objective did not converge. You might want to increase the number of iterations, check the scale of the features or consider increasing regularisation. Duality gap: 4.434e+04, tolerance: 1.172e+04\n",
            "\n",
            "g:\\PythonProject\\Educational_Folder\\venv\\Lib\\site-packages\\sklearn\\linear_model\\_coordinate_descent.py:695: ConvergenceWarning:\n",
            "\n",
            "Objective did not converge. You might want to increase the number of iterations, check the scale of the features or consider increasing regularisation. Duality gap: 4.048e+04, tolerance: 1.346e+04\n",
            "\n",
            "g:\\PythonProject\\Educational_Folder\\venv\\Lib\\site-packages\\sklearn\\linear_model\\_coordinate_descent.py:695: ConvergenceWarning:\n",
            "\n",
            "Objective did not converge. You might want to increase the number of iterations, check the scale of the features or consider increasing regularisation. Duality gap: 4.496e+04, tolerance: 1.329e+04\n",
            "\n",
            "g:\\PythonProject\\Educational_Folder\\venv\\Lib\\site-packages\\sklearn\\linear_model\\_coordinate_descent.py:695: ConvergenceWarning:\n",
            "\n",
            "Objective did not converge. You might want to increase the number of iterations, check the scale of the features or consider increasing regularisation. Duality gap: 4.699e+04, tolerance: 1.286e+04\n",
            "\n",
            "g:\\PythonProject\\Educational_Folder\\venv\\Lib\\site-packages\\sklearn\\linear_model\\_coordinate_descent.py:695: ConvergenceWarning:\n",
            "\n",
            "Objective did not converge. You might want to increase the number of iterations, check the scale of the features or consider increasing regularisation. Duality gap: 5.191e+04, tolerance: 1.332e+04\n",
            "\n",
            "g:\\PythonProject\\Educational_Folder\\venv\\Lib\\site-packages\\sklearn\\linear_model\\_coordinate_descent.py:695: ConvergenceWarning:\n",
            "\n",
            "Objective did not converge. You might want to increase the number of iterations, check the scale of the features or consider increasing regularisation. Duality gap: 4.433e+04, tolerance: 1.172e+04\n",
            "\n",
            "g:\\PythonProject\\Educational_Folder\\venv\\Lib\\site-packages\\sklearn\\linear_model\\_coordinate_descent.py:695: ConvergenceWarning:\n",
            "\n",
            "Objective did not converge. You might want to increase the number of iterations, check the scale of the features or consider increasing regularisation. Duality gap: 4.049e+04, tolerance: 1.346e+04\n",
            "\n",
            "g:\\PythonProject\\Educational_Folder\\venv\\Lib\\site-packages\\sklearn\\linear_model\\_coordinate_descent.py:695: ConvergenceWarning:\n",
            "\n",
            "Objective did not converge. You might want to increase the number of iterations, check the scale of the features or consider increasing regularisation. Duality gap: 4.496e+04, tolerance: 1.329e+04\n",
            "\n",
            "g:\\PythonProject\\Educational_Folder\\venv\\Lib\\site-packages\\sklearn\\linear_model\\_coordinate_descent.py:695: ConvergenceWarning:\n",
            "\n",
            "Objective did not converge. You might want to increase the number of iterations, check the scale of the features or consider increasing regularisation. Duality gap: 4.700e+04, tolerance: 1.286e+04\n",
            "\n",
            "g:\\PythonProject\\Educational_Folder\\venv\\Lib\\site-packages\\sklearn\\linear_model\\_coordinate_descent.py:695: ConvergenceWarning:\n",
            "\n",
            "Objective did not converge. You might want to increase the number of iterations, check the scale of the features or consider increasing regularisation. Duality gap: 5.191e+04, tolerance: 1.332e+04\n",
            "\n",
            "g:\\PythonProject\\Educational_Folder\\venv\\Lib\\site-packages\\sklearn\\linear_model\\_coordinate_descent.py:695: ConvergenceWarning:\n",
            "\n",
            "Objective did not converge. You might want to increase the number of iterations, check the scale of the features or consider increasing regularisation. Duality gap: 4.433e+04, tolerance: 1.172e+04\n",
            "\n",
            "g:\\PythonProject\\Educational_Folder\\venv\\Lib\\site-packages\\sklearn\\linear_model\\_coordinate_descent.py:695: ConvergenceWarning:\n",
            "\n",
            "Objective did not converge. You might want to increase the number of iterations, check the scale of the features or consider increasing regularisation. Duality gap: 4.050e+04, tolerance: 1.346e+04\n",
            "\n",
            "g:\\PythonProject\\Educational_Folder\\venv\\Lib\\site-packages\\sklearn\\linear_model\\_coordinate_descent.py:695: ConvergenceWarning:\n",
            "\n",
            "Objective did not converge. You might want to increase the number of iterations, check the scale of the features or consider increasing regularisation. Duality gap: 4.497e+04, tolerance: 1.329e+04\n",
            "\n",
            "g:\\PythonProject\\Educational_Folder\\venv\\Lib\\site-packages\\sklearn\\linear_model\\_coordinate_descent.py:695: ConvergenceWarning:\n",
            "\n",
            "Objective did not converge. You might want to increase the number of iterations, check the scale of the features or consider increasing regularisation. Duality gap: 4.700e+04, tolerance: 1.286e+04\n",
            "\n",
            "g:\\PythonProject\\Educational_Folder\\venv\\Lib\\site-packages\\sklearn\\linear_model\\_coordinate_descent.py:695: ConvergenceWarning:\n",
            "\n",
            "Objective did not converge. You might want to increase the number of iterations, check the scale of the features or consider increasing regularisation. Duality gap: 5.191e+04, tolerance: 1.332e+04\n",
            "\n",
            "g:\\PythonProject\\Educational_Folder\\venv\\Lib\\site-packages\\sklearn\\linear_model\\_coordinate_descent.py:695: ConvergenceWarning:\n",
            "\n",
            "Objective did not converge. You might want to increase the number of iterations, check the scale of the features or consider increasing regularisation. Duality gap: 4.432e+04, tolerance: 1.172e+04\n",
            "\n",
            "g:\\PythonProject\\Educational_Folder\\venv\\Lib\\site-packages\\sklearn\\linear_model\\_coordinate_descent.py:695: ConvergenceWarning:\n",
            "\n",
            "Objective did not converge. You might want to increase the number of iterations, check the scale of the features or consider increasing regularisation. Duality gap: 4.052e+04, tolerance: 1.346e+04\n",
            "\n",
            "g:\\PythonProject\\Educational_Folder\\venv\\Lib\\site-packages\\sklearn\\linear_model\\_coordinate_descent.py:695: ConvergenceWarning:\n",
            "\n",
            "Objective did not converge. You might want to increase the number of iterations, check the scale of the features or consider increasing regularisation. Duality gap: 4.498e+04, tolerance: 1.329e+04\n",
            "\n",
            "g:\\PythonProject\\Educational_Folder\\venv\\Lib\\site-packages\\sklearn\\linear_model\\_coordinate_descent.py:695: ConvergenceWarning:\n",
            "\n",
            "Objective did not converge. You might want to increase the number of iterations, check the scale of the features or consider increasing regularisation. Duality gap: 4.701e+04, tolerance: 1.286e+04\n",
            "\n",
            "g:\\PythonProject\\Educational_Folder\\venv\\Lib\\site-packages\\sklearn\\linear_model\\_coordinate_descent.py:695: ConvergenceWarning:\n",
            "\n",
            "Objective did not converge. You might want to increase the number of iterations, check the scale of the features or consider increasing regularisation. Duality gap: 5.191e+04, tolerance: 1.332e+04\n",
            "\n",
            "g:\\PythonProject\\Educational_Folder\\venv\\Lib\\site-packages\\sklearn\\linear_model\\_coordinate_descent.py:695: ConvergenceWarning:\n",
            "\n",
            "Objective did not converge. You might want to increase the number of iterations, check the scale of the features or consider increasing regularisation. Duality gap: 4.432e+04, tolerance: 1.172e+04\n",
            "\n",
            "g:\\PythonProject\\Educational_Folder\\venv\\Lib\\site-packages\\sklearn\\linear_model\\_coordinate_descent.py:695: ConvergenceWarning:\n",
            "\n",
            "Objective did not converge. You might want to increase the number of iterations, check the scale of the features or consider increasing regularisation. Duality gap: 4.053e+04, tolerance: 1.346e+04\n",
            "\n",
            "g:\\PythonProject\\Educational_Folder\\venv\\Lib\\site-packages\\sklearn\\linear_model\\_coordinate_descent.py:695: ConvergenceWarning:\n",
            "\n",
            "Objective did not converge. You might want to increase the number of iterations, check the scale of the features or consider increasing regularisation. Duality gap: 4.499e+04, tolerance: 1.329e+04\n",
            "\n",
            "g:\\PythonProject\\Educational_Folder\\venv\\Lib\\site-packages\\sklearn\\linear_model\\_coordinate_descent.py:695: ConvergenceWarning:\n",
            "\n",
            "Objective did not converge. You might want to increase the number of iterations, check the scale of the features or consider increasing regularisation. Duality gap: 4.701e+04, tolerance: 1.286e+04\n",
            "\n",
            "g:\\PythonProject\\Educational_Folder\\venv\\Lib\\site-packages\\sklearn\\linear_model\\_coordinate_descent.py:695: ConvergenceWarning:\n",
            "\n",
            "Objective did not converge. You might want to increase the number of iterations, check the scale of the features or consider increasing regularisation. Duality gap: 5.191e+04, tolerance: 1.332e+04\n",
            "\n",
            "g:\\PythonProject\\Educational_Folder\\venv\\Lib\\site-packages\\sklearn\\linear_model\\_coordinate_descent.py:695: ConvergenceWarning:\n",
            "\n",
            "Objective did not converge. You might want to increase the number of iterations, check the scale of the features or consider increasing regularisation. Duality gap: 4.431e+04, tolerance: 1.172e+04\n",
            "\n",
            "g:\\PythonProject\\Educational_Folder\\venv\\Lib\\site-packages\\sklearn\\linear_model\\_coordinate_descent.py:695: ConvergenceWarning:\n",
            "\n",
            "Objective did not converge. You might want to increase the number of iterations, check the scale of the features or consider increasing regularisation. Duality gap: 4.055e+04, tolerance: 1.346e+04\n",
            "\n",
            "g:\\PythonProject\\Educational_Folder\\venv\\Lib\\site-packages\\sklearn\\linear_model\\_coordinate_descent.py:695: ConvergenceWarning:\n",
            "\n",
            "Objective did not converge. You might want to increase the number of iterations, check the scale of the features or consider increasing regularisation. Duality gap: 4.500e+04, tolerance: 1.329e+04\n",
            "\n",
            "g:\\PythonProject\\Educational_Folder\\venv\\Lib\\site-packages\\sklearn\\linear_model\\_coordinate_descent.py:695: ConvergenceWarning:\n",
            "\n",
            "Objective did not converge. You might want to increase the number of iterations, check the scale of the features or consider increasing regularisation. Duality gap: 4.702e+04, tolerance: 1.286e+04\n",
            "\n",
            "g:\\PythonProject\\Educational_Folder\\venv\\Lib\\site-packages\\sklearn\\linear_model\\_coordinate_descent.py:695: ConvergenceWarning:\n",
            "\n",
            "Objective did not converge. You might want to increase the number of iterations, check the scale of the features or consider increasing regularisation. Duality gap: 5.190e+04, tolerance: 1.332e+04\n",
            "\n",
            "g:\\PythonProject\\Educational_Folder\\venv\\Lib\\site-packages\\sklearn\\linear_model\\_coordinate_descent.py:695: ConvergenceWarning:\n",
            "\n",
            "Objective did not converge. You might want to increase the number of iterations, check the scale of the features or consider increasing regularisation. Duality gap: 4.430e+04, tolerance: 1.172e+04\n",
            "\n",
            "g:\\PythonProject\\Educational_Folder\\venv\\Lib\\site-packages\\sklearn\\linear_model\\_coordinate_descent.py:695: ConvergenceWarning:\n",
            "\n",
            "Objective did not converge. You might want to increase the number of iterations, check the scale of the features or consider increasing regularisation. Duality gap: 4.057e+04, tolerance: 1.346e+04\n",
            "\n",
            "g:\\PythonProject\\Educational_Folder\\venv\\Lib\\site-packages\\sklearn\\linear_model\\_coordinate_descent.py:695: ConvergenceWarning:\n",
            "\n",
            "Objective did not converge. You might want to increase the number of iterations, check the scale of the features or consider increasing regularisation. Duality gap: 4.501e+04, tolerance: 1.329e+04\n",
            "\n",
            "g:\\PythonProject\\Educational_Folder\\venv\\Lib\\site-packages\\sklearn\\linear_model\\_coordinate_descent.py:695: ConvergenceWarning:\n",
            "\n",
            "Objective did not converge. You might want to increase the number of iterations, check the scale of the features or consider increasing regularisation. Duality gap: 4.702e+04, tolerance: 1.286e+04\n",
            "\n",
            "g:\\PythonProject\\Educational_Folder\\venv\\Lib\\site-packages\\sklearn\\linear_model\\_coordinate_descent.py:695: ConvergenceWarning:\n",
            "\n",
            "Objective did not converge. You might want to increase the number of iterations, check the scale of the features or consider increasing regularisation. Duality gap: 5.190e+04, tolerance: 1.332e+04\n",
            "\n",
            "g:\\PythonProject\\Educational_Folder\\venv\\Lib\\site-packages\\sklearn\\linear_model\\_coordinate_descent.py:695: ConvergenceWarning:\n",
            "\n",
            "Objective did not converge. You might want to increase the number of iterations, check the scale of the features or consider increasing regularisation. Duality gap: 4.429e+04, tolerance: 1.172e+04\n",
            "\n",
            "g:\\PythonProject\\Educational_Folder\\venv\\Lib\\site-packages\\sklearn\\linear_model\\_coordinate_descent.py:695: ConvergenceWarning:\n",
            "\n",
            "Objective did not converge. You might want to increase the number of iterations, check the scale of the features or consider increasing regularisation. Duality gap: 4.060e+04, tolerance: 1.346e+04\n",
            "\n",
            "g:\\PythonProject\\Educational_Folder\\venv\\Lib\\site-packages\\sklearn\\linear_model\\_coordinate_descent.py:695: ConvergenceWarning:\n",
            "\n",
            "Objective did not converge. You might want to increase the number of iterations, check the scale of the features or consider increasing regularisation. Duality gap: 4.502e+04, tolerance: 1.329e+04\n",
            "\n",
            "g:\\PythonProject\\Educational_Folder\\venv\\Lib\\site-packages\\sklearn\\linear_model\\_coordinate_descent.py:695: ConvergenceWarning:\n",
            "\n",
            "Objective did not converge. You might want to increase the number of iterations, check the scale of the features or consider increasing regularisation. Duality gap: 4.703e+04, tolerance: 1.286e+04\n",
            "\n",
            "g:\\PythonProject\\Educational_Folder\\venv\\Lib\\site-packages\\sklearn\\linear_model\\_coordinate_descent.py:695: ConvergenceWarning:\n",
            "\n",
            "Objective did not converge. You might want to increase the number of iterations, check the scale of the features or consider increasing regularisation. Duality gap: 5.190e+04, tolerance: 1.332e+04\n",
            "\n",
            "g:\\PythonProject\\Educational_Folder\\venv\\Lib\\site-packages\\sklearn\\linear_model\\_coordinate_descent.py:695: ConvergenceWarning:\n",
            "\n",
            "Objective did not converge. You might want to increase the number of iterations, check the scale of the features or consider increasing regularisation. Duality gap: 4.428e+04, tolerance: 1.172e+04\n",
            "\n",
            "g:\\PythonProject\\Educational_Folder\\venv\\Lib\\site-packages\\sklearn\\linear_model\\_coordinate_descent.py:695: ConvergenceWarning:\n",
            "\n",
            "Objective did not converge. You might want to increase the number of iterations, check the scale of the features or consider increasing regularisation. Duality gap: 4.062e+04, tolerance: 1.346e+04\n",
            "\n",
            "g:\\PythonProject\\Educational_Folder\\venv\\Lib\\site-packages\\sklearn\\linear_model\\_coordinate_descent.py:695: ConvergenceWarning:\n",
            "\n",
            "Objective did not converge. You might want to increase the number of iterations, check the scale of the features or consider increasing regularisation. Duality gap: 4.503e+04, tolerance: 1.329e+04\n",
            "\n",
            "g:\\PythonProject\\Educational_Folder\\venv\\Lib\\site-packages\\sklearn\\linear_model\\_coordinate_descent.py:695: ConvergenceWarning:\n",
            "\n",
            "Objective did not converge. You might want to increase the number of iterations, check the scale of the features or consider increasing regularisation. Duality gap: 4.704e+04, tolerance: 1.286e+04\n",
            "\n",
            "g:\\PythonProject\\Educational_Folder\\venv\\Lib\\site-packages\\sklearn\\linear_model\\_coordinate_descent.py:695: ConvergenceWarning:\n",
            "\n",
            "Objective did not converge. You might want to increase the number of iterations, check the scale of the features or consider increasing regularisation. Duality gap: 5.190e+04, tolerance: 1.332e+04\n",
            "\n",
            "g:\\PythonProject\\Educational_Folder\\venv\\Lib\\site-packages\\sklearn\\linear_model\\_coordinate_descent.py:695: ConvergenceWarning:\n",
            "\n",
            "Objective did not converge. You might want to increase the number of iterations, check the scale of the features or consider increasing regularisation. Duality gap: 4.427e+04, tolerance: 1.172e+04\n",
            "\n",
            "g:\\PythonProject\\Educational_Folder\\venv\\Lib\\site-packages\\sklearn\\linear_model\\_coordinate_descent.py:695: ConvergenceWarning:\n",
            "\n",
            "Objective did not converge. You might want to increase the number of iterations, check the scale of the features or consider increasing regularisation. Duality gap: 4.066e+04, tolerance: 1.346e+04\n",
            "\n",
            "g:\\PythonProject\\Educational_Folder\\venv\\Lib\\site-packages\\sklearn\\linear_model\\_coordinate_descent.py:695: ConvergenceWarning:\n",
            "\n",
            "Objective did not converge. You might want to increase the number of iterations, check the scale of the features or consider increasing regularisation. Duality gap: 4.505e+04, tolerance: 1.329e+04\n",
            "\n",
            "g:\\PythonProject\\Educational_Folder\\venv\\Lib\\site-packages\\sklearn\\linear_model\\_coordinate_descent.py:695: ConvergenceWarning:\n",
            "\n",
            "Objective did not converge. You might want to increase the number of iterations, check the scale of the features or consider increasing regularisation. Duality gap: 4.705e+04, tolerance: 1.286e+04\n",
            "\n",
            "g:\\PythonProject\\Educational_Folder\\venv\\Lib\\site-packages\\sklearn\\linear_model\\_coordinate_descent.py:695: ConvergenceWarning:\n",
            "\n",
            "Objective did not converge. You might want to increase the number of iterations, check the scale of the features or consider increasing regularisation. Duality gap: 5.189e+04, tolerance: 1.332e+04\n",
            "\n",
            "g:\\PythonProject\\Educational_Folder\\venv\\Lib\\site-packages\\sklearn\\linear_model\\_coordinate_descent.py:695: ConvergenceWarning:\n",
            "\n",
            "Objective did not converge. You might want to increase the number of iterations, check the scale of the features or consider increasing regularisation. Duality gap: 4.425e+04, tolerance: 1.172e+04\n",
            "\n",
            "g:\\PythonProject\\Educational_Folder\\venv\\Lib\\site-packages\\sklearn\\linear_model\\_coordinate_descent.py:695: ConvergenceWarning:\n",
            "\n",
            "Objective did not converge. You might want to increase the number of iterations, check the scale of the features or consider increasing regularisation. Duality gap: 4.069e+04, tolerance: 1.346e+04\n",
            "\n",
            "g:\\PythonProject\\Educational_Folder\\venv\\Lib\\site-packages\\sklearn\\linear_model\\_coordinate_descent.py:695: ConvergenceWarning:\n",
            "\n",
            "Objective did not converge. You might want to increase the number of iterations, check the scale of the features or consider increasing regularisation. Duality gap: 4.507e+04, tolerance: 1.329e+04\n",
            "\n",
            "g:\\PythonProject\\Educational_Folder\\venv\\Lib\\site-packages\\sklearn\\linear_model\\_coordinate_descent.py:695: ConvergenceWarning:\n",
            "\n",
            "Objective did not converge. You might want to increase the number of iterations, check the scale of the features or consider increasing regularisation. Duality gap: 4.706e+04, tolerance: 1.286e+04\n",
            "\n",
            "g:\\PythonProject\\Educational_Folder\\venv\\Lib\\site-packages\\sklearn\\linear_model\\_coordinate_descent.py:695: ConvergenceWarning:\n",
            "\n",
            "Objective did not converge. You might want to increase the number of iterations, check the scale of the features or consider increasing regularisation. Duality gap: 5.189e+04, tolerance: 1.332e+04\n",
            "\n",
            "g:\\PythonProject\\Educational_Folder\\venv\\Lib\\site-packages\\sklearn\\linear_model\\_coordinate_descent.py:695: ConvergenceWarning:\n",
            "\n",
            "Objective did not converge. You might want to increase the number of iterations, check the scale of the features or consider increasing regularisation. Duality gap: 4.423e+04, tolerance: 1.172e+04\n",
            "\n",
            "g:\\PythonProject\\Educational_Folder\\venv\\Lib\\site-packages\\sklearn\\linear_model\\_coordinate_descent.py:695: ConvergenceWarning:\n",
            "\n",
            "Objective did not converge. You might want to increase the number of iterations, check the scale of the features or consider increasing regularisation. Duality gap: 4.073e+04, tolerance: 1.346e+04\n",
            "\n",
            "g:\\PythonProject\\Educational_Folder\\venv\\Lib\\site-packages\\sklearn\\linear_model\\_coordinate_descent.py:695: ConvergenceWarning:\n",
            "\n",
            "Objective did not converge. You might want to increase the number of iterations, check the scale of the features or consider increasing regularisation. Duality gap: 4.509e+04, tolerance: 1.329e+04\n",
            "\n",
            "g:\\PythonProject\\Educational_Folder\\venv\\Lib\\site-packages\\sklearn\\linear_model\\_coordinate_descent.py:695: ConvergenceWarning:\n",
            "\n",
            "Objective did not converge. You might want to increase the number of iterations, check the scale of the features or consider increasing regularisation. Duality gap: 4.707e+04, tolerance: 1.286e+04\n",
            "\n",
            "g:\\PythonProject\\Educational_Folder\\venv\\Lib\\site-packages\\sklearn\\linear_model\\_coordinate_descent.py:695: ConvergenceWarning:\n",
            "\n",
            "Objective did not converge. You might want to increase the number of iterations, check the scale of the features or consider increasing regularisation. Duality gap: 5.188e+04, tolerance: 1.332e+04\n",
            "\n",
            "g:\\PythonProject\\Educational_Folder\\venv\\Lib\\site-packages\\sklearn\\linear_model\\_coordinate_descent.py:695: ConvergenceWarning:\n",
            "\n",
            "Objective did not converge. You might want to increase the number of iterations, check the scale of the features or consider increasing regularisation. Duality gap: 4.421e+04, tolerance: 1.172e+04\n",
            "\n",
            "g:\\PythonProject\\Educational_Folder\\venv\\Lib\\site-packages\\sklearn\\linear_model\\_coordinate_descent.py:695: ConvergenceWarning:\n",
            "\n",
            "Objective did not converge. You might want to increase the number of iterations, check the scale of the features or consider increasing regularisation. Duality gap: 4.078e+04, tolerance: 1.346e+04\n",
            "\n",
            "g:\\PythonProject\\Educational_Folder\\venv\\Lib\\site-packages\\sklearn\\linear_model\\_coordinate_descent.py:695: ConvergenceWarning:\n",
            "\n",
            "Objective did not converge. You might want to increase the number of iterations, check the scale of the features or consider increasing regularisation. Duality gap: 4.511e+04, tolerance: 1.329e+04\n",
            "\n",
            "g:\\PythonProject\\Educational_Folder\\venv\\Lib\\site-packages\\sklearn\\linear_model\\_coordinate_descent.py:695: ConvergenceWarning:\n",
            "\n",
            "Objective did not converge. You might want to increase the number of iterations, check the scale of the features or consider increasing regularisation. Duality gap: 4.708e+04, tolerance: 1.286e+04\n",
            "\n",
            "g:\\PythonProject\\Educational_Folder\\venv\\Lib\\site-packages\\sklearn\\linear_model\\_coordinate_descent.py:695: ConvergenceWarning:\n",
            "\n",
            "Objective did not converge. You might want to increase the number of iterations, check the scale of the features or consider increasing regularisation. Duality gap: 5.187e+04, tolerance: 1.332e+04\n",
            "\n",
            "g:\\PythonProject\\Educational_Folder\\venv\\Lib\\site-packages\\sklearn\\linear_model\\_coordinate_descent.py:695: ConvergenceWarning:\n",
            "\n",
            "Objective did not converge. You might want to increase the number of iterations, check the scale of the features or consider increasing regularisation. Duality gap: 4.418e+04, tolerance: 1.172e+04\n",
            "\n",
            "g:\\PythonProject\\Educational_Folder\\venv\\Lib\\site-packages\\sklearn\\linear_model\\_coordinate_descent.py:695: ConvergenceWarning:\n",
            "\n",
            "Objective did not converge. You might want to increase the number of iterations, check the scale of the features or consider increasing regularisation. Duality gap: 4.083e+04, tolerance: 1.346e+04\n",
            "\n",
            "g:\\PythonProject\\Educational_Folder\\venv\\Lib\\site-packages\\sklearn\\linear_model\\_coordinate_descent.py:695: ConvergenceWarning:\n",
            "\n",
            "Objective did not converge. You might want to increase the number of iterations, check the scale of the features or consider increasing regularisation. Duality gap: 4.513e+04, tolerance: 1.329e+04\n",
            "\n",
            "g:\\PythonProject\\Educational_Folder\\venv\\Lib\\site-packages\\sklearn\\linear_model\\_coordinate_descent.py:695: ConvergenceWarning:\n",
            "\n",
            "Objective did not converge. You might want to increase the number of iterations, check the scale of the features or consider increasing regularisation. Duality gap: 4.709e+04, tolerance: 1.286e+04\n",
            "\n",
            "g:\\PythonProject\\Educational_Folder\\venv\\Lib\\site-packages\\sklearn\\linear_model\\_coordinate_descent.py:695: ConvergenceWarning:\n",
            "\n",
            "Objective did not converge. You might want to increase the number of iterations, check the scale of the features or consider increasing regularisation. Duality gap: 5.186e+04, tolerance: 1.332e+04\n",
            "\n",
            "g:\\PythonProject\\Educational_Folder\\venv\\Lib\\site-packages\\sklearn\\linear_model\\_coordinate_descent.py:695: ConvergenceWarning:\n",
            "\n",
            "Objective did not converge. You might want to increase the number of iterations, check the scale of the features or consider increasing regularisation. Duality gap: 4.414e+04, tolerance: 1.172e+04\n",
            "\n",
            "g:\\PythonProject\\Educational_Folder\\venv\\Lib\\site-packages\\sklearn\\linear_model\\_coordinate_descent.py:695: ConvergenceWarning:\n",
            "\n",
            "Objective did not converge. You might want to increase the number of iterations, check the scale of the features or consider increasing regularisation. Duality gap: 4.088e+04, tolerance: 1.346e+04\n",
            "\n",
            "g:\\PythonProject\\Educational_Folder\\venv\\Lib\\site-packages\\sklearn\\linear_model\\_coordinate_descent.py:695: ConvergenceWarning:\n",
            "\n",
            "Objective did not converge. You might want to increase the number of iterations, check the scale of the features or consider increasing regularisation. Duality gap: 4.516e+04, tolerance: 1.329e+04\n",
            "\n",
            "g:\\PythonProject\\Educational_Folder\\venv\\Lib\\site-packages\\sklearn\\linear_model\\_coordinate_descent.py:695: ConvergenceWarning:\n",
            "\n",
            "Objective did not converge. You might want to increase the number of iterations, check the scale of the features or consider increasing regularisation. Duality gap: 4.710e+04, tolerance: 1.286e+04\n",
            "\n",
            "g:\\PythonProject\\Educational_Folder\\venv\\Lib\\site-packages\\sklearn\\linear_model\\_coordinate_descent.py:695: ConvergenceWarning:\n",
            "\n",
            "Objective did not converge. You might want to increase the number of iterations, check the scale of the features or consider increasing regularisation. Duality gap: 5.184e+04, tolerance: 1.332e+04\n",
            "\n",
            "g:\\PythonProject\\Educational_Folder\\venv\\Lib\\site-packages\\sklearn\\linear_model\\_coordinate_descent.py:695: ConvergenceWarning:\n",
            "\n",
            "Objective did not converge. You might want to increase the number of iterations, check the scale of the features or consider increasing regularisation. Duality gap: 4.410e+04, tolerance: 1.172e+04\n",
            "\n",
            "g:\\PythonProject\\Educational_Folder\\venv\\Lib\\site-packages\\sklearn\\linear_model\\_coordinate_descent.py:695: ConvergenceWarning:\n",
            "\n",
            "Objective did not converge. You might want to increase the number of iterations, check the scale of the features or consider increasing regularisation. Duality gap: 4.095e+04, tolerance: 1.346e+04\n",
            "\n",
            "g:\\PythonProject\\Educational_Folder\\venv\\Lib\\site-packages\\sklearn\\linear_model\\_coordinate_descent.py:695: ConvergenceWarning:\n",
            "\n",
            "Objective did not converge. You might want to increase the number of iterations, check the scale of the features or consider increasing regularisation. Duality gap: 4.519e+04, tolerance: 1.329e+04\n",
            "\n",
            "g:\\PythonProject\\Educational_Folder\\venv\\Lib\\site-packages\\sklearn\\linear_model\\_coordinate_descent.py:695: ConvergenceWarning:\n",
            "\n",
            "Objective did not converge. You might want to increase the number of iterations, check the scale of the features or consider increasing regularisation. Duality gap: 4.711e+04, tolerance: 1.286e+04\n",
            "\n",
            "g:\\PythonProject\\Educational_Folder\\venv\\Lib\\site-packages\\sklearn\\linear_model\\_coordinate_descent.py:695: ConvergenceWarning:\n",
            "\n",
            "Objective did not converge. You might want to increase the number of iterations, check the scale of the features or consider increasing regularisation. Duality gap: 5.183e+04, tolerance: 1.332e+04\n",
            "\n",
            "g:\\PythonProject\\Educational_Folder\\venv\\Lib\\site-packages\\sklearn\\linear_model\\_coordinate_descent.py:695: ConvergenceWarning:\n",
            "\n",
            "Objective did not converge. You might want to increase the number of iterations, check the scale of the features or consider increasing regularisation. Duality gap: 4.404e+04, tolerance: 1.172e+04\n",
            "\n",
            "g:\\PythonProject\\Educational_Folder\\venv\\Lib\\site-packages\\sklearn\\linear_model\\_coordinate_descent.py:695: ConvergenceWarning:\n",
            "\n",
            "Objective did not converge. You might want to increase the number of iterations, check the scale of the features or consider increasing regularisation. Duality gap: 4.102e+04, tolerance: 1.346e+04\n",
            "\n",
            "g:\\PythonProject\\Educational_Folder\\venv\\Lib\\site-packages\\sklearn\\linear_model\\_coordinate_descent.py:695: ConvergenceWarning:\n",
            "\n",
            "Objective did not converge. You might want to increase the number of iterations, check the scale of the features or consider increasing regularisation. Duality gap: 4.522e+04, tolerance: 1.329e+04\n",
            "\n",
            "g:\\PythonProject\\Educational_Folder\\venv\\Lib\\site-packages\\sklearn\\linear_model\\_coordinate_descent.py:695: ConvergenceWarning:\n",
            "\n",
            "Objective did not converge. You might want to increase the number of iterations, check the scale of the features or consider increasing regularisation. Duality gap: 4.712e+04, tolerance: 1.286e+04\n",
            "\n",
            "g:\\PythonProject\\Educational_Folder\\venv\\Lib\\site-packages\\sklearn\\linear_model\\_coordinate_descent.py:695: ConvergenceWarning:\n",
            "\n",
            "Objective did not converge. You might want to increase the number of iterations, check the scale of the features or consider increasing regularisation. Duality gap: 5.180e+04, tolerance: 1.332e+04\n",
            "\n",
            "g:\\PythonProject\\Educational_Folder\\venv\\Lib\\site-packages\\sklearn\\linear_model\\_coordinate_descent.py:695: ConvergenceWarning:\n",
            "\n",
            "Objective did not converge. You might want to increase the number of iterations, check the scale of the features or consider increasing regularisation. Duality gap: 4.400e+04, tolerance: 1.172e+04\n",
            "\n",
            "g:\\PythonProject\\Educational_Folder\\venv\\Lib\\site-packages\\sklearn\\linear_model\\_coordinate_descent.py:695: ConvergenceWarning:\n",
            "\n",
            "Objective did not converge. You might want to increase the number of iterations, check the scale of the features or consider increasing regularisation. Duality gap: 4.110e+04, tolerance: 1.346e+04\n",
            "\n",
            "g:\\PythonProject\\Educational_Folder\\venv\\Lib\\site-packages\\sklearn\\linear_model\\_coordinate_descent.py:695: ConvergenceWarning:\n",
            "\n",
            "Objective did not converge. You might want to increase the number of iterations, check the scale of the features or consider increasing regularisation. Duality gap: 4.526e+04, tolerance: 1.329e+04\n",
            "\n",
            "g:\\PythonProject\\Educational_Folder\\venv\\Lib\\site-packages\\sklearn\\linear_model\\_coordinate_descent.py:695: ConvergenceWarning:\n",
            "\n",
            "Objective did not converge. You might want to increase the number of iterations, check the scale of the features or consider increasing regularisation. Duality gap: 4.712e+04, tolerance: 1.286e+04\n",
            "\n",
            "g:\\PythonProject\\Educational_Folder\\venv\\Lib\\site-packages\\sklearn\\linear_model\\_coordinate_descent.py:695: ConvergenceWarning:\n",
            "\n",
            "Objective did not converge. You might want to increase the number of iterations, check the scale of the features or consider increasing regularisation. Duality gap: 5.178e+04, tolerance: 1.332e+04\n",
            "\n",
            "g:\\PythonProject\\Educational_Folder\\venv\\Lib\\site-packages\\sklearn\\linear_model\\_coordinate_descent.py:695: ConvergenceWarning:\n",
            "\n",
            "Objective did not converge. You might want to increase the number of iterations, check the scale of the features or consider increasing regularisation. Duality gap: 4.391e+04, tolerance: 1.172e+04\n",
            "\n",
            "g:\\PythonProject\\Educational_Folder\\venv\\Lib\\site-packages\\sklearn\\linear_model\\_coordinate_descent.py:695: ConvergenceWarning:\n",
            "\n",
            "Objective did not converge. You might want to increase the number of iterations, check the scale of the features or consider increasing regularisation. Duality gap: 4.119e+04, tolerance: 1.346e+04\n",
            "\n",
            "g:\\PythonProject\\Educational_Folder\\venv\\Lib\\site-packages\\sklearn\\linear_model\\_coordinate_descent.py:695: ConvergenceWarning:\n",
            "\n",
            "Objective did not converge. You might want to increase the number of iterations, check the scale of the features or consider increasing regularisation. Duality gap: 4.529e+04, tolerance: 1.329e+04\n",
            "\n",
            "g:\\PythonProject\\Educational_Folder\\venv\\Lib\\site-packages\\sklearn\\linear_model\\_coordinate_descent.py:695: ConvergenceWarning:\n",
            "\n",
            "Objective did not converge. You might want to increase the number of iterations, check the scale of the features or consider increasing regularisation. Duality gap: 4.713e+04, tolerance: 1.286e+04\n",
            "\n",
            "g:\\PythonProject\\Educational_Folder\\venv\\Lib\\site-packages\\sklearn\\linear_model\\_coordinate_descent.py:695: ConvergenceWarning:\n",
            "\n",
            "Objective did not converge. You might want to increase the number of iterations, check the scale of the features or consider increasing regularisation. Duality gap: 5.174e+04, tolerance: 1.332e+04\n",
            "\n",
            "g:\\PythonProject\\Educational_Folder\\venv\\Lib\\site-packages\\sklearn\\linear_model\\_coordinate_descent.py:695: ConvergenceWarning:\n",
            "\n",
            "Objective did not converge. You might want to increase the number of iterations, check the scale of the features or consider increasing regularisation. Duality gap: 4.380e+04, tolerance: 1.172e+04\n",
            "\n",
            "g:\\PythonProject\\Educational_Folder\\venv\\Lib\\site-packages\\sklearn\\linear_model\\_coordinate_descent.py:695: ConvergenceWarning:\n",
            "\n",
            "Objective did not converge. You might want to increase the number of iterations, check the scale of the features or consider increasing regularisation. Duality gap: 4.128e+04, tolerance: 1.346e+04\n",
            "\n",
            "g:\\PythonProject\\Educational_Folder\\venv\\Lib\\site-packages\\sklearn\\linear_model\\_coordinate_descent.py:695: ConvergenceWarning:\n",
            "\n",
            "Objective did not converge. You might want to increase the number of iterations, check the scale of the features or consider increasing regularisation. Duality gap: 4.533e+04, tolerance: 1.329e+04\n",
            "\n",
            "g:\\PythonProject\\Educational_Folder\\venv\\Lib\\site-packages\\sklearn\\linear_model\\_coordinate_descent.py:695: ConvergenceWarning:\n",
            "\n",
            "Objective did not converge. You might want to increase the number of iterations, check the scale of the features or consider increasing regularisation. Duality gap: 4.712e+04, tolerance: 1.286e+04\n",
            "\n",
            "g:\\PythonProject\\Educational_Folder\\venv\\Lib\\site-packages\\sklearn\\linear_model\\_coordinate_descent.py:695: ConvergenceWarning:\n",
            "\n",
            "Objective did not converge. You might want to increase the number of iterations, check the scale of the features or consider increasing regularisation. Duality gap: 5.170e+04, tolerance: 1.332e+04\n",
            "\n",
            "g:\\PythonProject\\Educational_Folder\\venv\\Lib\\site-packages\\sklearn\\linear_model\\_coordinate_descent.py:695: ConvergenceWarning:\n",
            "\n",
            "Objective did not converge. You might want to increase the number of iterations, check the scale of the features or consider increasing regularisation. Duality gap: 4.366e+04, tolerance: 1.172e+04\n",
            "\n",
            "g:\\PythonProject\\Educational_Folder\\venv\\Lib\\site-packages\\sklearn\\linear_model\\_coordinate_descent.py:695: ConvergenceWarning:\n",
            "\n",
            "Objective did not converge. You might want to increase the number of iterations, check the scale of the features or consider increasing regularisation. Duality gap: 4.138e+04, tolerance: 1.346e+04\n",
            "\n",
            "g:\\PythonProject\\Educational_Folder\\venv\\Lib\\site-packages\\sklearn\\linear_model\\_coordinate_descent.py:695: ConvergenceWarning:\n",
            "\n",
            "Objective did not converge. You might want to increase the number of iterations, check the scale of the features or consider increasing regularisation. Duality gap: 4.537e+04, tolerance: 1.329e+04\n",
            "\n",
            "g:\\PythonProject\\Educational_Folder\\venv\\Lib\\site-packages\\sklearn\\linear_model\\_coordinate_descent.py:695: ConvergenceWarning:\n",
            "\n",
            "Objective did not converge. You might want to increase the number of iterations, check the scale of the features or consider increasing regularisation. Duality gap: 4.711e+04, tolerance: 1.286e+04\n",
            "\n",
            "g:\\PythonProject\\Educational_Folder\\venv\\Lib\\site-packages\\sklearn\\linear_model\\_coordinate_descent.py:695: ConvergenceWarning:\n",
            "\n",
            "Objective did not converge. You might want to increase the number of iterations, check the scale of the features or consider increasing regularisation. Duality gap: 5.165e+04, tolerance: 1.332e+04\n",
            "\n",
            "g:\\PythonProject\\Educational_Folder\\venv\\Lib\\site-packages\\sklearn\\linear_model\\_coordinate_descent.py:695: ConvergenceWarning:\n",
            "\n",
            "Objective did not converge. You might want to increase the number of iterations, check the scale of the features or consider increasing regularisation. Duality gap: 4.358e+04, tolerance: 1.172e+04\n",
            "\n",
            "g:\\PythonProject\\Educational_Folder\\venv\\Lib\\site-packages\\sklearn\\linear_model\\_coordinate_descent.py:695: ConvergenceWarning:\n",
            "\n",
            "Objective did not converge. You might want to increase the number of iterations, check the scale of the features or consider increasing regularisation. Duality gap: 4.149e+04, tolerance: 1.346e+04\n",
            "\n",
            "g:\\PythonProject\\Educational_Folder\\venv\\Lib\\site-packages\\sklearn\\linear_model\\_coordinate_descent.py:695: ConvergenceWarning:\n",
            "\n",
            "Objective did not converge. You might want to increase the number of iterations, check the scale of the features or consider increasing regularisation. Duality gap: 4.541e+04, tolerance: 1.329e+04\n",
            "\n",
            "g:\\PythonProject\\Educational_Folder\\venv\\Lib\\site-packages\\sklearn\\linear_model\\_coordinate_descent.py:695: ConvergenceWarning:\n",
            "\n",
            "Objective did not converge. You might want to increase the number of iterations, check the scale of the features or consider increasing regularisation. Duality gap: 4.709e+04, tolerance: 1.286e+04\n",
            "\n",
            "g:\\PythonProject\\Educational_Folder\\venv\\Lib\\site-packages\\sklearn\\linear_model\\_coordinate_descent.py:695: ConvergenceWarning:\n",
            "\n",
            "Objective did not converge. You might want to increase the number of iterations, check the scale of the features or consider increasing regularisation. Duality gap: 5.158e+04, tolerance: 1.332e+04\n",
            "\n",
            "g:\\PythonProject\\Educational_Folder\\venv\\Lib\\site-packages\\sklearn\\linear_model\\_coordinate_descent.py:695: ConvergenceWarning:\n",
            "\n",
            "Objective did not converge. You might want to increase the number of iterations, check the scale of the features or consider increasing regularisation. Duality gap: 4.337e+04, tolerance: 1.172e+04\n",
            "\n",
            "g:\\PythonProject\\Educational_Folder\\venv\\Lib\\site-packages\\sklearn\\linear_model\\_coordinate_descent.py:695: ConvergenceWarning:\n",
            "\n",
            "Objective did not converge. You might want to increase the number of iterations, check the scale of the features or consider increasing regularisation. Duality gap: 4.160e+04, tolerance: 1.346e+04\n",
            "\n",
            "g:\\PythonProject\\Educational_Folder\\venv\\Lib\\site-packages\\sklearn\\linear_model\\_coordinate_descent.py:695: ConvergenceWarning:\n",
            "\n",
            "Objective did not converge. You might want to increase the number of iterations, check the scale of the features or consider increasing regularisation. Duality gap: 4.544e+04, tolerance: 1.329e+04\n",
            "\n",
            "g:\\PythonProject\\Educational_Folder\\venv\\Lib\\site-packages\\sklearn\\linear_model\\_coordinate_descent.py:695: ConvergenceWarning:\n",
            "\n",
            "Objective did not converge. You might want to increase the number of iterations, check the scale of the features or consider increasing regularisation. Duality gap: 4.705e+04, tolerance: 1.286e+04\n",
            "\n",
            "g:\\PythonProject\\Educational_Folder\\venv\\Lib\\site-packages\\sklearn\\linear_model\\_coordinate_descent.py:695: ConvergenceWarning:\n",
            "\n",
            "Objective did not converge. You might want to increase the number of iterations, check the scale of the features or consider increasing regularisation. Duality gap: 5.149e+04, tolerance: 1.332e+04\n",
            "\n",
            "g:\\PythonProject\\Educational_Folder\\venv\\Lib\\site-packages\\sklearn\\linear_model\\_coordinate_descent.py:695: ConvergenceWarning:\n",
            "\n",
            "Objective did not converge. You might want to increase the number of iterations, check the scale of the features or consider increasing regularisation. Duality gap: 4.317e+04, tolerance: 1.172e+04\n",
            "\n",
            "g:\\PythonProject\\Educational_Folder\\venv\\Lib\\site-packages\\sklearn\\linear_model\\_coordinate_descent.py:695: ConvergenceWarning:\n",
            "\n",
            "Objective did not converge. You might want to increase the number of iterations, check the scale of the features or consider increasing regularisation. Duality gap: 4.172e+04, tolerance: 1.346e+04\n",
            "\n",
            "g:\\PythonProject\\Educational_Folder\\venv\\Lib\\site-packages\\sklearn\\linear_model\\_coordinate_descent.py:695: ConvergenceWarning:\n",
            "\n",
            "Objective did not converge. You might want to increase the number of iterations, check the scale of the features or consider increasing regularisation. Duality gap: 4.547e+04, tolerance: 1.329e+04\n",
            "\n",
            "g:\\PythonProject\\Educational_Folder\\venv\\Lib\\site-packages\\sklearn\\linear_model\\_coordinate_descent.py:695: ConvergenceWarning:\n",
            "\n",
            "Objective did not converge. You might want to increase the number of iterations, check the scale of the features or consider increasing regularisation. Duality gap: 4.703e+04, tolerance: 1.286e+04\n",
            "\n",
            "g:\\PythonProject\\Educational_Folder\\venv\\Lib\\site-packages\\sklearn\\linear_model\\_coordinate_descent.py:695: ConvergenceWarning:\n",
            "\n",
            "Objective did not converge. You might want to increase the number of iterations, check the scale of the features or consider increasing regularisation. Duality gap: 5.138e+04, tolerance: 1.332e+04\n",
            "\n",
            "g:\\PythonProject\\Educational_Folder\\venv\\Lib\\site-packages\\sklearn\\linear_model\\_coordinate_descent.py:695: ConvergenceWarning:\n",
            "\n",
            "Objective did not converge. You might want to increase the number of iterations, check the scale of the features or consider increasing regularisation. Duality gap: 4.280e+04, tolerance: 1.172e+04\n",
            "\n",
            "g:\\PythonProject\\Educational_Folder\\venv\\Lib\\site-packages\\sklearn\\linear_model\\_coordinate_descent.py:695: ConvergenceWarning:\n",
            "\n",
            "Objective did not converge. You might want to increase the number of iterations, check the scale of the features or consider increasing regularisation. Duality gap: 4.183e+04, tolerance: 1.346e+04\n",
            "\n",
            "g:\\PythonProject\\Educational_Folder\\venv\\Lib\\site-packages\\sklearn\\linear_model\\_coordinate_descent.py:695: ConvergenceWarning:\n",
            "\n",
            "Objective did not converge. You might want to increase the number of iterations, check the scale of the features or consider increasing regularisation. Duality gap: 4.545e+04, tolerance: 1.329e+04\n",
            "\n",
            "g:\\PythonProject\\Educational_Folder\\venv\\Lib\\site-packages\\sklearn\\linear_model\\_coordinate_descent.py:695: ConvergenceWarning:\n",
            "\n",
            "Objective did not converge. You might want to increase the number of iterations, check the scale of the features or consider increasing regularisation. Duality gap: 4.705e+04, tolerance: 1.286e+04\n",
            "\n",
            "g:\\PythonProject\\Educational_Folder\\venv\\Lib\\site-packages\\sklearn\\linear_model\\_coordinate_descent.py:695: ConvergenceWarning:\n",
            "\n",
            "Objective did not converge. You might want to increase the number of iterations, check the scale of the features or consider increasing regularisation. Duality gap: 5.125e+04, tolerance: 1.332e+04\n",
            "\n",
            "g:\\PythonProject\\Educational_Folder\\venv\\Lib\\site-packages\\sklearn\\linear_model\\_coordinate_descent.py:695: ConvergenceWarning:\n",
            "\n",
            "Objective did not converge. You might want to increase the number of iterations, check the scale of the features or consider increasing regularisation. Duality gap: 4.241e+04, tolerance: 1.172e+04\n",
            "\n",
            "g:\\PythonProject\\Educational_Folder\\venv\\Lib\\site-packages\\sklearn\\linear_model\\_coordinate_descent.py:695: ConvergenceWarning:\n",
            "\n",
            "Objective did not converge. You might want to increase the number of iterations, check the scale of the features or consider increasing regularisation. Duality gap: 4.194e+04, tolerance: 1.346e+04\n",
            "\n",
            "g:\\PythonProject\\Educational_Folder\\venv\\Lib\\site-packages\\sklearn\\linear_model\\_coordinate_descent.py:695: ConvergenceWarning:\n",
            "\n",
            "Objective did not converge. You might want to increase the number of iterations, check the scale of the features or consider increasing regularisation. Duality gap: 4.544e+04, tolerance: 1.329e+04\n",
            "\n",
            "g:\\PythonProject\\Educational_Folder\\venv\\Lib\\site-packages\\sklearn\\linear_model\\_coordinate_descent.py:695: ConvergenceWarning:\n",
            "\n",
            "Objective did not converge. You might want to increase the number of iterations, check the scale of the features or consider increasing regularisation. Duality gap: 4.711e+04, tolerance: 1.286e+04\n",
            "\n",
            "g:\\PythonProject\\Educational_Folder\\venv\\Lib\\site-packages\\sklearn\\linear_model\\_coordinate_descent.py:695: ConvergenceWarning:\n",
            "\n",
            "Objective did not converge. You might want to increase the number of iterations, check the scale of the features or consider increasing regularisation. Duality gap: 5.107e+04, tolerance: 1.332e+04\n",
            "\n",
            "g:\\PythonProject\\Educational_Folder\\venv\\Lib\\site-packages\\sklearn\\linear_model\\_coordinate_descent.py:695: ConvergenceWarning:\n",
            "\n",
            "Objective did not converge. You might want to increase the number of iterations, check the scale of the features or consider increasing regularisation. Duality gap: 4.171e+04, tolerance: 1.172e+04\n",
            "\n",
            "g:\\PythonProject\\Educational_Folder\\venv\\Lib\\site-packages\\sklearn\\linear_model\\_coordinate_descent.py:695: ConvergenceWarning:\n",
            "\n",
            "Objective did not converge. You might want to increase the number of iterations, check the scale of the features or consider increasing regularisation. Duality gap: 4.204e+04, tolerance: 1.346e+04\n",
            "\n",
            "g:\\PythonProject\\Educational_Folder\\venv\\Lib\\site-packages\\sklearn\\linear_model\\_coordinate_descent.py:695: ConvergenceWarning:\n",
            "\n",
            "Objective did not converge. You might want to increase the number of iterations, check the scale of the features or consider increasing regularisation. Duality gap: 4.542e+04, tolerance: 1.329e+04\n",
            "\n",
            "g:\\PythonProject\\Educational_Folder\\venv\\Lib\\site-packages\\sklearn\\linear_model\\_coordinate_descent.py:695: ConvergenceWarning:\n",
            "\n",
            "Objective did not converge. You might want to increase the number of iterations, check the scale of the features or consider increasing regularisation. Duality gap: 4.719e+04, tolerance: 1.286e+04\n",
            "\n",
            "g:\\PythonProject\\Educational_Folder\\venv\\Lib\\site-packages\\sklearn\\linear_model\\_coordinate_descent.py:695: ConvergenceWarning:\n",
            "\n",
            "Objective did not converge. You might want to increase the number of iterations, check the scale of the features or consider increasing regularisation. Duality gap: 5.086e+04, tolerance: 1.332e+04\n",
            "\n",
            "g:\\PythonProject\\Educational_Folder\\venv\\Lib\\site-packages\\sklearn\\linear_model\\_coordinate_descent.py:695: ConvergenceWarning:\n",
            "\n",
            "Objective did not converge. You might want to increase the number of iterations, check the scale of the features or consider increasing regularisation. Duality gap: 4.078e+04, tolerance: 1.172e+04\n",
            "\n",
            "g:\\PythonProject\\Educational_Folder\\venv\\Lib\\site-packages\\sklearn\\linear_model\\_coordinate_descent.py:695: ConvergenceWarning:\n",
            "\n",
            "Objective did not converge. You might want to increase the number of iterations, check the scale of the features or consider increasing regularisation. Duality gap: 4.216e+04, tolerance: 1.346e+04\n",
            "\n",
            "g:\\PythonProject\\Educational_Folder\\venv\\Lib\\site-packages\\sklearn\\linear_model\\_coordinate_descent.py:695: ConvergenceWarning:\n",
            "\n",
            "Objective did not converge. You might want to increase the number of iterations, check the scale of the features or consider increasing regularisation. Duality gap: 4.435e+04, tolerance: 1.329e+04\n",
            "\n",
            "g:\\PythonProject\\Educational_Folder\\venv\\Lib\\site-packages\\sklearn\\linear_model\\_coordinate_descent.py:695: ConvergenceWarning:\n",
            "\n",
            "Objective did not converge. You might want to increase the number of iterations, check the scale of the features or consider increasing regularisation. Duality gap: 4.730e+04, tolerance: 1.286e+04\n",
            "\n",
            "g:\\PythonProject\\Educational_Folder\\venv\\Lib\\site-packages\\sklearn\\linear_model\\_coordinate_descent.py:695: ConvergenceWarning:\n",
            "\n",
            "Objective did not converge. You might want to increase the number of iterations, check the scale of the features or consider increasing regularisation. Duality gap: 5.056e+04, tolerance: 1.332e+04\n",
            "\n",
            "g:\\PythonProject\\Educational_Folder\\venv\\Lib\\site-packages\\sklearn\\linear_model\\_coordinate_descent.py:695: ConvergenceWarning:\n",
            "\n",
            "Objective did not converge. You might want to increase the number of iterations, check the scale of the features or consider increasing regularisation. Duality gap: 3.977e+04, tolerance: 1.172e+04\n",
            "\n",
            "g:\\PythonProject\\Educational_Folder\\venv\\Lib\\site-packages\\sklearn\\linear_model\\_coordinate_descent.py:695: ConvergenceWarning:\n",
            "\n",
            "Objective did not converge. You might want to increase the number of iterations, check the scale of the features or consider increasing regularisation. Duality gap: 4.234e+04, tolerance: 1.346e+04\n",
            "\n",
            "g:\\PythonProject\\Educational_Folder\\venv\\Lib\\site-packages\\sklearn\\linear_model\\_coordinate_descent.py:695: ConvergenceWarning:\n",
            "\n",
            "Objective did not converge. You might want to increase the number of iterations, check the scale of the features or consider increasing regularisation. Duality gap: 4.372e+04, tolerance: 1.329e+04\n",
            "\n",
            "g:\\PythonProject\\Educational_Folder\\venv\\Lib\\site-packages\\sklearn\\linear_model\\_coordinate_descent.py:695: ConvergenceWarning:\n",
            "\n",
            "Objective did not converge. You might want to increase the number of iterations, check the scale of the features or consider increasing regularisation. Duality gap: 4.743e+04, tolerance: 1.286e+04\n",
            "\n",
            "g:\\PythonProject\\Educational_Folder\\venv\\Lib\\site-packages\\sklearn\\linear_model\\_coordinate_descent.py:695: ConvergenceWarning:\n",
            "\n",
            "Objective did not converge. You might want to increase the number of iterations, check the scale of the features or consider increasing regularisation. Duality gap: 5.021e+04, tolerance: 1.332e+04\n",
            "\n",
            "g:\\PythonProject\\Educational_Folder\\venv\\Lib\\site-packages\\sklearn\\linear_model\\_coordinate_descent.py:695: ConvergenceWarning:\n",
            "\n",
            "Objective did not converge. You might want to increase the number of iterations, check the scale of the features or consider increasing regularisation. Duality gap: 3.832e+04, tolerance: 1.172e+04\n",
            "\n",
            "g:\\PythonProject\\Educational_Folder\\venv\\Lib\\site-packages\\sklearn\\linear_model\\_coordinate_descent.py:695: ConvergenceWarning:\n",
            "\n",
            "Objective did not converge. You might want to increase the number of iterations, check the scale of the features or consider increasing regularisation. Duality gap: 4.209e+04, tolerance: 1.346e+04\n",
            "\n",
            "g:\\PythonProject\\Educational_Folder\\venv\\Lib\\site-packages\\sklearn\\linear_model\\_coordinate_descent.py:695: ConvergenceWarning:\n",
            "\n",
            "Objective did not converge. You might want to increase the number of iterations, check the scale of the features or consider increasing regularisation. Duality gap: 4.362e+04, tolerance: 1.329e+04\n",
            "\n",
            "g:\\PythonProject\\Educational_Folder\\venv\\Lib\\site-packages\\sklearn\\linear_model\\_coordinate_descent.py:695: ConvergenceWarning:\n",
            "\n",
            "Objective did not converge. You might want to increase the number of iterations, check the scale of the features or consider increasing regularisation. Duality gap: 4.759e+04, tolerance: 1.286e+04\n",
            "\n",
            "g:\\PythonProject\\Educational_Folder\\venv\\Lib\\site-packages\\sklearn\\linear_model\\_coordinate_descent.py:695: ConvergenceWarning:\n",
            "\n",
            "Objective did not converge. You might want to increase the number of iterations, check the scale of the features or consider increasing regularisation. Duality gap: 4.849e+04, tolerance: 1.332e+04\n",
            "\n",
            "g:\\PythonProject\\Educational_Folder\\venv\\Lib\\site-packages\\sklearn\\linear_model\\_coordinate_descent.py:695: ConvergenceWarning:\n",
            "\n",
            "Objective did not converge. You might want to increase the number of iterations, check the scale of the features or consider increasing regularisation. Duality gap: 3.722e+04, tolerance: 1.172e+04\n",
            "\n",
            "g:\\PythonProject\\Educational_Folder\\venv\\Lib\\site-packages\\sklearn\\linear_model\\_coordinate_descent.py:695: ConvergenceWarning:\n",
            "\n",
            "Objective did not converge. You might want to increase the number of iterations, check the scale of the features or consider increasing regularisation. Duality gap: 4.139e+04, tolerance: 1.346e+04\n",
            "\n",
            "g:\\PythonProject\\Educational_Folder\\venv\\Lib\\site-packages\\sklearn\\linear_model\\_coordinate_descent.py:695: ConvergenceWarning:\n",
            "\n",
            "Objective did not converge. You might want to increase the number of iterations, check the scale of the features or consider increasing regularisation. Duality gap: 4.184e+04, tolerance: 1.329e+04\n",
            "\n",
            "g:\\PythonProject\\Educational_Folder\\venv\\Lib\\site-packages\\sklearn\\linear_model\\_coordinate_descent.py:695: ConvergenceWarning:\n",
            "\n",
            "Objective did not converge. You might want to increase the number of iterations, check the scale of the features or consider increasing regularisation. Duality gap: 4.782e+04, tolerance: 1.286e+04\n",
            "\n",
            "g:\\PythonProject\\Educational_Folder\\venv\\Lib\\site-packages\\sklearn\\linear_model\\_coordinate_descent.py:695: ConvergenceWarning:\n",
            "\n",
            "Objective did not converge. You might want to increase the number of iterations, check the scale of the features or consider increasing regularisation. Duality gap: 4.828e+04, tolerance: 1.332e+04\n",
            "\n",
            "g:\\PythonProject\\Educational_Folder\\venv\\Lib\\site-packages\\sklearn\\linear_model\\_coordinate_descent.py:695: ConvergenceWarning:\n",
            "\n",
            "Objective did not converge. You might want to increase the number of iterations, check the scale of the features or consider increasing regularisation. Duality gap: 3.860e+04, tolerance: 1.172e+04\n",
            "\n",
            "g:\\PythonProject\\Educational_Folder\\venv\\Lib\\site-packages\\sklearn\\linear_model\\_coordinate_descent.py:695: ConvergenceWarning:\n",
            "\n",
            "Objective did not converge. You might want to increase the number of iterations, check the scale of the features or consider increasing regularisation. Duality gap: 4.147e+04, tolerance: 1.346e+04\n",
            "\n",
            "g:\\PythonProject\\Educational_Folder\\venv\\Lib\\site-packages\\sklearn\\linear_model\\_coordinate_descent.py:695: ConvergenceWarning:\n",
            "\n",
            "Objective did not converge. You might want to increase the number of iterations, check the scale of the features or consider increasing regularisation. Duality gap: 4.013e+04, tolerance: 1.329e+04\n",
            "\n",
            "g:\\PythonProject\\Educational_Folder\\venv\\Lib\\site-packages\\sklearn\\linear_model\\_coordinate_descent.py:695: ConvergenceWarning:\n",
            "\n",
            "Objective did not converge. You might want to increase the number of iterations, check the scale of the features or consider increasing regularisation. Duality gap: 4.816e+04, tolerance: 1.286e+04\n",
            "\n",
            "g:\\PythonProject\\Educational_Folder\\venv\\Lib\\site-packages\\sklearn\\linear_model\\_coordinate_descent.py:695: ConvergenceWarning:\n",
            "\n",
            "Objective did not converge. You might want to increase the number of iterations, check the scale of the features or consider increasing regularisation. Duality gap: 4.787e+04, tolerance: 1.332e+04\n",
            "\n",
            "g:\\PythonProject\\Educational_Folder\\venv\\Lib\\site-packages\\sklearn\\linear_model\\_coordinate_descent.py:695: ConvergenceWarning:\n",
            "\n",
            "Objective did not converge. You might want to increase the number of iterations, check the scale of the features or consider increasing regularisation. Duality gap: 3.856e+04, tolerance: 1.172e+04\n",
            "\n",
            "g:\\PythonProject\\Educational_Folder\\venv\\Lib\\site-packages\\sklearn\\linear_model\\_coordinate_descent.py:695: ConvergenceWarning:\n",
            "\n",
            "Objective did not converge. You might want to increase the number of iterations, check the scale of the features or consider increasing regularisation. Duality gap: 4.137e+04, tolerance: 1.346e+04\n",
            "\n",
            "g:\\PythonProject\\Educational_Folder\\venv\\Lib\\site-packages\\sklearn\\linear_model\\_coordinate_descent.py:695: ConvergenceWarning:\n",
            "\n",
            "Objective did not converge. You might want to increase the number of iterations, check the scale of the features or consider increasing regularisation. Duality gap: 4.028e+04, tolerance: 1.329e+04\n",
            "\n",
            "g:\\PythonProject\\Educational_Folder\\venv\\Lib\\site-packages\\sklearn\\linear_model\\_coordinate_descent.py:695: ConvergenceWarning:\n",
            "\n",
            "Objective did not converge. You might want to increase the number of iterations, check the scale of the features or consider increasing regularisation. Duality gap: 4.831e+04, tolerance: 1.286e+04\n",
            "\n",
            "g:\\PythonProject\\Educational_Folder\\venv\\Lib\\site-packages\\sklearn\\linear_model\\_coordinate_descent.py:695: ConvergenceWarning:\n",
            "\n",
            "Objective did not converge. You might want to increase the number of iterations, check the scale of the features or consider increasing regularisation. Duality gap: 4.746e+04, tolerance: 1.332e+04\n",
            "\n",
            "g:\\PythonProject\\Educational_Folder\\venv\\Lib\\site-packages\\sklearn\\linear_model\\_coordinate_descent.py:695: ConvergenceWarning:\n",
            "\n",
            "Objective did not converge. You might want to increase the number of iterations, check the scale of the features or consider increasing regularisation. Duality gap: 3.848e+04, tolerance: 1.172e+04\n",
            "\n",
            "g:\\PythonProject\\Educational_Folder\\venv\\Lib\\site-packages\\sklearn\\linear_model\\_coordinate_descent.py:695: ConvergenceWarning:\n",
            "\n",
            "Objective did not converge. You might want to increase the number of iterations, check the scale of the features or consider increasing regularisation. Duality gap: 4.099e+04, tolerance: 1.346e+04\n",
            "\n",
            "g:\\PythonProject\\Educational_Folder\\venv\\Lib\\site-packages\\sklearn\\linear_model\\_coordinate_descent.py:695: ConvergenceWarning:\n",
            "\n",
            "Objective did not converge. You might want to increase the number of iterations, check the scale of the features or consider increasing regularisation. Duality gap: 3.972e+04, tolerance: 1.329e+04\n",
            "\n",
            "g:\\PythonProject\\Educational_Folder\\venv\\Lib\\site-packages\\sklearn\\linear_model\\_coordinate_descent.py:695: ConvergenceWarning:\n",
            "\n",
            "Objective did not converge. You might want to increase the number of iterations, check the scale of the features or consider increasing regularisation. Duality gap: 4.794e+04, tolerance: 1.286e+04\n",
            "\n",
            "g:\\PythonProject\\Educational_Folder\\venv\\Lib\\site-packages\\sklearn\\linear_model\\_coordinate_descent.py:695: ConvergenceWarning:\n",
            "\n",
            "Objective did not converge. You might want to increase the number of iterations, check the scale of the features or consider increasing regularisation. Duality gap: 4.585e+04, tolerance: 1.332e+04\n",
            "\n",
            "g:\\PythonProject\\Educational_Folder\\venv\\Lib\\site-packages\\sklearn\\linear_model\\_coordinate_descent.py:695: ConvergenceWarning:\n",
            "\n",
            "Objective did not converge. You might want to increase the number of iterations, check the scale of the features or consider increasing regularisation. Duality gap: 3.846e+04, tolerance: 1.172e+04\n",
            "\n",
            "g:\\PythonProject\\Educational_Folder\\venv\\Lib\\site-packages\\sklearn\\linear_model\\_coordinate_descent.py:695: ConvergenceWarning:\n",
            "\n",
            "Objective did not converge. You might want to increase the number of iterations, check the scale of the features or consider increasing regularisation. Duality gap: 4.237e+04, tolerance: 1.346e+04\n",
            "\n",
            "g:\\PythonProject\\Educational_Folder\\venv\\Lib\\site-packages\\sklearn\\linear_model\\_coordinate_descent.py:695: ConvergenceWarning:\n",
            "\n",
            "Objective did not converge. You might want to increase the number of iterations, check the scale of the features or consider increasing regularisation. Duality gap: 3.953e+04, tolerance: 1.329e+04\n",
            "\n",
            "g:\\PythonProject\\Educational_Folder\\venv\\Lib\\site-packages\\sklearn\\linear_model\\_coordinate_descent.py:695: ConvergenceWarning:\n",
            "\n",
            "Objective did not converge. You might want to increase the number of iterations, check the scale of the features or consider increasing regularisation. Duality gap: 4.839e+04, tolerance: 1.286e+04\n",
            "\n",
            "g:\\PythonProject\\Educational_Folder\\venv\\Lib\\site-packages\\sklearn\\linear_model\\_coordinate_descent.py:695: ConvergenceWarning:\n",
            "\n",
            "Objective did not converge. You might want to increase the number of iterations, check the scale of the features or consider increasing regularisation. Duality gap: 4.596e+04, tolerance: 1.332e+04\n",
            "\n",
            "g:\\PythonProject\\Educational_Folder\\venv\\Lib\\site-packages\\sklearn\\linear_model\\_coordinate_descent.py:695: ConvergenceWarning:\n",
            "\n",
            "Objective did not converge. You might want to increase the number of iterations, check the scale of the features or consider increasing regularisation. Duality gap: 3.363e+04, tolerance: 1.172e+04\n",
            "\n",
            "g:\\PythonProject\\Educational_Folder\\venv\\Lib\\site-packages\\sklearn\\linear_model\\_coordinate_descent.py:695: ConvergenceWarning:\n",
            "\n",
            "Objective did not converge. You might want to increase the number of iterations, check the scale of the features or consider increasing regularisation. Duality gap: 4.311e+04, tolerance: 1.346e+04\n",
            "\n",
            "g:\\PythonProject\\Educational_Folder\\venv\\Lib\\site-packages\\sklearn\\linear_model\\_coordinate_descent.py:695: ConvergenceWarning:\n",
            "\n",
            "Objective did not converge. You might want to increase the number of iterations, check the scale of the features or consider increasing regularisation. Duality gap: 3.929e+04, tolerance: 1.329e+04\n",
            "\n",
            "g:\\PythonProject\\Educational_Folder\\venv\\Lib\\site-packages\\sklearn\\linear_model\\_coordinate_descent.py:695: ConvergenceWarning:\n",
            "\n",
            "Objective did not converge. You might want to increase the number of iterations, check the scale of the features or consider increasing regularisation. Duality gap: 4.729e+04, tolerance: 1.286e+04\n",
            "\n",
            "g:\\PythonProject\\Educational_Folder\\venv\\Lib\\site-packages\\sklearn\\linear_model\\_coordinate_descent.py:695: ConvergenceWarning:\n",
            "\n",
            "Objective did not converge. You might want to increase the number of iterations, check the scale of the features or consider increasing regularisation. Duality gap: 4.601e+04, tolerance: 1.332e+04\n",
            "\n",
            "g:\\PythonProject\\Educational_Folder\\venv\\Lib\\site-packages\\sklearn\\linear_model\\_coordinate_descent.py:695: ConvergenceWarning:\n",
            "\n",
            "Objective did not converge. You might want to increase the number of iterations, check the scale of the features or consider increasing regularisation. Duality gap: 3.241e+04, tolerance: 1.172e+04\n",
            "\n",
            "g:\\PythonProject\\Educational_Folder\\venv\\Lib\\site-packages\\sklearn\\linear_model\\_coordinate_descent.py:695: ConvergenceWarning:\n",
            "\n",
            "Objective did not converge. You might want to increase the number of iterations, check the scale of the features or consider increasing regularisation. Duality gap: 4.452e+04, tolerance: 1.346e+04\n",
            "\n",
            "g:\\PythonProject\\Educational_Folder\\venv\\Lib\\site-packages\\sklearn\\linear_model\\_coordinate_descent.py:695: ConvergenceWarning:\n",
            "\n",
            "Objective did not converge. You might want to increase the number of iterations, check the scale of the features or consider increasing regularisation. Duality gap: 3.880e+04, tolerance: 1.329e+04\n",
            "\n",
            "g:\\PythonProject\\Educational_Folder\\venv\\Lib\\site-packages\\sklearn\\linear_model\\_coordinate_descent.py:695: ConvergenceWarning:\n",
            "\n",
            "Objective did not converge. You might want to increase the number of iterations, check the scale of the features or consider increasing regularisation. Duality gap: 4.780e+04, tolerance: 1.286e+04\n",
            "\n",
            "g:\\PythonProject\\Educational_Folder\\venv\\Lib\\site-packages\\sklearn\\linear_model\\_coordinate_descent.py:695: ConvergenceWarning:\n",
            "\n",
            "Objective did not converge. You might want to increase the number of iterations, check the scale of the features or consider increasing regularisation. Duality gap: 4.669e+04, tolerance: 1.332e+04\n",
            "\n",
            "g:\\PythonProject\\Educational_Folder\\venv\\Lib\\site-packages\\sklearn\\linear_model\\_coordinate_descent.py:695: ConvergenceWarning:\n",
            "\n",
            "Objective did not converge. You might want to increase the number of iterations, check the scale of the features or consider increasing regularisation. Duality gap: 3.265e+04, tolerance: 1.172e+04\n",
            "\n",
            "g:\\PythonProject\\Educational_Folder\\venv\\Lib\\site-packages\\sklearn\\linear_model\\_coordinate_descent.py:695: ConvergenceWarning:\n",
            "\n",
            "Objective did not converge. You might want to increase the number of iterations, check the scale of the features or consider increasing regularisation. Duality gap: 4.518e+04, tolerance: 1.346e+04\n",
            "\n",
            "g:\\PythonProject\\Educational_Folder\\venv\\Lib\\site-packages\\sklearn\\linear_model\\_coordinate_descent.py:695: ConvergenceWarning:\n",
            "\n",
            "Objective did not converge. You might want to increase the number of iterations, check the scale of the features or consider increasing regularisation. Duality gap: 3.807e+04, tolerance: 1.329e+04\n",
            "\n",
            "g:\\PythonProject\\Educational_Folder\\venv\\Lib\\site-packages\\sklearn\\linear_model\\_coordinate_descent.py:695: ConvergenceWarning:\n",
            "\n",
            "Objective did not converge. You might want to increase the number of iterations, check the scale of the features or consider increasing regularisation. Duality gap: 4.762e+04, tolerance: 1.286e+04\n",
            "\n",
            "g:\\PythonProject\\Educational_Folder\\venv\\Lib\\site-packages\\sklearn\\linear_model\\_coordinate_descent.py:695: ConvergenceWarning:\n",
            "\n",
            "Objective did not converge. You might want to increase the number of iterations, check the scale of the features or consider increasing regularisation. Duality gap: 4.629e+04, tolerance: 1.332e+04\n",
            "\n",
            "g:\\PythonProject\\Educational_Folder\\venv\\Lib\\site-packages\\sklearn\\linear_model\\_coordinate_descent.py:695: ConvergenceWarning:\n",
            "\n",
            "Objective did not converge. You might want to increase the number of iterations, check the scale of the features or consider increasing regularisation. Duality gap: 2.437e+04, tolerance: 1.172e+04\n",
            "\n",
            "g:\\PythonProject\\Educational_Folder\\venv\\Lib\\site-packages\\sklearn\\linear_model\\_coordinate_descent.py:695: ConvergenceWarning:\n",
            "\n",
            "Objective did not converge. You might want to increase the number of iterations, check the scale of the features or consider increasing regularisation. Duality gap: 4.615e+04, tolerance: 1.346e+04\n",
            "\n",
            "g:\\PythonProject\\Educational_Folder\\venv\\Lib\\site-packages\\sklearn\\linear_model\\_coordinate_descent.py:695: ConvergenceWarning:\n",
            "\n",
            "Objective did not converge. You might want to increase the number of iterations, check the scale of the features or consider increasing regularisation. Duality gap: 3.714e+04, tolerance: 1.329e+04\n",
            "\n",
            "g:\\PythonProject\\Educational_Folder\\venv\\Lib\\site-packages\\sklearn\\linear_model\\_coordinate_descent.py:695: ConvergenceWarning:\n",
            "\n",
            "Objective did not converge. You might want to increase the number of iterations, check the scale of the features or consider increasing regularisation. Duality gap: 4.627e+04, tolerance: 1.286e+04\n",
            "\n",
            "g:\\PythonProject\\Educational_Folder\\venv\\Lib\\site-packages\\sklearn\\linear_model\\_coordinate_descent.py:695: ConvergenceWarning:\n",
            "\n",
            "Objective did not converge. You might want to increase the number of iterations, check the scale of the features or consider increasing regularisation. Duality gap: 4.571e+04, tolerance: 1.332e+04\n",
            "\n",
            "g:\\PythonProject\\Educational_Folder\\venv\\Lib\\site-packages\\sklearn\\linear_model\\_coordinate_descent.py:695: ConvergenceWarning:\n",
            "\n",
            "Objective did not converge. You might want to increase the number of iterations, check the scale of the features or consider increasing regularisation. Duality gap: 2.064e+04, tolerance: 1.172e+04\n",
            "\n",
            "g:\\PythonProject\\Educational_Folder\\venv\\Lib\\site-packages\\sklearn\\linear_model\\_coordinate_descent.py:695: ConvergenceWarning:\n",
            "\n",
            "Objective did not converge. You might want to increase the number of iterations, check the scale of the features or consider increasing regularisation. Duality gap: 4.586e+04, tolerance: 1.346e+04\n",
            "\n",
            "g:\\PythonProject\\Educational_Folder\\venv\\Lib\\site-packages\\sklearn\\linear_model\\_coordinate_descent.py:695: ConvergenceWarning:\n",
            "\n",
            "Objective did not converge. You might want to increase the number of iterations, check the scale of the features or consider increasing regularisation. Duality gap: 3.142e+04, tolerance: 1.329e+04\n",
            "\n",
            "g:\\PythonProject\\Educational_Folder\\venv\\Lib\\site-packages\\sklearn\\linear_model\\_coordinate_descent.py:695: ConvergenceWarning:\n",
            "\n",
            "Objective did not converge. You might want to increase the number of iterations, check the scale of the features or consider increasing regularisation. Duality gap: 4.634e+04, tolerance: 1.286e+04\n",
            "\n",
            "g:\\PythonProject\\Educational_Folder\\venv\\Lib\\site-packages\\sklearn\\linear_model\\_coordinate_descent.py:695: ConvergenceWarning:\n",
            "\n",
            "Objective did not converge. You might want to increase the number of iterations, check the scale of the features or consider increasing regularisation. Duality gap: 4.467e+04, tolerance: 1.332e+04\n",
            "\n",
            "g:\\PythonProject\\Educational_Folder\\venv\\Lib\\site-packages\\sklearn\\linear_model\\_coordinate_descent.py:695: ConvergenceWarning:\n",
            "\n",
            "Objective did not converge. You might want to increase the number of iterations, check the scale of the features or consider increasing regularisation. Duality gap: 1.652e+04, tolerance: 1.172e+04\n",
            "\n",
            "g:\\PythonProject\\Educational_Folder\\venv\\Lib\\site-packages\\sklearn\\linear_model\\_coordinate_descent.py:695: ConvergenceWarning:\n",
            "\n",
            "Objective did not converge. You might want to increase the number of iterations, check the scale of the features or consider increasing regularisation. Duality gap: 4.627e+04, tolerance: 1.346e+04\n",
            "\n",
            "g:\\PythonProject\\Educational_Folder\\venv\\Lib\\site-packages\\sklearn\\linear_model\\_coordinate_descent.py:695: ConvergenceWarning:\n",
            "\n",
            "Objective did not converge. You might want to increase the number of iterations, check the scale of the features or consider increasing regularisation. Duality gap: 3.017e+04, tolerance: 1.329e+04\n",
            "\n",
            "g:\\PythonProject\\Educational_Folder\\venv\\Lib\\site-packages\\sklearn\\linear_model\\_coordinate_descent.py:695: ConvergenceWarning:\n",
            "\n",
            "Objective did not converge. You might want to increase the number of iterations, check the scale of the features or consider increasing regularisation. Duality gap: 4.670e+04, tolerance: 1.286e+04\n",
            "\n",
            "g:\\PythonProject\\Educational_Folder\\venv\\Lib\\site-packages\\sklearn\\linear_model\\_coordinate_descent.py:695: ConvergenceWarning:\n",
            "\n",
            "Objective did not converge. You might want to increase the number of iterations, check the scale of the features or consider increasing regularisation. Duality gap: 4.342e+04, tolerance: 1.332e+04\n",
            "\n",
            "g:\\PythonProject\\Educational_Folder\\venv\\Lib\\site-packages\\sklearn\\linear_model\\_coordinate_descent.py:695: ConvergenceWarning:\n",
            "\n",
            "Objective did not converge. You might want to increase the number of iterations, check the scale of the features or consider increasing regularisation. Duality gap: 1.247e+04, tolerance: 1.172e+04\n",
            "\n",
            "g:\\PythonProject\\Educational_Folder\\venv\\Lib\\site-packages\\sklearn\\linear_model\\_coordinate_descent.py:695: ConvergenceWarning:\n",
            "\n",
            "Objective did not converge. You might want to increase the number of iterations, check the scale of the features or consider increasing regularisation. Duality gap: 3.526e+04, tolerance: 1.346e+04\n",
            "\n",
            "g:\\PythonProject\\Educational_Folder\\venv\\Lib\\site-packages\\sklearn\\linear_model\\_coordinate_descent.py:695: ConvergenceWarning:\n",
            "\n",
            "Objective did not converge. You might want to increase the number of iterations, check the scale of the features or consider increasing regularisation. Duality gap: 3.020e+04, tolerance: 1.329e+04\n",
            "\n",
            "g:\\PythonProject\\Educational_Folder\\venv\\Lib\\site-packages\\sklearn\\linear_model\\_coordinate_descent.py:695: ConvergenceWarning:\n",
            "\n",
            "Objective did not converge. You might want to increase the number of iterations, check the scale of the features or consider increasing regularisation. Duality gap: 3.986e+04, tolerance: 1.286e+04\n",
            "\n",
            "g:\\PythonProject\\Educational_Folder\\venv\\Lib\\site-packages\\sklearn\\linear_model\\_coordinate_descent.py:695: ConvergenceWarning:\n",
            "\n",
            "Objective did not converge. You might want to increase the number of iterations, check the scale of the features or consider increasing regularisation. Duality gap: 4.132e+04, tolerance: 1.332e+04\n",
            "\n",
            "g:\\PythonProject\\Educational_Folder\\venv\\Lib\\site-packages\\sklearn\\linear_model\\_coordinate_descent.py:695: ConvergenceWarning:\n",
            "\n",
            "Objective did not converge. You might want to increase the number of iterations, check the scale of the features or consider increasing regularisation. Duality gap: 2.118e+04, tolerance: 1.346e+04\n",
            "\n",
            "g:\\PythonProject\\Educational_Folder\\venv\\Lib\\site-packages\\sklearn\\linear_model\\_coordinate_descent.py:695: ConvergenceWarning:\n",
            "\n",
            "Objective did not converge. You might want to increase the number of iterations, check the scale of the features or consider increasing regularisation. Duality gap: 2.788e+04, tolerance: 1.329e+04\n",
            "\n",
            "g:\\PythonProject\\Educational_Folder\\venv\\Lib\\site-packages\\sklearn\\linear_model\\_coordinate_descent.py:695: ConvergenceWarning:\n",
            "\n",
            "Objective did not converge. You might want to increase the number of iterations, check the scale of the features or consider increasing regularisation. Duality gap: 2.648e+04, tolerance: 1.286e+04\n",
            "\n",
            "g:\\PythonProject\\Educational_Folder\\venv\\Lib\\site-packages\\sklearn\\linear_model\\_coordinate_descent.py:695: ConvergenceWarning:\n",
            "\n",
            "Objective did not converge. You might want to increase the number of iterations, check the scale of the features or consider increasing regularisation. Duality gap: 3.763e+04, tolerance: 1.332e+04\n",
            "\n",
            "g:\\PythonProject\\Educational_Folder\\venv\\Lib\\site-packages\\sklearn\\linear_model\\_coordinate_descent.py:695: ConvergenceWarning:\n",
            "\n",
            "Objective did not converge. You might want to increase the number of iterations, check the scale of the features or consider increasing regularisation. Duality gap: 2.484e+04, tolerance: 1.329e+04\n",
            "\n",
            "g:\\PythonProject\\Educational_Folder\\venv\\Lib\\site-packages\\sklearn\\linear_model\\_coordinate_descent.py:695: ConvergenceWarning:\n",
            "\n",
            "Objective did not converge. You might want to increase the number of iterations, check the scale of the features or consider increasing regularisation. Duality gap: 1.646e+04, tolerance: 1.286e+04\n",
            "\n",
            "g:\\PythonProject\\Educational_Folder\\venv\\Lib\\site-packages\\sklearn\\linear_model\\_coordinate_descent.py:695: ConvergenceWarning:\n",
            "\n",
            "Objective did not converge. You might want to increase the number of iterations, check the scale of the features or consider increasing regularisation. Duality gap: 3.473e+04, tolerance: 1.332e+04\n",
            "\n",
            "g:\\PythonProject\\Educational_Folder\\venv\\Lib\\site-packages\\sklearn\\linear_model\\_coordinate_descent.py:695: ConvergenceWarning:\n",
            "\n",
            "Objective did not converge. You might want to increase the number of iterations, check the scale of the features or consider increasing regularisation. Duality gap: 2.211e+04, tolerance: 1.329e+04\n",
            "\n",
            "g:\\PythonProject\\Educational_Folder\\venv\\Lib\\site-packages\\sklearn\\linear_model\\_coordinate_descent.py:695: ConvergenceWarning:\n",
            "\n",
            "Objective did not converge. You might want to increase the number of iterations, check the scale of the features or consider increasing regularisation. Duality gap: 3.069e+04, tolerance: 1.332e+04\n",
            "\n",
            "g:\\PythonProject\\Educational_Folder\\venv\\Lib\\site-packages\\sklearn\\linear_model\\_coordinate_descent.py:695: ConvergenceWarning:\n",
            "\n",
            "Objective did not converge. You might want to increase the number of iterations, check the scale of the features or consider increasing regularisation. Duality gap: 1.991e+04, tolerance: 1.329e+04\n",
            "\n",
            "g:\\PythonProject\\Educational_Folder\\venv\\Lib\\site-packages\\sklearn\\linear_model\\_coordinate_descent.py:695: ConvergenceWarning:\n",
            "\n",
            "Objective did not converge. You might want to increase the number of iterations, check the scale of the features or consider increasing regularisation. Duality gap: 2.651e+04, tolerance: 1.332e+04\n",
            "\n",
            "g:\\PythonProject\\Educational_Folder\\venv\\Lib\\site-packages\\sklearn\\linear_model\\_coordinate_descent.py:695: ConvergenceWarning:\n",
            "\n",
            "Objective did not converge. You might want to increase the number of iterations, check the scale of the features or consider increasing regularisation. Duality gap: 1.348e+04, tolerance: 1.329e+04\n",
            "\n",
            "g:\\PythonProject\\Educational_Folder\\venv\\Lib\\site-packages\\sklearn\\linear_model\\_coordinate_descent.py:695: ConvergenceWarning:\n",
            "\n",
            "Objective did not converge. You might want to increase the number of iterations, check the scale of the features or consider increasing regularisation. Duality gap: 2.302e+04, tolerance: 1.332e+04\n",
            "\n",
            "g:\\PythonProject\\Educational_Folder\\venv\\Lib\\site-packages\\sklearn\\linear_model\\_coordinate_descent.py:695: ConvergenceWarning:\n",
            "\n",
            "Objective did not converge. You might want to increase the number of iterations, check the scale of the features or consider increasing regularisation. Duality gap: 1.838e+04, tolerance: 1.332e+04\n",
            "\n"
          ]
        },
        {
          "name": "stdout",
          "output_type": "stream",
          "text": [
            "Лучшее значение alpha: 3.05\n",
            "MAPE на тренировочных фолдах: 0.92 %\n",
            "MAPE на валидационных фолдах: 1.34 %\n"
          ]
        }
      ],
      "source": [
        "# Разделяем данные на обучающую и валидационную выборки\n",
        "X_train, X_val, y_train, y_val = train_test_split(A_poly, y, test_size=0.2, random_state=42) \n",
        "\n",
        "# Создаем L1 регулязацию\n",
        "lasso = Lasso()\n",
        "\n",
        "# Задаем сетку значений alpha. 100 значений alpha от 10^-4 до 10^2\n",
        "param_grid = {'alpha': np.logspace(-4, 2, 100)} \n",
        "# Создаем и обучаем GridSearchCV\n",
        "# cv - количество фолдов для кросс-валидации, scoring - метрика\n",
        "grid_search = GridSearchCV(lasso, param_grid, cv=5, scoring='neg_mean_squared_error') \n",
        "grid_search.fit(X_train, y_train)\n",
        "# Лучшее значение alpha\n",
        "best_alpha = round(grid_search.best_params_['alpha'], 2)\n",
        "print(f\"Лучшее значение alpha: {best_alpha}\")\n",
        "\n",
        "lasso = Lasso(alpha=best_alpha, max_iter=10000)\n",
        "\n",
        "# оцениваем качество модели на кросс-валидации\n",
        "cv_results = cross_validate(lasso, A_poly, y, scoring='neg_mean_absolute_percentage_error', cv=5, return_train_score=True)\n",
        "print('MAPE на тренировочных фолдах: {:.2f} %'.format(-cv_results['train_score'].mean()* 100))\n",
        "print('MAPE на валидационных фолдах: {:.2f} %'.format(-cv_results['test_score'].mean() * 100))\n",
        "#Данные для вывода в 8.5\n",
        "lasso_model = np.array(['Lasso Model', f'Alpha = {best_alpha}', True, round(-cv_results['train_score'].mean()* 100, 2), round(-cv_results['test_score'].mean() * 100, 2)])"
      ]
    },
    {
      "cell_type": "markdown",
      "id": "Se0OGR8UF2Td",
      "metadata": {
        "id": "Se0OGR8UF2Td"
      },
      "source": [
        "Ошибка стала меньше, расхождение между MAPE на тренировочных фолдах и валидационных в районе 35%"
      ]
    },
    {
      "cell_type": "markdown",
      "id": "2975ae60",
      "metadata": {
        "id": "2975ae60"
      },
      "source": [
        "### Задание 8.3. (2 балла)\n",
        "\n",
        "Проделаем то же самое с $L_2$-регуляризацией.\n",
        "\n",
        "Обучите модель `Ridge` из библиотеки `sklearn` на полученных полиномиальных факторах, предварительно стандартизировав факторы. \n",
        "\n",
        "Коэффициент регуляризации (`alpha`) подберите самостоятельно с помощью любого известного вам метода подбора гиперпаметров.\n",
        "\n",
        "Используя кросс-валидацию оцените среднее значение выбранной вами метрики (или метрик) на тренировочных и валидационных фолдах.\n",
        "\n",
        "Проинтерпретируйте полученные результаты."
      ]
    },
    {
      "cell_type": "code",
      "execution_count": 420,
      "id": "UfPGyNsjGGS8",
      "metadata": {
        "id": "UfPGyNsjGGS8"
      },
      "outputs": [
        {
          "name": "stdout",
          "output_type": "stream",
          "text": [
            "Лучшее значение alpha: 0.66\n",
            "MAPE на тренировочных фолдах: 0.65 %\n",
            "MAPE на валидационных фолдах: 1.50 %\n"
          ]
        }
      ],
      "source": [
        "# Разделяем данные на обучающую и валидационную выборки\n",
        "X_train, X_val, y_train, y_val = train_test_split(A_poly, y, test_size=0.2, random_state=42) \n",
        "\n",
        "# Создаем L1 регулязацию\n",
        "ridge = Ridge()\n",
        "\n",
        "# Задаем сетку значений alpha. 100 значений alpha от 10^-4 до 10^2\n",
        "param_grid = {'alpha': np.logspace(-4, 2, 100)} \n",
        "# Создаем и обучаем GridSearchCV\n",
        "# cv - количество фолдов для кросс-валидации, scoring - метрика\n",
        "grid_search = GridSearchCV(ridge, param_grid, cv=5, scoring='neg_mean_squared_error') \n",
        "grid_search.fit(X_train, y_train)\n",
        "# Лучшее значение alpha\n",
        "best_alpha = round(grid_search.best_params_['alpha'], 2)\n",
        "print(f\"Лучшее значение alpha: {best_alpha}\")\n",
        "\n",
        "ridge = Ridge(alpha=best_alpha, max_iter=10000)\n",
        "\n",
        "# оцениваем качество модели на кросс-валидации\n",
        "cv_results = cross_validate(ridge, A_poly, y, scoring='neg_mean_absolute_percentage_error', cv=5, return_train_score=True)\n",
        "print('MAPE на тренировочных фолдах: {:.2f} %'.format(-cv_results['train_score'].mean()* 100))\n",
        "print('MAPE на валидационных фолдах: {:.2f} %'.format(-cv_results['test_score'].mean() * 100))\n",
        "#Данные для вывода в 8.5\n",
        "ridge_model = np.array(['Ridge Model', f'Alpha = {best_alpha}', True, round(-cv_results['train_score'].mean()* 100, 2), round(-cv_results['test_score'].mean() * 100, 2)])\n"
      ]
    },
    {
      "cell_type": "markdown",
      "id": "dQBd7ny_GIi1",
      "metadata": {
        "id": "dQBd7ny_GIi1"
      },
      "source": [
        "MAPE стала хуже по сравнению с предыдущей моделью, разцница между MAPE больше чем в 2 раза, но все равно лучше чем модель линейной регрессии"
      ]
    },
    {
      "cell_type": "markdown",
      "id": "86pXnWE7-5ch",
      "metadata": {
        "id": "86pXnWE7-5ch"
      },
      "source": [
        "**Критерии оценивания:**\n",
        "\n",
        "- Задание выполнено верно, учтены все условия (**2 балла**): \n",
        "    * правильно построена модель полиномиальной регрессии (линейной регрессии на полиномиальных признаках) с регуляризацией (Ridge), учтены условия необходимости масштабирования факторов для построения модели;\n",
        "    * приведён код для подбора параметра регуляризации (вручную или с помощью библиотечных инструментов);\n",
        "    * с помощью кросс-валидации оценено среднее значение выбранной студентом метрики (или метрик) на тренировочных и валидационных фолдах (метрика должна быть выбрана корректно).\n",
        "\n",
        "- Задание выполнено верно, но не учтено одно из условий (**1 балл**).\n",
        "- Задание выполнено неверно, не учтено несколько условий (**0 баллов**)."
      ]
    },
    {
      "cell_type": "markdown",
      "id": "7ad85b78",
      "metadata": {
        "id": "7ad85b78"
      },
      "source": [
        "### Задание 8.4. (2 балла)\n",
        "\n",
        "Наконец, настало время комбинировать $L_1$ и $L_2$ -регуляризации.\n",
        "\n",
        "Обучите модель `ElasticNet` из библиотеки `sklearn` на полученных полиномиальных факторах, предварительно стандартизировав факторы. \n",
        "\n",
        "Коэффициенты регуляризации (`alpha` и `l1-ratio`) подберите самостоятельно с помощью любого известного вам метода подбора гиперпаметров.\n",
        "\n",
        "Используя кросс-валидацию, оцените среднее значение метрики MAPE на тренировочных и валидационных фолдах.\n",
        "\n",
        "Проинтерпретируйте полученные результаты."
      ]
    },
    {
      "cell_type": "markdown",
      "id": "sy8ESceQ-__u",
      "metadata": {
        "id": "sy8ESceQ-__u"
      },
      "source": [
        "**Критерии оценивания:**\n",
        "\n",
        "- Задание выполнено верно, учтены все условия (**2 балла**): \n",
        "    * правильно построена модель полиномиальной регрессии (линейной регрессии на полиномиальных признаках) с регуляризацией (ElasticNet), учтены условия необходимости масштабирования факторов для построения модели;\n",
        "    * приведён код для подбора параметра регуляризации (вручную или с помощью библиотечных инструментов);\n",
        "    * с помощью кросс-валидации оценено среднее значение выбранной студентом метрики (или метрик) на тренировочных и валидационных фолдах (метрика должна быть выбрана корректно).\n",
        "\n",
        "- Задание выполнено верно, но не учтено одно из условий (**1 балл**).\n",
        "- Задание выполнено неверно, не учтено несколько условий (**0 баллов**)."
      ]
    },
    {
      "cell_type": "code",
      "execution_count": 421,
      "id": "-Yi3P20hQnLS",
      "metadata": {
        "id": "-Yi3P20hQnLS"
      },
      "outputs": [
        {
          "name": "stderr",
          "output_type": "stream",
          "text": [
            "g:\\PythonProject\\Educational_Folder\\venv\\Lib\\site-packages\\sklearn\\linear_model\\_coordinate_descent.py:695: ConvergenceWarning:\n",
            "\n",
            "Objective did not converge. You might want to increase the number of iterations, check the scale of the features or consider increasing regularisation. Duality gap: 5.253e+04, tolerance: 1.286e+04\n",
            "\n",
            "g:\\PythonProject\\Educational_Folder\\venv\\Lib\\site-packages\\sklearn\\linear_model\\_coordinate_descent.py:695: ConvergenceWarning:\n",
            "\n",
            "Objective did not converge. You might want to increase the number of iterations, check the scale of the features or consider increasing regularisation. Duality gap: 5.753e+04, tolerance: 1.332e+04\n",
            "\n",
            "g:\\PythonProject\\Educational_Folder\\venv\\Lib\\site-packages\\sklearn\\linear_model\\_coordinate_descent.py:695: ConvergenceWarning:\n",
            "\n",
            "Objective did not converge. You might want to increase the number of iterations, check the scale of the features or consider increasing regularisation. Duality gap: 4.952e+04, tolerance: 1.172e+04\n",
            "\n",
            "g:\\PythonProject\\Educational_Folder\\venv\\Lib\\site-packages\\sklearn\\linear_model\\_coordinate_descent.py:695: ConvergenceWarning:\n",
            "\n",
            "Objective did not converge. You might want to increase the number of iterations, check the scale of the features or consider increasing regularisation. Duality gap: 4.608e+04, tolerance: 1.346e+04\n",
            "\n",
            "g:\\PythonProject\\Educational_Folder\\venv\\Lib\\site-packages\\sklearn\\linear_model\\_coordinate_descent.py:695: ConvergenceWarning:\n",
            "\n",
            "Objective did not converge. You might want to increase the number of iterations, check the scale of the features or consider increasing regularisation. Duality gap: 5.060e+04, tolerance: 1.329e+04\n",
            "\n",
            "g:\\PythonProject\\Educational_Folder\\venv\\Lib\\site-packages\\sklearn\\linear_model\\_coordinate_descent.py:695: ConvergenceWarning:\n",
            "\n",
            "Objective did not converge. You might want to increase the number of iterations, check the scale of the features or consider increasing regularisation. Duality gap: 5.192e+04, tolerance: 1.286e+04\n",
            "\n",
            "g:\\PythonProject\\Educational_Folder\\venv\\Lib\\site-packages\\sklearn\\linear_model\\_coordinate_descent.py:695: ConvergenceWarning:\n",
            "\n",
            "Objective did not converge. You might want to increase the number of iterations, check the scale of the features or consider increasing regularisation. Duality gap: 5.691e+04, tolerance: 1.332e+04\n",
            "\n",
            "g:\\PythonProject\\Educational_Folder\\venv\\Lib\\site-packages\\sklearn\\linear_model\\_coordinate_descent.py:695: ConvergenceWarning:\n",
            "\n",
            "Objective did not converge. You might want to increase the number of iterations, check the scale of the features or consider increasing regularisation. Duality gap: 4.894e+04, tolerance: 1.172e+04\n",
            "\n",
            "g:\\PythonProject\\Educational_Folder\\venv\\Lib\\site-packages\\sklearn\\linear_model\\_coordinate_descent.py:695: ConvergenceWarning:\n",
            "\n",
            "Objective did not converge. You might want to increase the number of iterations, check the scale of the features or consider increasing regularisation. Duality gap: 4.546e+04, tolerance: 1.346e+04\n",
            "\n",
            "g:\\PythonProject\\Educational_Folder\\venv\\Lib\\site-packages\\sklearn\\linear_model\\_coordinate_descent.py:695: ConvergenceWarning:\n",
            "\n",
            "Objective did not converge. You might want to increase the number of iterations, check the scale of the features or consider increasing regularisation. Duality gap: 4.997e+04, tolerance: 1.329e+04\n",
            "\n",
            "g:\\PythonProject\\Educational_Folder\\venv\\Lib\\site-packages\\sklearn\\linear_model\\_coordinate_descent.py:695: ConvergenceWarning:\n",
            "\n",
            "Objective did not converge. You might want to increase the number of iterations, check the scale of the features or consider increasing regularisation. Duality gap: 5.130e+04, tolerance: 1.286e+04\n",
            "\n",
            "g:\\PythonProject\\Educational_Folder\\venv\\Lib\\site-packages\\sklearn\\linear_model\\_coordinate_descent.py:695: ConvergenceWarning:\n",
            "\n",
            "Objective did not converge. You might want to increase the number of iterations, check the scale of the features or consider increasing regularisation. Duality gap: 5.629e+04, tolerance: 1.332e+04\n",
            "\n",
            "g:\\PythonProject\\Educational_Folder\\venv\\Lib\\site-packages\\sklearn\\linear_model\\_coordinate_descent.py:695: ConvergenceWarning:\n",
            "\n",
            "Objective did not converge. You might want to increase the number of iterations, check the scale of the features or consider increasing regularisation. Duality gap: 4.837e+04, tolerance: 1.172e+04\n",
            "\n",
            "g:\\PythonProject\\Educational_Folder\\venv\\Lib\\site-packages\\sklearn\\linear_model\\_coordinate_descent.py:695: ConvergenceWarning:\n",
            "\n",
            "Objective did not converge. You might want to increase the number of iterations, check the scale of the features or consider increasing regularisation. Duality gap: 4.483e+04, tolerance: 1.346e+04\n",
            "\n",
            "g:\\PythonProject\\Educational_Folder\\venv\\Lib\\site-packages\\sklearn\\linear_model\\_coordinate_descent.py:695: ConvergenceWarning:\n",
            "\n",
            "Objective did not converge. You might want to increase the number of iterations, check the scale of the features or consider increasing regularisation. Duality gap: 4.935e+04, tolerance: 1.329e+04\n",
            "\n",
            "g:\\PythonProject\\Educational_Folder\\venv\\Lib\\site-packages\\sklearn\\linear_model\\_coordinate_descent.py:695: ConvergenceWarning:\n",
            "\n",
            "Objective did not converge. You might want to increase the number of iterations, check the scale of the features or consider increasing regularisation. Duality gap: 5.069e+04, tolerance: 1.286e+04\n",
            "\n",
            "g:\\PythonProject\\Educational_Folder\\venv\\Lib\\site-packages\\sklearn\\linear_model\\_coordinate_descent.py:695: ConvergenceWarning:\n",
            "\n",
            "Objective did not converge. You might want to increase the number of iterations, check the scale of the features or consider increasing regularisation. Duality gap: 5.567e+04, tolerance: 1.332e+04\n",
            "\n",
            "g:\\PythonProject\\Educational_Folder\\venv\\Lib\\site-packages\\sklearn\\linear_model\\_coordinate_descent.py:695: ConvergenceWarning:\n",
            "\n",
            "Objective did not converge. You might want to increase the number of iterations, check the scale of the features or consider increasing regularisation. Duality gap: 4.780e+04, tolerance: 1.172e+04\n",
            "\n",
            "g:\\PythonProject\\Educational_Folder\\venv\\Lib\\site-packages\\sklearn\\linear_model\\_coordinate_descent.py:695: ConvergenceWarning:\n",
            "\n",
            "Objective did not converge. You might want to increase the number of iterations, check the scale of the features or consider increasing regularisation. Duality gap: 4.420e+04, tolerance: 1.346e+04\n",
            "\n",
            "g:\\PythonProject\\Educational_Folder\\venv\\Lib\\site-packages\\sklearn\\linear_model\\_coordinate_descent.py:695: ConvergenceWarning:\n",
            "\n",
            "Objective did not converge. You might want to increase the number of iterations, check the scale of the features or consider increasing regularisation. Duality gap: 4.872e+04, tolerance: 1.329e+04\n",
            "\n",
            "g:\\PythonProject\\Educational_Folder\\venv\\Lib\\site-packages\\sklearn\\linear_model\\_coordinate_descent.py:695: ConvergenceWarning:\n",
            "\n",
            "Objective did not converge. You might want to increase the number of iterations, check the scale of the features or consider increasing regularisation. Duality gap: 5.007e+04, tolerance: 1.286e+04\n",
            "\n",
            "g:\\PythonProject\\Educational_Folder\\venv\\Lib\\site-packages\\sklearn\\linear_model\\_coordinate_descent.py:695: ConvergenceWarning:\n",
            "\n",
            "Objective did not converge. You might want to increase the number of iterations, check the scale of the features or consider increasing regularisation. Duality gap: 5.505e+04, tolerance: 1.332e+04\n",
            "\n",
            "g:\\PythonProject\\Educational_Folder\\venv\\Lib\\site-packages\\sklearn\\linear_model\\_coordinate_descent.py:695: ConvergenceWarning:\n",
            "\n",
            "Objective did not converge. You might want to increase the number of iterations, check the scale of the features or consider increasing regularisation. Duality gap: 4.723e+04, tolerance: 1.172e+04\n",
            "\n",
            "g:\\PythonProject\\Educational_Folder\\venv\\Lib\\site-packages\\sklearn\\linear_model\\_coordinate_descent.py:695: ConvergenceWarning:\n",
            "\n",
            "Objective did not converge. You might want to increase the number of iterations, check the scale of the features or consider increasing regularisation. Duality gap: 4.358e+04, tolerance: 1.346e+04\n",
            "\n",
            "g:\\PythonProject\\Educational_Folder\\venv\\Lib\\site-packages\\sklearn\\linear_model\\_coordinate_descent.py:695: ConvergenceWarning:\n",
            "\n",
            "Objective did not converge. You might want to increase the number of iterations, check the scale of the features or consider increasing regularisation. Duality gap: 4.809e+04, tolerance: 1.329e+04\n",
            "\n",
            "g:\\PythonProject\\Educational_Folder\\venv\\Lib\\site-packages\\sklearn\\linear_model\\_coordinate_descent.py:695: ConvergenceWarning:\n",
            "\n",
            "Objective did not converge. You might want to increase the number of iterations, check the scale of the features or consider increasing regularisation. Duality gap: 4.946e+04, tolerance: 1.286e+04\n",
            "\n",
            "g:\\PythonProject\\Educational_Folder\\venv\\Lib\\site-packages\\sklearn\\linear_model\\_coordinate_descent.py:695: ConvergenceWarning:\n",
            "\n",
            "Objective did not converge. You might want to increase the number of iterations, check the scale of the features or consider increasing regularisation. Duality gap: 5.442e+04, tolerance: 1.332e+04\n",
            "\n",
            "g:\\PythonProject\\Educational_Folder\\venv\\Lib\\site-packages\\sklearn\\linear_model\\_coordinate_descent.py:695: ConvergenceWarning:\n",
            "\n",
            "Objective did not converge. You might want to increase the number of iterations, check the scale of the features or consider increasing regularisation. Duality gap: 4.665e+04, tolerance: 1.172e+04\n",
            "\n",
            "g:\\PythonProject\\Educational_Folder\\venv\\Lib\\site-packages\\sklearn\\linear_model\\_coordinate_descent.py:695: ConvergenceWarning:\n",
            "\n",
            "Objective did not converge. You might want to increase the number of iterations, check the scale of the features or consider increasing regularisation. Duality gap: 4.295e+04, tolerance: 1.346e+04\n",
            "\n",
            "g:\\PythonProject\\Educational_Folder\\venv\\Lib\\site-packages\\sklearn\\linear_model\\_coordinate_descent.py:695: ConvergenceWarning:\n",
            "\n",
            "Objective did not converge. You might want to increase the number of iterations, check the scale of the features or consider increasing regularisation. Duality gap: 4.746e+04, tolerance: 1.329e+04\n",
            "\n",
            "g:\\PythonProject\\Educational_Folder\\venv\\Lib\\site-packages\\sklearn\\linear_model\\_coordinate_descent.py:695: ConvergenceWarning:\n",
            "\n",
            "Objective did not converge. You might want to increase the number of iterations, check the scale of the features or consider increasing regularisation. Duality gap: 4.884e+04, tolerance: 1.286e+04\n",
            "\n",
            "g:\\PythonProject\\Educational_Folder\\venv\\Lib\\site-packages\\sklearn\\linear_model\\_coordinate_descent.py:695: ConvergenceWarning:\n",
            "\n",
            "Objective did not converge. You might want to increase the number of iterations, check the scale of the features or consider increasing regularisation. Duality gap: 5.379e+04, tolerance: 1.332e+04\n",
            "\n",
            "g:\\PythonProject\\Educational_Folder\\venv\\Lib\\site-packages\\sklearn\\linear_model\\_coordinate_descent.py:695: ConvergenceWarning:\n",
            "\n",
            "Objective did not converge. You might want to increase the number of iterations, check the scale of the features or consider increasing regularisation. Duality gap: 4.608e+04, tolerance: 1.172e+04\n",
            "\n",
            "g:\\PythonProject\\Educational_Folder\\venv\\Lib\\site-packages\\sklearn\\linear_model\\_coordinate_descent.py:695: ConvergenceWarning:\n",
            "\n",
            "Objective did not converge. You might want to increase the number of iterations, check the scale of the features or consider increasing regularisation. Duality gap: 4.232e+04, tolerance: 1.346e+04\n",
            "\n",
            "g:\\PythonProject\\Educational_Folder\\venv\\Lib\\site-packages\\sklearn\\linear_model\\_coordinate_descent.py:695: ConvergenceWarning:\n",
            "\n",
            "Objective did not converge. You might want to increase the number of iterations, check the scale of the features or consider increasing regularisation. Duality gap: 4.683e+04, tolerance: 1.329e+04\n",
            "\n",
            "g:\\PythonProject\\Educational_Folder\\venv\\Lib\\site-packages\\sklearn\\linear_model\\_coordinate_descent.py:695: ConvergenceWarning:\n",
            "\n",
            "Objective did not converge. You might want to increase the number of iterations, check the scale of the features or consider increasing regularisation. Duality gap: 4.822e+04, tolerance: 1.286e+04\n",
            "\n",
            "g:\\PythonProject\\Educational_Folder\\venv\\Lib\\site-packages\\sklearn\\linear_model\\_coordinate_descent.py:695: ConvergenceWarning:\n",
            "\n",
            "Objective did not converge. You might want to increase the number of iterations, check the scale of the features or consider increasing regularisation. Duality gap: 5.317e+04, tolerance: 1.332e+04\n",
            "\n",
            "g:\\PythonProject\\Educational_Folder\\venv\\Lib\\site-packages\\sklearn\\linear_model\\_coordinate_descent.py:695: ConvergenceWarning:\n",
            "\n",
            "Objective did not converge. You might want to increase the number of iterations, check the scale of the features or consider increasing regularisation. Duality gap: 4.551e+04, tolerance: 1.172e+04\n",
            "\n",
            "g:\\PythonProject\\Educational_Folder\\venv\\Lib\\site-packages\\sklearn\\linear_model\\_coordinate_descent.py:695: ConvergenceWarning:\n",
            "\n",
            "Objective did not converge. You might want to increase the number of iterations, check the scale of the features or consider increasing regularisation. Duality gap: 4.169e+04, tolerance: 1.346e+04\n",
            "\n",
            "g:\\PythonProject\\Educational_Folder\\venv\\Lib\\site-packages\\sklearn\\linear_model\\_coordinate_descent.py:695: ConvergenceWarning:\n",
            "\n",
            "Objective did not converge. You might want to increase the number of iterations, check the scale of the features or consider increasing regularisation. Duality gap: 4.620e+04, tolerance: 1.329e+04\n",
            "\n",
            "g:\\PythonProject\\Educational_Folder\\venv\\Lib\\site-packages\\sklearn\\linear_model\\_coordinate_descent.py:695: ConvergenceWarning:\n",
            "\n",
            "Objective did not converge. You might want to increase the number of iterations, check the scale of the features or consider increasing regularisation. Duality gap: 4.760e+04, tolerance: 1.286e+04\n",
            "\n",
            "g:\\PythonProject\\Educational_Folder\\venv\\Lib\\site-packages\\sklearn\\linear_model\\_coordinate_descent.py:695: ConvergenceWarning:\n",
            "\n",
            "Objective did not converge. You might want to increase the number of iterations, check the scale of the features or consider increasing regularisation. Duality gap: 5.254e+04, tolerance: 1.332e+04\n",
            "\n",
            "g:\\PythonProject\\Educational_Folder\\venv\\Lib\\site-packages\\sklearn\\linear_model\\_coordinate_descent.py:695: ConvergenceWarning:\n",
            "\n",
            "Objective did not converge. You might want to increase the number of iterations, check the scale of the features or consider increasing regularisation. Duality gap: 4.493e+04, tolerance: 1.172e+04\n",
            "\n",
            "g:\\PythonProject\\Educational_Folder\\venv\\Lib\\site-packages\\sklearn\\linear_model\\_coordinate_descent.py:695: ConvergenceWarning:\n",
            "\n",
            "Objective did not converge. You might want to increase the number of iterations, check the scale of the features or consider increasing regularisation. Duality gap: 4.106e+04, tolerance: 1.346e+04\n",
            "\n",
            "g:\\PythonProject\\Educational_Folder\\venv\\Lib\\site-packages\\sklearn\\linear_model\\_coordinate_descent.py:695: ConvergenceWarning:\n",
            "\n",
            "Objective did not converge. You might want to increase the number of iterations, check the scale of the features or consider increasing regularisation. Duality gap: 4.556e+04, tolerance: 1.329e+04\n",
            "\n",
            "g:\\PythonProject\\Educational_Folder\\venv\\Lib\\site-packages\\sklearn\\linear_model\\_coordinate_descent.py:695: ConvergenceWarning:\n",
            "\n",
            "Objective did not converge. You might want to increase the number of iterations, check the scale of the features or consider increasing regularisation. Duality gap: 4.697e+04, tolerance: 1.286e+04\n",
            "\n",
            "g:\\PythonProject\\Educational_Folder\\venv\\Lib\\site-packages\\sklearn\\linear_model\\_coordinate_descent.py:695: ConvergenceWarning:\n",
            "\n",
            "Objective did not converge. You might want to increase the number of iterations, check the scale of the features or consider increasing regularisation. Duality gap: 5.191e+04, tolerance: 1.332e+04\n",
            "\n",
            "g:\\PythonProject\\Educational_Folder\\venv\\Lib\\site-packages\\sklearn\\linear_model\\_coordinate_descent.py:695: ConvergenceWarning:\n",
            "\n",
            "Objective did not converge. You might want to increase the number of iterations, check the scale of the features or consider increasing regularisation. Duality gap: 4.435e+04, tolerance: 1.172e+04\n",
            "\n",
            "g:\\PythonProject\\Educational_Folder\\venv\\Lib\\site-packages\\sklearn\\linear_model\\_coordinate_descent.py:695: ConvergenceWarning:\n",
            "\n",
            "Objective did not converge. You might want to increase the number of iterations, check the scale of the features or consider increasing regularisation. Duality gap: 4.043e+04, tolerance: 1.346e+04\n",
            "\n",
            "g:\\PythonProject\\Educational_Folder\\venv\\Lib\\site-packages\\sklearn\\linear_model\\_coordinate_descent.py:695: ConvergenceWarning:\n",
            "\n",
            "Objective did not converge. You might want to increase the number of iterations, check the scale of the features or consider increasing regularisation. Duality gap: 4.493e+04, tolerance: 1.329e+04\n",
            "\n",
            "g:\\PythonProject\\Educational_Folder\\venv\\Lib\\site-packages\\sklearn\\linear_model\\_coordinate_descent.py:695: ConvergenceWarning:\n",
            "\n",
            "Objective did not converge. You might want to increase the number of iterations, check the scale of the features or consider increasing regularisation. Duality gap: 7.196e+04, tolerance: 1.286e+04\n",
            "\n",
            "g:\\PythonProject\\Educational_Folder\\venv\\Lib\\site-packages\\sklearn\\linear_model\\_coordinate_descent.py:695: ConvergenceWarning:\n",
            "\n",
            "Objective did not converge. You might want to increase the number of iterations, check the scale of the features or consider increasing regularisation. Duality gap: 7.725e+04, tolerance: 1.332e+04\n",
            "\n",
            "g:\\PythonProject\\Educational_Folder\\venv\\Lib\\site-packages\\sklearn\\linear_model\\_coordinate_descent.py:695: ConvergenceWarning:\n",
            "\n",
            "Objective did not converge. You might want to increase the number of iterations, check the scale of the features or consider increasing regularisation. Duality gap: 6.788e+04, tolerance: 1.172e+04\n",
            "\n",
            "g:\\PythonProject\\Educational_Folder\\venv\\Lib\\site-packages\\sklearn\\linear_model\\_coordinate_descent.py:695: ConvergenceWarning:\n",
            "\n",
            "Objective did not converge. You might want to increase the number of iterations, check the scale of the features or consider increasing regularisation. Duality gap: 6.610e+04, tolerance: 1.346e+04\n",
            "\n",
            "g:\\PythonProject\\Educational_Folder\\venv\\Lib\\site-packages\\sklearn\\linear_model\\_coordinate_descent.py:695: ConvergenceWarning:\n",
            "\n",
            "Objective did not converge. You might want to increase the number of iterations, check the scale of the features or consider increasing regularisation. Duality gap: 7.049e+04, tolerance: 1.329e+04\n",
            "\n",
            "g:\\PythonProject\\Educational_Folder\\venv\\Lib\\site-packages\\sklearn\\linear_model\\_coordinate_descent.py:695: ConvergenceWarning:\n",
            "\n",
            "Objective did not converge. You might want to increase the number of iterations, check the scale of the features or consider increasing regularisation. Duality gap: 6.926e+04, tolerance: 1.286e+04\n",
            "\n",
            "g:\\PythonProject\\Educational_Folder\\venv\\Lib\\site-packages\\sklearn\\linear_model\\_coordinate_descent.py:695: ConvergenceWarning:\n",
            "\n",
            "Objective did not converge. You might want to increase the number of iterations, check the scale of the features or consider increasing regularisation. Duality gap: 7.451e+04, tolerance: 1.332e+04\n",
            "\n",
            "g:\\PythonProject\\Educational_Folder\\venv\\Lib\\site-packages\\sklearn\\linear_model\\_coordinate_descent.py:695: ConvergenceWarning:\n",
            "\n",
            "Objective did not converge. You might want to increase the number of iterations, check the scale of the features or consider increasing regularisation. Duality gap: 6.530e+04, tolerance: 1.172e+04\n",
            "\n",
            "g:\\PythonProject\\Educational_Folder\\venv\\Lib\\site-packages\\sklearn\\linear_model\\_coordinate_descent.py:695: ConvergenceWarning:\n",
            "\n",
            "Objective did not converge. You might want to increase the number of iterations, check the scale of the features or consider increasing regularisation. Duality gap: 6.331e+04, tolerance: 1.346e+04\n",
            "\n",
            "g:\\PythonProject\\Educational_Folder\\venv\\Lib\\site-packages\\sklearn\\linear_model\\_coordinate_descent.py:695: ConvergenceWarning:\n",
            "\n",
            "Objective did not converge. You might want to increase the number of iterations, check the scale of the features or consider increasing regularisation. Duality gap: 6.773e+04, tolerance: 1.329e+04\n",
            "\n",
            "g:\\PythonProject\\Educational_Folder\\venv\\Lib\\site-packages\\sklearn\\linear_model\\_coordinate_descent.py:695: ConvergenceWarning:\n",
            "\n",
            "Objective did not converge. You might want to increase the number of iterations, check the scale of the features or consider increasing regularisation. Duality gap: 6.655e+04, tolerance: 1.286e+04\n",
            "\n",
            "g:\\PythonProject\\Educational_Folder\\venv\\Lib\\site-packages\\sklearn\\linear_model\\_coordinate_descent.py:695: ConvergenceWarning:\n",
            "\n",
            "Objective did not converge. You might want to increase the number of iterations, check the scale of the features or consider increasing regularisation. Duality gap: 7.175e+04, tolerance: 1.332e+04\n",
            "\n",
            "g:\\PythonProject\\Educational_Folder\\venv\\Lib\\site-packages\\sklearn\\linear_model\\_coordinate_descent.py:695: ConvergenceWarning:\n",
            "\n",
            "Objective did not converge. You might want to increase the number of iterations, check the scale of the features or consider increasing regularisation. Duality gap: 6.271e+04, tolerance: 1.172e+04\n",
            "\n",
            "g:\\PythonProject\\Educational_Folder\\venv\\Lib\\site-packages\\sklearn\\linear_model\\_coordinate_descent.py:695: ConvergenceWarning:\n",
            "\n",
            "Objective did not converge. You might want to increase the number of iterations, check the scale of the features or consider increasing regularisation. Duality gap: 6.051e+04, tolerance: 1.346e+04\n",
            "\n",
            "g:\\PythonProject\\Educational_Folder\\venv\\Lib\\site-packages\\sklearn\\linear_model\\_coordinate_descent.py:695: ConvergenceWarning:\n",
            "\n",
            "Objective did not converge. You might want to increase the number of iterations, check the scale of the features or consider increasing regularisation. Duality gap: 6.495e+04, tolerance: 1.329e+04\n",
            "\n",
            "g:\\PythonProject\\Educational_Folder\\venv\\Lib\\site-packages\\sklearn\\linear_model\\_coordinate_descent.py:695: ConvergenceWarning:\n",
            "\n",
            "Objective did not converge. You might want to increase the number of iterations, check the scale of the features or consider increasing regularisation. Duality gap: 6.382e+04, tolerance: 1.286e+04\n",
            "\n",
            "g:\\PythonProject\\Educational_Folder\\venv\\Lib\\site-packages\\sklearn\\linear_model\\_coordinate_descent.py:695: ConvergenceWarning:\n",
            "\n",
            "Objective did not converge. You might want to increase the number of iterations, check the scale of the features or consider increasing regularisation. Duality gap: 6.897e+04, tolerance: 1.332e+04\n",
            "\n",
            "g:\\PythonProject\\Educational_Folder\\venv\\Lib\\site-packages\\sklearn\\linear_model\\_coordinate_descent.py:695: ConvergenceWarning:\n",
            "\n",
            "Objective did not converge. You might want to increase the number of iterations, check the scale of the features or consider increasing regularisation. Duality gap: 6.011e+04, tolerance: 1.172e+04\n",
            "\n",
            "g:\\PythonProject\\Educational_Folder\\venv\\Lib\\site-packages\\sklearn\\linear_model\\_coordinate_descent.py:695: ConvergenceWarning:\n",
            "\n",
            "Objective did not converge. You might want to increase the number of iterations, check the scale of the features or consider increasing regularisation. Duality gap: 5.770e+04, tolerance: 1.346e+04\n",
            "\n",
            "g:\\PythonProject\\Educational_Folder\\venv\\Lib\\site-packages\\sklearn\\linear_model\\_coordinate_descent.py:695: ConvergenceWarning:\n",
            "\n",
            "Objective did not converge. You might want to increase the number of iterations, check the scale of the features or consider increasing regularisation. Duality gap: 6.215e+04, tolerance: 1.329e+04\n",
            "\n",
            "g:\\PythonProject\\Educational_Folder\\venv\\Lib\\site-packages\\sklearn\\linear_model\\_coordinate_descent.py:695: ConvergenceWarning:\n",
            "\n",
            "Objective did not converge. You might want to increase the number of iterations, check the scale of the features or consider increasing regularisation. Duality gap: 6.108e+04, tolerance: 1.286e+04\n",
            "\n",
            "g:\\PythonProject\\Educational_Folder\\venv\\Lib\\site-packages\\sklearn\\linear_model\\_coordinate_descent.py:695: ConvergenceWarning:\n",
            "\n",
            "Objective did not converge. You might want to increase the number of iterations, check the scale of the features or consider increasing regularisation. Duality gap: 6.618e+04, tolerance: 1.332e+04\n",
            "\n",
            "g:\\PythonProject\\Educational_Folder\\venv\\Lib\\site-packages\\sklearn\\linear_model\\_coordinate_descent.py:695: ConvergenceWarning:\n",
            "\n",
            "Objective did not converge. You might want to increase the number of iterations, check the scale of the features or consider increasing regularisation. Duality gap: 5.750e+04, tolerance: 1.172e+04\n",
            "\n",
            "g:\\PythonProject\\Educational_Folder\\venv\\Lib\\site-packages\\sklearn\\linear_model\\_coordinate_descent.py:695: ConvergenceWarning:\n",
            "\n",
            "Objective did not converge. You might want to increase the number of iterations, check the scale of the features or consider increasing regularisation. Duality gap: 5.488e+04, tolerance: 1.346e+04\n",
            "\n",
            "g:\\PythonProject\\Educational_Folder\\venv\\Lib\\site-packages\\sklearn\\linear_model\\_coordinate_descent.py:695: ConvergenceWarning:\n",
            "\n",
            "Objective did not converge. You might want to increase the number of iterations, check the scale of the features or consider increasing regularisation. Duality gap: 5.934e+04, tolerance: 1.329e+04\n",
            "\n",
            "g:\\PythonProject\\Educational_Folder\\venv\\Lib\\site-packages\\sklearn\\linear_model\\_coordinate_descent.py:695: ConvergenceWarning:\n",
            "\n",
            "Objective did not converge. You might want to increase the number of iterations, check the scale of the features or consider increasing regularisation. Duality gap: 5.831e+04, tolerance: 1.286e+04\n",
            "\n",
            "g:\\PythonProject\\Educational_Folder\\venv\\Lib\\site-packages\\sklearn\\linear_model\\_coordinate_descent.py:695: ConvergenceWarning:\n",
            "\n",
            "Objective did not converge. You might want to increase the number of iterations, check the scale of the features or consider increasing regularisation. Duality gap: 6.336e+04, tolerance: 1.332e+04\n",
            "\n",
            "g:\\PythonProject\\Educational_Folder\\venv\\Lib\\site-packages\\sklearn\\linear_model\\_coordinate_descent.py:695: ConvergenceWarning:\n",
            "\n",
            "Objective did not converge. You might want to increase the number of iterations, check the scale of the features or consider increasing regularisation. Duality gap: 5.489e+04, tolerance: 1.172e+04\n",
            "\n",
            "g:\\PythonProject\\Educational_Folder\\venv\\Lib\\site-packages\\sklearn\\linear_model\\_coordinate_descent.py:695: ConvergenceWarning:\n",
            "\n",
            "Objective did not converge. You might want to increase the number of iterations, check the scale of the features or consider increasing regularisation. Duality gap: 5.203e+04, tolerance: 1.346e+04\n",
            "\n",
            "g:\\PythonProject\\Educational_Folder\\venv\\Lib\\site-packages\\sklearn\\linear_model\\_coordinate_descent.py:695: ConvergenceWarning:\n",
            "\n",
            "Objective did not converge. You might want to increase the number of iterations, check the scale of the features or consider increasing regularisation. Duality gap: 5.651e+04, tolerance: 1.329e+04\n",
            "\n",
            "g:\\PythonProject\\Educational_Folder\\venv\\Lib\\site-packages\\sklearn\\linear_model\\_coordinate_descent.py:695: ConvergenceWarning:\n",
            "\n",
            "Objective did not converge. You might want to increase the number of iterations, check the scale of the features or consider increasing regularisation. Duality gap: 5.552e+04, tolerance: 1.286e+04\n",
            "\n",
            "g:\\PythonProject\\Educational_Folder\\venv\\Lib\\site-packages\\sklearn\\linear_model\\_coordinate_descent.py:695: ConvergenceWarning:\n",
            "\n",
            "Objective did not converge. You might want to increase the number of iterations, check the scale of the features or consider increasing regularisation. Duality gap: 6.053e+04, tolerance: 1.332e+04\n",
            "\n",
            "g:\\PythonProject\\Educational_Folder\\venv\\Lib\\site-packages\\sklearn\\linear_model\\_coordinate_descent.py:695: ConvergenceWarning:\n",
            "\n",
            "Objective did not converge. You might want to increase the number of iterations, check the scale of the features or consider increasing regularisation. Duality gap: 5.226e+04, tolerance: 1.172e+04\n",
            "\n",
            "g:\\PythonProject\\Educational_Folder\\venv\\Lib\\site-packages\\sklearn\\linear_model\\_coordinate_descent.py:695: ConvergenceWarning:\n",
            "\n",
            "Objective did not converge. You might want to increase the number of iterations, check the scale of the features or consider increasing regularisation. Duality gap: 4.918e+04, tolerance: 1.346e+04\n",
            "\n",
            "g:\\PythonProject\\Educational_Folder\\venv\\Lib\\site-packages\\sklearn\\linear_model\\_coordinate_descent.py:695: ConvergenceWarning:\n",
            "\n",
            "Objective did not converge. You might want to increase the number of iterations, check the scale of the features or consider increasing regularisation. Duality gap: 5.365e+04, tolerance: 1.329e+04\n",
            "\n",
            "g:\\PythonProject\\Educational_Folder\\venv\\Lib\\site-packages\\sklearn\\linear_model\\_coordinate_descent.py:695: ConvergenceWarning:\n",
            "\n",
            "Objective did not converge. You might want to increase the number of iterations, check the scale of the features or consider increasing regularisation. Duality gap: 5.270e+04, tolerance: 1.286e+04\n",
            "\n",
            "g:\\PythonProject\\Educational_Folder\\venv\\Lib\\site-packages\\sklearn\\linear_model\\_coordinate_descent.py:695: ConvergenceWarning:\n",
            "\n",
            "Objective did not converge. You might want to increase the number of iterations, check the scale of the features or consider increasing regularisation. Duality gap: 5.768e+04, tolerance: 1.332e+04\n",
            "\n",
            "g:\\PythonProject\\Educational_Folder\\venv\\Lib\\site-packages\\sklearn\\linear_model\\_coordinate_descent.py:695: ConvergenceWarning:\n",
            "\n",
            "Objective did not converge. You might want to increase the number of iterations, check the scale of the features or consider increasing regularisation. Duality gap: 4.963e+04, tolerance: 1.172e+04\n",
            "\n",
            "g:\\PythonProject\\Educational_Folder\\venv\\Lib\\site-packages\\sklearn\\linear_model\\_coordinate_descent.py:695: ConvergenceWarning:\n",
            "\n",
            "Objective did not converge. You might want to increase the number of iterations, check the scale of the features or consider increasing regularisation. Duality gap: 4.630e+04, tolerance: 1.346e+04\n",
            "\n",
            "g:\\PythonProject\\Educational_Folder\\venv\\Lib\\site-packages\\sklearn\\linear_model\\_coordinate_descent.py:695: ConvergenceWarning:\n",
            "\n",
            "Objective did not converge. You might want to increase the number of iterations, check the scale of the features or consider increasing regularisation. Duality gap: 5.078e+04, tolerance: 1.329e+04\n",
            "\n",
            "g:\\PythonProject\\Educational_Folder\\venv\\Lib\\site-packages\\sklearn\\linear_model\\_coordinate_descent.py:695: ConvergenceWarning:\n",
            "\n",
            "Objective did not converge. You might want to increase the number of iterations, check the scale of the features or consider increasing regularisation. Duality gap: 4.986e+04, tolerance: 1.286e+04\n",
            "\n",
            "g:\\PythonProject\\Educational_Folder\\venv\\Lib\\site-packages\\sklearn\\linear_model\\_coordinate_descent.py:695: ConvergenceWarning:\n",
            "\n",
            "Objective did not converge. You might want to increase the number of iterations, check the scale of the features or consider increasing regularisation. Duality gap: 5.481e+04, tolerance: 1.332e+04\n",
            "\n",
            "g:\\PythonProject\\Educational_Folder\\venv\\Lib\\site-packages\\sklearn\\linear_model\\_coordinate_descent.py:695: ConvergenceWarning:\n",
            "\n",
            "Objective did not converge. You might want to increase the number of iterations, check the scale of the features or consider increasing regularisation. Duality gap: 4.699e+04, tolerance: 1.172e+04\n",
            "\n",
            "g:\\PythonProject\\Educational_Folder\\venv\\Lib\\site-packages\\sklearn\\linear_model\\_coordinate_descent.py:695: ConvergenceWarning:\n",
            "\n",
            "Objective did not converge. You might want to increase the number of iterations, check the scale of the features or consider increasing regularisation. Duality gap: 4.341e+04, tolerance: 1.346e+04\n",
            "\n",
            "g:\\PythonProject\\Educational_Folder\\venv\\Lib\\site-packages\\sklearn\\linear_model\\_coordinate_descent.py:695: ConvergenceWarning:\n",
            "\n",
            "Objective did not converge. You might want to increase the number of iterations, check the scale of the features or consider increasing regularisation. Duality gap: 4.788e+04, tolerance: 1.329e+04\n",
            "\n",
            "g:\\PythonProject\\Educational_Folder\\venv\\Lib\\site-packages\\sklearn\\linear_model\\_coordinate_descent.py:695: ConvergenceWarning:\n",
            "\n",
            "Objective did not converge. You might want to increase the number of iterations, check the scale of the features or consider increasing regularisation. Duality gap: 4.699e+04, tolerance: 1.286e+04\n",
            "\n",
            "g:\\PythonProject\\Educational_Folder\\venv\\Lib\\site-packages\\sklearn\\linear_model\\_coordinate_descent.py:695: ConvergenceWarning:\n",
            "\n",
            "Objective did not converge. You might want to increase the number of iterations, check the scale of the features or consider increasing regularisation. Duality gap: 5.191e+04, tolerance: 1.332e+04\n",
            "\n",
            "g:\\PythonProject\\Educational_Folder\\venv\\Lib\\site-packages\\sklearn\\linear_model\\_coordinate_descent.py:695: ConvergenceWarning:\n",
            "\n",
            "Objective did not converge. You might want to increase the number of iterations, check the scale of the features or consider increasing regularisation. Duality gap: 4.433e+04, tolerance: 1.172e+04\n",
            "\n",
            "g:\\PythonProject\\Educational_Folder\\venv\\Lib\\site-packages\\sklearn\\linear_model\\_coordinate_descent.py:695: ConvergenceWarning:\n",
            "\n",
            "Objective did not converge. You might want to increase the number of iterations, check the scale of the features or consider increasing regularisation. Duality gap: 4.049e+04, tolerance: 1.346e+04\n",
            "\n",
            "g:\\PythonProject\\Educational_Folder\\venv\\Lib\\site-packages\\sklearn\\linear_model\\_coordinate_descent.py:695: ConvergenceWarning:\n",
            "\n",
            "Objective did not converge. You might want to increase the number of iterations, check the scale of the features or consider increasing regularisation. Duality gap: 4.496e+04, tolerance: 1.329e+04\n",
            "\n",
            "g:\\PythonProject\\Educational_Folder\\venv\\Lib\\site-packages\\sklearn\\linear_model\\_coordinate_descent.py:695: ConvergenceWarning:\n",
            "\n",
            "Objective did not converge. You might want to increase the number of iterations, check the scale of the features or consider increasing regularisation. Duality gap: 1.533e+05, tolerance: 1.286e+04\n",
            "\n",
            "g:\\PythonProject\\Educational_Folder\\venv\\Lib\\site-packages\\sklearn\\linear_model\\_coordinate_descent.py:695: ConvergenceWarning:\n",
            "\n",
            "Objective did not converge. You might want to increase the number of iterations, check the scale of the features or consider increasing regularisation. Duality gap: 1.604e+05, tolerance: 1.332e+04\n",
            "\n",
            "g:\\PythonProject\\Educational_Folder\\venv\\Lib\\site-packages\\sklearn\\linear_model\\_coordinate_descent.py:695: ConvergenceWarning:\n",
            "\n",
            "Objective did not converge. You might want to increase the number of iterations, check the scale of the features or consider increasing regularisation. Duality gap: 1.473e+05, tolerance: 1.172e+04\n",
            "\n",
            "g:\\PythonProject\\Educational_Folder\\venv\\Lib\\site-packages\\sklearn\\linear_model\\_coordinate_descent.py:695: ConvergenceWarning:\n",
            "\n",
            "Objective did not converge. You might want to increase the number of iterations, check the scale of the features or consider increasing regularisation. Duality gap: 1.508e+05, tolerance: 1.346e+04\n",
            "\n",
            "g:\\PythonProject\\Educational_Folder\\venv\\Lib\\site-packages\\sklearn\\linear_model\\_coordinate_descent.py:695: ConvergenceWarning:\n",
            "\n",
            "Objective did not converge. You might want to increase the number of iterations, check the scale of the features or consider increasing regularisation. Duality gap: 1.528e+05, tolerance: 1.329e+04\n",
            "\n",
            "g:\\PythonProject\\Educational_Folder\\venv\\Lib\\site-packages\\sklearn\\linear_model\\_coordinate_descent.py:695: ConvergenceWarning:\n",
            "\n",
            "Objective did not converge. You might want to increase the number of iterations, check the scale of the features or consider increasing regularisation. Duality gap: 1.421e+05, tolerance: 1.286e+04\n",
            "\n",
            "g:\\PythonProject\\Educational_Folder\\venv\\Lib\\site-packages\\sklearn\\linear_model\\_coordinate_descent.py:695: ConvergenceWarning:\n",
            "\n",
            "Objective did not converge. You might want to increase the number of iterations, check the scale of the features or consider increasing regularisation. Duality gap: 1.489e+05, tolerance: 1.332e+04\n",
            "\n",
            "g:\\PythonProject\\Educational_Folder\\venv\\Lib\\site-packages\\sklearn\\linear_model\\_coordinate_descent.py:695: ConvergenceWarning:\n",
            "\n",
            "Objective did not converge. You might want to increase the number of iterations, check the scale of the features or consider increasing regularisation. Duality gap: 1.361e+05, tolerance: 1.172e+04\n",
            "\n",
            "g:\\PythonProject\\Educational_Folder\\venv\\Lib\\site-packages\\sklearn\\linear_model\\_coordinate_descent.py:695: ConvergenceWarning:\n",
            "\n",
            "Objective did not converge. You might want to increase the number of iterations, check the scale of the features or consider increasing regularisation. Duality gap: 1.392e+05, tolerance: 1.346e+04\n",
            "\n",
            "g:\\PythonProject\\Educational_Folder\\venv\\Lib\\site-packages\\sklearn\\linear_model\\_coordinate_descent.py:695: ConvergenceWarning:\n",
            "\n",
            "Objective did not converge. You might want to increase the number of iterations, check the scale of the features or consider increasing regularisation. Duality gap: 1.414e+05, tolerance: 1.329e+04\n",
            "\n",
            "g:\\PythonProject\\Educational_Folder\\venv\\Lib\\site-packages\\sklearn\\linear_model\\_coordinate_descent.py:695: ConvergenceWarning:\n",
            "\n",
            "Objective did not converge. You might want to increase the number of iterations, check the scale of the features or consider increasing regularisation. Duality gap: 1.309e+05, tolerance: 1.286e+04\n",
            "\n",
            "g:\\PythonProject\\Educational_Folder\\venv\\Lib\\site-packages\\sklearn\\linear_model\\_coordinate_descent.py:695: ConvergenceWarning:\n",
            "\n",
            "Objective did not converge. You might want to increase the number of iterations, check the scale of the features or consider increasing regularisation. Duality gap: 1.373e+05, tolerance: 1.332e+04\n",
            "\n",
            "g:\\PythonProject\\Educational_Folder\\venv\\Lib\\site-packages\\sklearn\\linear_model\\_coordinate_descent.py:695: ConvergenceWarning:\n",
            "\n",
            "Objective did not converge. You might want to increase the number of iterations, check the scale of the features or consider increasing regularisation. Duality gap: 1.249e+05, tolerance: 1.172e+04\n",
            "\n",
            "g:\\PythonProject\\Educational_Folder\\venv\\Lib\\site-packages\\sklearn\\linear_model\\_coordinate_descent.py:695: ConvergenceWarning:\n",
            "\n",
            "Objective did not converge. You might want to increase the number of iterations, check the scale of the features or consider increasing regularisation. Duality gap: 1.275e+05, tolerance: 1.346e+04\n",
            "\n",
            "g:\\PythonProject\\Educational_Folder\\venv\\Lib\\site-packages\\sklearn\\linear_model\\_coordinate_descent.py:695: ConvergenceWarning:\n",
            "\n",
            "Objective did not converge. You might want to increase the number of iterations, check the scale of the features or consider increasing regularisation. Duality gap: 1.300e+05, tolerance: 1.329e+04\n",
            "\n",
            "g:\\PythonProject\\Educational_Folder\\venv\\Lib\\site-packages\\sklearn\\linear_model\\_coordinate_descent.py:695: ConvergenceWarning:\n",
            "\n",
            "Objective did not converge. You might want to increase the number of iterations, check the scale of the features or consider increasing regularisation. Duality gap: 1.195e+05, tolerance: 1.286e+04\n",
            "\n",
            "g:\\PythonProject\\Educational_Folder\\venv\\Lib\\site-packages\\sklearn\\linear_model\\_coordinate_descent.py:695: ConvergenceWarning:\n",
            "\n",
            "Objective did not converge. You might want to increase the number of iterations, check the scale of the features or consider increasing regularisation. Duality gap: 1.256e+05, tolerance: 1.332e+04\n",
            "\n",
            "g:\\PythonProject\\Educational_Folder\\venv\\Lib\\site-packages\\sklearn\\linear_model\\_coordinate_descent.py:695: ConvergenceWarning:\n",
            "\n",
            "Objective did not converge. You might want to increase the number of iterations, check the scale of the features or consider increasing regularisation. Duality gap: 1.136e+05, tolerance: 1.172e+04\n",
            "\n",
            "g:\\PythonProject\\Educational_Folder\\venv\\Lib\\site-packages\\sklearn\\linear_model\\_coordinate_descent.py:695: ConvergenceWarning:\n",
            "\n",
            "Objective did not converge. You might want to increase the number of iterations, check the scale of the features or consider increasing regularisation. Duality gap: 1.157e+05, tolerance: 1.346e+04\n",
            "\n",
            "g:\\PythonProject\\Educational_Folder\\venv\\Lib\\site-packages\\sklearn\\linear_model\\_coordinate_descent.py:695: ConvergenceWarning:\n",
            "\n",
            "Objective did not converge. You might want to increase the number of iterations, check the scale of the features or consider increasing regularisation. Duality gap: 1.185e+05, tolerance: 1.329e+04\n",
            "\n",
            "g:\\PythonProject\\Educational_Folder\\venv\\Lib\\site-packages\\sklearn\\linear_model\\_coordinate_descent.py:695: ConvergenceWarning:\n",
            "\n",
            "Objective did not converge. You might want to increase the number of iterations, check the scale of the features or consider increasing regularisation. Duality gap: 1.080e+05, tolerance: 1.286e+04\n",
            "\n",
            "g:\\PythonProject\\Educational_Folder\\venv\\Lib\\site-packages\\sklearn\\linear_model\\_coordinate_descent.py:695: ConvergenceWarning:\n",
            "\n",
            "Objective did not converge. You might want to increase the number of iterations, check the scale of the features or consider increasing regularisation. Duality gap: 1.138e+05, tolerance: 1.332e+04\n",
            "\n",
            "g:\\PythonProject\\Educational_Folder\\venv\\Lib\\site-packages\\sklearn\\linear_model\\_coordinate_descent.py:695: ConvergenceWarning:\n",
            "\n",
            "Objective did not converge. You might want to increase the number of iterations, check the scale of the features or consider increasing regularisation. Duality gap: 1.023e+05, tolerance: 1.172e+04\n",
            "\n",
            "g:\\PythonProject\\Educational_Folder\\venv\\Lib\\site-packages\\sklearn\\linear_model\\_coordinate_descent.py:695: ConvergenceWarning:\n",
            "\n",
            "Objective did not converge. You might want to increase the number of iterations, check the scale of the features or consider increasing regularisation. Duality gap: 1.037e+05, tolerance: 1.346e+04\n",
            "\n",
            "g:\\PythonProject\\Educational_Folder\\venv\\Lib\\site-packages\\sklearn\\linear_model\\_coordinate_descent.py:695: ConvergenceWarning:\n",
            "\n",
            "Objective did not converge. You might want to increase the number of iterations, check the scale of the features or consider increasing regularisation. Duality gap: 1.069e+05, tolerance: 1.329e+04\n",
            "\n",
            "g:\\PythonProject\\Educational_Folder\\venv\\Lib\\site-packages\\sklearn\\linear_model\\_coordinate_descent.py:695: ConvergenceWarning:\n",
            "\n",
            "Objective did not converge. You might want to increase the number of iterations, check the scale of the features or consider increasing regularisation. Duality gap: 9.634e+04, tolerance: 1.286e+04\n",
            "\n",
            "g:\\PythonProject\\Educational_Folder\\venv\\Lib\\site-packages\\sklearn\\linear_model\\_coordinate_descent.py:695: ConvergenceWarning:\n",
            "\n",
            "Objective did not converge. You might want to increase the number of iterations, check the scale of the features or consider increasing regularisation. Duality gap: 1.019e+05, tolerance: 1.332e+04\n",
            "\n",
            "g:\\PythonProject\\Educational_Folder\\venv\\Lib\\site-packages\\sklearn\\linear_model\\_coordinate_descent.py:695: ConvergenceWarning:\n",
            "\n",
            "Objective did not converge. You might want to increase the number of iterations, check the scale of the features or consider increasing regularisation. Duality gap: 9.097e+04, tolerance: 1.172e+04\n",
            "\n",
            "g:\\PythonProject\\Educational_Folder\\venv\\Lib\\site-packages\\sklearn\\linear_model\\_coordinate_descent.py:695: ConvergenceWarning:\n",
            "\n",
            "Objective did not converge. You might want to increase the number of iterations, check the scale of the features or consider increasing regularisation. Duality gap: 9.154e+04, tolerance: 1.346e+04\n",
            "\n",
            "g:\\PythonProject\\Educational_Folder\\venv\\Lib\\site-packages\\sklearn\\linear_model\\_coordinate_descent.py:695: ConvergenceWarning:\n",
            "\n",
            "Objective did not converge. You might want to increase the number of iterations, check the scale of the features or consider increasing regularisation. Duality gap: 9.510e+04, tolerance: 1.329e+04\n",
            "\n",
            "g:\\PythonProject\\Educational_Folder\\venv\\Lib\\site-packages\\sklearn\\linear_model\\_coordinate_descent.py:695: ConvergenceWarning:\n",
            "\n",
            "Objective did not converge. You might want to increase the number of iterations, check the scale of the features or consider increasing regularisation. Duality gap: 8.448e+04, tolerance: 1.286e+04\n",
            "\n",
            "g:\\PythonProject\\Educational_Folder\\venv\\Lib\\site-packages\\sklearn\\linear_model\\_coordinate_descent.py:695: ConvergenceWarning:\n",
            "\n",
            "Objective did not converge. You might want to increase the number of iterations, check the scale of the features or consider increasing regularisation. Duality gap: 8.975e+04, tolerance: 1.332e+04\n",
            "\n",
            "g:\\PythonProject\\Educational_Folder\\venv\\Lib\\site-packages\\sklearn\\linear_model\\_coordinate_descent.py:695: ConvergenceWarning:\n",
            "\n",
            "Objective did not converge. You might want to increase the number of iterations, check the scale of the features or consider increasing regularisation. Duality gap: 7.950e+04, tolerance: 1.172e+04\n",
            "\n",
            "g:\\PythonProject\\Educational_Folder\\venv\\Lib\\site-packages\\sklearn\\linear_model\\_coordinate_descent.py:695: ConvergenceWarning:\n",
            "\n",
            "Objective did not converge. You might want to increase the number of iterations, check the scale of the features or consider increasing regularisation. Duality gap: 7.921e+04, tolerance: 1.346e+04\n",
            "\n",
            "g:\\PythonProject\\Educational_Folder\\venv\\Lib\\site-packages\\sklearn\\linear_model\\_coordinate_descent.py:695: ConvergenceWarning:\n",
            "\n",
            "Objective did not converge. You might want to increase the number of iterations, check the scale of the features or consider increasing regularisation. Duality gap: 8.308e+04, tolerance: 1.329e+04\n",
            "\n",
            "g:\\PythonProject\\Educational_Folder\\venv\\Lib\\site-packages\\sklearn\\linear_model\\_coordinate_descent.py:695: ConvergenceWarning:\n",
            "\n",
            "Objective did not converge. You might want to increase the number of iterations, check the scale of the features or consider increasing regularisation. Duality gap: 7.237e+04, tolerance: 1.286e+04\n",
            "\n",
            "g:\\PythonProject\\Educational_Folder\\venv\\Lib\\site-packages\\sklearn\\linear_model\\_coordinate_descent.py:695: ConvergenceWarning:\n",
            "\n",
            "Objective did not converge. You might want to increase the number of iterations, check the scale of the features or consider increasing regularisation. Duality gap: 7.744e+04, tolerance: 1.332e+04\n",
            "\n",
            "g:\\PythonProject\\Educational_Folder\\venv\\Lib\\site-packages\\sklearn\\linear_model\\_coordinate_descent.py:695: ConvergenceWarning:\n",
            "\n",
            "Objective did not converge. You might want to increase the number of iterations, check the scale of the features or consider increasing regularisation. Duality gap: 6.790e+04, tolerance: 1.172e+04\n",
            "\n",
            "g:\\PythonProject\\Educational_Folder\\venv\\Lib\\site-packages\\sklearn\\linear_model\\_coordinate_descent.py:695: ConvergenceWarning:\n",
            "\n",
            "Objective did not converge. You might want to increase the number of iterations, check the scale of the features or consider increasing regularisation. Duality gap: 6.668e+04, tolerance: 1.346e+04\n",
            "\n",
            "g:\\PythonProject\\Educational_Folder\\venv\\Lib\\site-packages\\sklearn\\linear_model\\_coordinate_descent.py:695: ConvergenceWarning:\n",
            "\n",
            "Objective did not converge. You might want to increase the number of iterations, check the scale of the features or consider increasing regularisation. Duality gap: 7.079e+04, tolerance: 1.329e+04\n",
            "\n",
            "g:\\PythonProject\\Educational_Folder\\venv\\Lib\\site-packages\\sklearn\\linear_model\\_coordinate_descent.py:695: ConvergenceWarning:\n",
            "\n",
            "Objective did not converge. You might want to increase the number of iterations, check the scale of the features or consider increasing regularisation. Duality gap: 5.994e+04, tolerance: 1.286e+04\n",
            "\n",
            "g:\\PythonProject\\Educational_Folder\\venv\\Lib\\site-packages\\sklearn\\linear_model\\_coordinate_descent.py:695: ConvergenceWarning:\n",
            "\n",
            "Objective did not converge. You might want to increase the number of iterations, check the scale of the features or consider increasing regularisation. Duality gap: 6.485e+04, tolerance: 1.332e+04\n",
            "\n",
            "g:\\PythonProject\\Educational_Folder\\venv\\Lib\\site-packages\\sklearn\\linear_model\\_coordinate_descent.py:695: ConvergenceWarning:\n",
            "\n",
            "Objective did not converge. You might want to increase the number of iterations, check the scale of the features or consider increasing regularisation. Duality gap: 5.615e+04, tolerance: 1.172e+04\n",
            "\n",
            "g:\\PythonProject\\Educational_Folder\\venv\\Lib\\site-packages\\sklearn\\linear_model\\_coordinate_descent.py:695: ConvergenceWarning:\n",
            "\n",
            "Objective did not converge. You might want to increase the number of iterations, check the scale of the features or consider increasing regularisation. Duality gap: 5.389e+04, tolerance: 1.346e+04\n",
            "\n",
            "g:\\PythonProject\\Educational_Folder\\venv\\Lib\\site-packages\\sklearn\\linear_model\\_coordinate_descent.py:695: ConvergenceWarning:\n",
            "\n",
            "Objective did not converge. You might want to increase the number of iterations, check the scale of the features or consider increasing regularisation. Duality gap: 5.815e+04, tolerance: 1.329e+04\n",
            "\n",
            "g:\\PythonProject\\Educational_Folder\\venv\\Lib\\site-packages\\sklearn\\linear_model\\_coordinate_descent.py:695: ConvergenceWarning:\n",
            "\n",
            "Objective did not converge. You might want to increase the number of iterations, check the scale of the features or consider increasing regularisation. Duality gap: 4.707e+04, tolerance: 1.286e+04\n",
            "\n",
            "g:\\PythonProject\\Educational_Folder\\venv\\Lib\\site-packages\\sklearn\\linear_model\\_coordinate_descent.py:695: ConvergenceWarning:\n",
            "\n",
            "Objective did not converge. You might want to increase the number of iterations, check the scale of the features or consider increasing regularisation. Duality gap: 5.188e+04, tolerance: 1.332e+04\n",
            "\n",
            "g:\\PythonProject\\Educational_Folder\\venv\\Lib\\site-packages\\sklearn\\linear_model\\_coordinate_descent.py:695: ConvergenceWarning:\n",
            "\n",
            "Objective did not converge. You might want to increase the number of iterations, check the scale of the features or consider increasing regularisation. Duality gap: 4.421e+04, tolerance: 1.172e+04\n",
            "\n",
            "g:\\PythonProject\\Educational_Folder\\venv\\Lib\\site-packages\\sklearn\\linear_model\\_coordinate_descent.py:695: ConvergenceWarning:\n",
            "\n",
            "Objective did not converge. You might want to increase the number of iterations, check the scale of the features or consider increasing regularisation. Duality gap: 4.078e+04, tolerance: 1.346e+04\n",
            "\n",
            "g:\\PythonProject\\Educational_Folder\\venv\\Lib\\site-packages\\sklearn\\linear_model\\_coordinate_descent.py:695: ConvergenceWarning:\n",
            "\n",
            "Objective did not converge. You might want to increase the number of iterations, check the scale of the features or consider increasing regularisation. Duality gap: 4.511e+04, tolerance: 1.329e+04\n",
            "\n",
            "g:\\PythonProject\\Educational_Folder\\venv\\Lib\\site-packages\\sklearn\\linear_model\\_coordinate_descent.py:695: ConvergenceWarning:\n",
            "\n",
            "Objective did not converge. You might want to increase the number of iterations, check the scale of the features or consider increasing regularisation. Duality gap: 4.635e+05, tolerance: 1.286e+04\n",
            "\n",
            "g:\\PythonProject\\Educational_Folder\\venv\\Lib\\site-packages\\sklearn\\linear_model\\_coordinate_descent.py:695: ConvergenceWarning:\n",
            "\n",
            "Objective did not converge. You might want to increase the number of iterations, check the scale of the features or consider increasing regularisation. Duality gap: 4.727e+05, tolerance: 1.332e+04\n",
            "\n",
            "g:\\PythonProject\\Educational_Folder\\venv\\Lib\\site-packages\\sklearn\\linear_model\\_coordinate_descent.py:695: ConvergenceWarning:\n",
            "\n",
            "Objective did not converge. You might want to increase the number of iterations, check the scale of the features or consider increasing regularisation. Duality gap: 4.454e+05, tolerance: 1.172e+04\n",
            "\n",
            "g:\\PythonProject\\Educational_Folder\\venv\\Lib\\site-packages\\sklearn\\linear_model\\_coordinate_descent.py:695: ConvergenceWarning:\n",
            "\n",
            "Objective did not converge. You might want to increase the number of iterations, check the scale of the features or consider increasing regularisation. Duality gap: 4.709e+05, tolerance: 1.346e+04\n",
            "\n",
            "g:\\PythonProject\\Educational_Folder\\venv\\Lib\\site-packages\\sklearn\\linear_model\\_coordinate_descent.py:695: ConvergenceWarning:\n",
            "\n",
            "Objective did not converge. You might want to increase the number of iterations, check the scale of the features or consider increasing regularisation. Duality gap: 4.434e+05, tolerance: 1.329e+04\n",
            "\n",
            "g:\\PythonProject\\Educational_Folder\\venv\\Lib\\site-packages\\sklearn\\linear_model\\_coordinate_descent.py:695: ConvergenceWarning:\n",
            "\n",
            "Objective did not converge. You might want to increase the number of iterations, check the scale of the features or consider increasing regularisation. Duality gap: 4.148e+05, tolerance: 1.286e+04\n",
            "\n",
            "g:\\PythonProject\\Educational_Folder\\venv\\Lib\\site-packages\\sklearn\\linear_model\\_coordinate_descent.py:695: ConvergenceWarning:\n",
            "\n",
            "Objective did not converge. You might want to increase the number of iterations, check the scale of the features or consider increasing regularisation. Duality gap: 4.251e+05, tolerance: 1.332e+04\n",
            "\n",
            "g:\\PythonProject\\Educational_Folder\\venv\\Lib\\site-packages\\sklearn\\linear_model\\_coordinate_descent.py:695: ConvergenceWarning:\n",
            "\n",
            "Objective did not converge. You might want to increase the number of iterations, check the scale of the features or consider increasing regularisation. Duality gap: 3.943e+05, tolerance: 1.172e+04\n",
            "\n",
            "g:\\PythonProject\\Educational_Folder\\venv\\Lib\\site-packages\\sklearn\\linear_model\\_coordinate_descent.py:695: ConvergenceWarning:\n",
            "\n",
            "Objective did not converge. You might want to increase the number of iterations, check the scale of the features or consider increasing regularisation. Duality gap: 4.249e+05, tolerance: 1.346e+04\n",
            "\n",
            "g:\\PythonProject\\Educational_Folder\\venv\\Lib\\site-packages\\sklearn\\linear_model\\_coordinate_descent.py:695: ConvergenceWarning:\n",
            "\n",
            "Objective did not converge. You might want to increase the number of iterations, check the scale of the features or consider increasing regularisation. Duality gap: 3.968e+05, tolerance: 1.329e+04\n",
            "\n",
            "g:\\PythonProject\\Educational_Folder\\venv\\Lib\\site-packages\\sklearn\\linear_model\\_coordinate_descent.py:695: ConvergenceWarning:\n",
            "\n",
            "Objective did not converge. You might want to increase the number of iterations, check the scale of the features or consider increasing regularisation. Duality gap: 3.665e+05, tolerance: 1.286e+04\n",
            "\n",
            "g:\\PythonProject\\Educational_Folder\\venv\\Lib\\site-packages\\sklearn\\linear_model\\_coordinate_descent.py:695: ConvergenceWarning:\n",
            "\n",
            "Objective did not converge. You might want to increase the number of iterations, check the scale of the features or consider increasing regularisation. Duality gap: 3.804e+05, tolerance: 1.332e+04\n",
            "\n",
            "g:\\PythonProject\\Educational_Folder\\venv\\Lib\\site-packages\\sklearn\\linear_model\\_coordinate_descent.py:695: ConvergenceWarning:\n",
            "\n",
            "Objective did not converge. You might want to increase the number of iterations, check the scale of the features or consider increasing regularisation. Duality gap: 3.488e+05, tolerance: 1.172e+04\n",
            "\n",
            "g:\\PythonProject\\Educational_Folder\\venv\\Lib\\site-packages\\sklearn\\linear_model\\_coordinate_descent.py:695: ConvergenceWarning:\n",
            "\n",
            "Objective did not converge. You might want to increase the number of iterations, check the scale of the features or consider increasing regularisation. Duality gap: 3.793e+05, tolerance: 1.346e+04\n",
            "\n",
            "g:\\PythonProject\\Educational_Folder\\venv\\Lib\\site-packages\\sklearn\\linear_model\\_coordinate_descent.py:695: ConvergenceWarning:\n",
            "\n",
            "Objective did not converge. You might want to increase the number of iterations, check the scale of the features or consider increasing regularisation. Duality gap: 3.540e+05, tolerance: 1.329e+04\n",
            "\n",
            "g:\\PythonProject\\Educational_Folder\\venv\\Lib\\site-packages\\sklearn\\linear_model\\_coordinate_descent.py:695: ConvergenceWarning:\n",
            "\n",
            "Objective did not converge. You might want to increase the number of iterations, check the scale of the features or consider increasing regularisation. Duality gap: 3.249e+05, tolerance: 1.286e+04\n",
            "\n",
            "g:\\PythonProject\\Educational_Folder\\venv\\Lib\\site-packages\\sklearn\\linear_model\\_coordinate_descent.py:695: ConvergenceWarning:\n",
            "\n",
            "Objective did not converge. You might want to increase the number of iterations, check the scale of the features or consider increasing regularisation. Duality gap: 3.371e+05, tolerance: 1.332e+04\n",
            "\n",
            "g:\\PythonProject\\Educational_Folder\\venv\\Lib\\site-packages\\sklearn\\linear_model\\_coordinate_descent.py:695: ConvergenceWarning:\n",
            "\n",
            "Objective did not converge. You might want to increase the number of iterations, check the scale of the features or consider increasing regularisation. Duality gap: 3.047e+05, tolerance: 1.172e+04\n",
            "\n",
            "g:\\PythonProject\\Educational_Folder\\venv\\Lib\\site-packages\\sklearn\\linear_model\\_coordinate_descent.py:695: ConvergenceWarning:\n",
            "\n",
            "Objective did not converge. You might want to increase the number of iterations, check the scale of the features or consider increasing regularisation. Duality gap: 3.351e+05, tolerance: 1.346e+04\n",
            "\n",
            "g:\\PythonProject\\Educational_Folder\\venv\\Lib\\site-packages\\sklearn\\linear_model\\_coordinate_descent.py:695: ConvergenceWarning:\n",
            "\n",
            "Objective did not converge. You might want to increase the number of iterations, check the scale of the features or consider increasing regularisation. Duality gap: 3.119e+05, tolerance: 1.329e+04\n",
            "\n",
            "g:\\PythonProject\\Educational_Folder\\venv\\Lib\\site-packages\\sklearn\\linear_model\\_coordinate_descent.py:695: ConvergenceWarning:\n",
            "\n",
            "Objective did not converge. You might want to increase the number of iterations, check the scale of the features or consider increasing regularisation. Duality gap: 2.829e+05, tolerance: 1.286e+04\n",
            "\n",
            "g:\\PythonProject\\Educational_Folder\\venv\\Lib\\site-packages\\sklearn\\linear_model\\_coordinate_descent.py:695: ConvergenceWarning:\n",
            "\n",
            "Objective did not converge. You might want to increase the number of iterations, check the scale of the features or consider increasing regularisation. Duality gap: 2.933e+05, tolerance: 1.332e+04\n",
            "\n",
            "g:\\PythonProject\\Educational_Folder\\venv\\Lib\\site-packages\\sklearn\\linear_model\\_coordinate_descent.py:695: ConvergenceWarning:\n",
            "\n",
            "Objective did not converge. You might want to increase the number of iterations, check the scale of the features or consider increasing regularisation. Duality gap: 2.601e+05, tolerance: 1.172e+04\n",
            "\n",
            "g:\\PythonProject\\Educational_Folder\\venv\\Lib\\site-packages\\sklearn\\linear_model\\_coordinate_descent.py:695: ConvergenceWarning:\n",
            "\n",
            "Objective did not converge. You might want to increase the number of iterations, check the scale of the features or consider increasing regularisation. Duality gap: 2.902e+05, tolerance: 1.346e+04\n",
            "\n",
            "g:\\PythonProject\\Educational_Folder\\venv\\Lib\\site-packages\\sklearn\\linear_model\\_coordinate_descent.py:695: ConvergenceWarning:\n",
            "\n",
            "Objective did not converge. You might want to increase the number of iterations, check the scale of the features or consider increasing regularisation. Duality gap: 2.670e+05, tolerance: 1.329e+04\n",
            "\n",
            "g:\\PythonProject\\Educational_Folder\\venv\\Lib\\site-packages\\sklearn\\linear_model\\_coordinate_descent.py:695: ConvergenceWarning:\n",
            "\n",
            "Objective did not converge. You might want to increase the number of iterations, check the scale of the features or consider increasing regularisation. Duality gap: 2.399e+05, tolerance: 1.286e+04\n",
            "\n",
            "g:\\PythonProject\\Educational_Folder\\venv\\Lib\\site-packages\\sklearn\\linear_model\\_coordinate_descent.py:695: ConvergenceWarning:\n",
            "\n",
            "Objective did not converge. You might want to increase the number of iterations, check the scale of the features or consider increasing regularisation. Duality gap: 2.483e+05, tolerance: 1.332e+04\n",
            "\n",
            "g:\\PythonProject\\Educational_Folder\\venv\\Lib\\site-packages\\sklearn\\linear_model\\_coordinate_descent.py:695: ConvergenceWarning:\n",
            "\n",
            "Objective did not converge. You might want to increase the number of iterations, check the scale of the features or consider increasing regularisation. Duality gap: 2.163e+05, tolerance: 1.172e+04\n",
            "\n",
            "g:\\PythonProject\\Educational_Folder\\venv\\Lib\\site-packages\\sklearn\\linear_model\\_coordinate_descent.py:695: ConvergenceWarning:\n",
            "\n",
            "Objective did not converge. You might want to increase the number of iterations, check the scale of the features or consider increasing regularisation. Duality gap: 2.441e+05, tolerance: 1.346e+04\n",
            "\n",
            "g:\\PythonProject\\Educational_Folder\\venv\\Lib\\site-packages\\sklearn\\linear_model\\_coordinate_descent.py:695: ConvergenceWarning:\n",
            "\n",
            "Objective did not converge. You might want to increase the number of iterations, check the scale of the features or consider increasing regularisation. Duality gap: 2.185e+05, tolerance: 1.329e+04\n",
            "\n",
            "g:\\PythonProject\\Educational_Folder\\venv\\Lib\\site-packages\\sklearn\\linear_model\\_coordinate_descent.py:695: ConvergenceWarning:\n",
            "\n",
            "Objective did not converge. You might want to increase the number of iterations, check the scale of the features or consider increasing regularisation. Duality gap: 1.949e+05, tolerance: 1.286e+04\n",
            "\n",
            "g:\\PythonProject\\Educational_Folder\\venv\\Lib\\site-packages\\sklearn\\linear_model\\_coordinate_descent.py:695: ConvergenceWarning:\n",
            "\n",
            "Objective did not converge. You might want to increase the number of iterations, check the scale of the features or consider increasing regularisation. Duality gap: 2.018e+05, tolerance: 1.332e+04\n",
            "\n",
            "g:\\PythonProject\\Educational_Folder\\venv\\Lib\\site-packages\\sklearn\\linear_model\\_coordinate_descent.py:695: ConvergenceWarning:\n",
            "\n",
            "Objective did not converge. You might want to increase the number of iterations, check the scale of the features or consider increasing regularisation. Duality gap: 1.768e+05, tolerance: 1.172e+04\n",
            "\n",
            "g:\\PythonProject\\Educational_Folder\\venv\\Lib\\site-packages\\sklearn\\linear_model\\_coordinate_descent.py:695: ConvergenceWarning:\n",
            "\n",
            "Objective did not converge. You might want to increase the number of iterations, check the scale of the features or consider increasing regularisation. Duality gap: 1.964e+05, tolerance: 1.346e+04\n",
            "\n",
            "g:\\PythonProject\\Educational_Folder\\venv\\Lib\\site-packages\\sklearn\\linear_model\\_coordinate_descent.py:695: ConvergenceWarning:\n",
            "\n",
            "Objective did not converge. You might want to increase the number of iterations, check the scale of the features or consider increasing regularisation. Duality gap: 1.808e+05, tolerance: 1.329e+04\n",
            "\n",
            "g:\\PythonProject\\Educational_Folder\\venv\\Lib\\site-packages\\sklearn\\linear_model\\_coordinate_descent.py:695: ConvergenceWarning:\n",
            "\n",
            "Objective did not converge. You might want to increase the number of iterations, check the scale of the features or consider increasing regularisation. Duality gap: 1.487e+05, tolerance: 1.286e+04\n",
            "\n",
            "g:\\PythonProject\\Educational_Folder\\venv\\Lib\\site-packages\\sklearn\\linear_model\\_coordinate_descent.py:695: ConvergenceWarning:\n",
            "\n",
            "Objective did not converge. You might want to increase the number of iterations, check the scale of the features or consider increasing regularisation. Duality gap: 1.530e+05, tolerance: 1.332e+04\n",
            "\n",
            "g:\\PythonProject\\Educational_Folder\\venv\\Lib\\site-packages\\sklearn\\linear_model\\_coordinate_descent.py:695: ConvergenceWarning:\n",
            "\n",
            "Objective did not converge. You might want to increase the number of iterations, check the scale of the features or consider increasing regularisation. Duality gap: 1.346e+05, tolerance: 1.172e+04\n",
            "\n",
            "g:\\PythonProject\\Educational_Folder\\venv\\Lib\\site-packages\\sklearn\\linear_model\\_coordinate_descent.py:695: ConvergenceWarning:\n",
            "\n",
            "Objective did not converge. You might want to increase the number of iterations, check the scale of the features or consider increasing regularisation. Duality gap: 1.471e+05, tolerance: 1.346e+04\n",
            "\n",
            "g:\\PythonProject\\Educational_Folder\\venv\\Lib\\site-packages\\sklearn\\linear_model\\_coordinate_descent.py:695: ConvergenceWarning:\n",
            "\n",
            "Objective did not converge. You might want to increase the number of iterations, check the scale of the features or consider increasing regularisation. Duality gap: 1.394e+05, tolerance: 1.329e+04\n",
            "\n",
            "g:\\PythonProject\\Educational_Folder\\venv\\Lib\\site-packages\\sklearn\\linear_model\\_coordinate_descent.py:695: ConvergenceWarning:\n",
            "\n",
            "Objective did not converge. You might want to increase the number of iterations, check the scale of the features or consider increasing regularisation. Duality gap: 9.967e+04, tolerance: 1.286e+04\n",
            "\n",
            "g:\\PythonProject\\Educational_Folder\\venv\\Lib\\site-packages\\sklearn\\linear_model\\_coordinate_descent.py:695: ConvergenceWarning:\n",
            "\n",
            "Objective did not converge. You might want to increase the number of iterations, check the scale of the features or consider increasing regularisation. Duality gap: 1.034e+05, tolerance: 1.332e+04\n",
            "\n",
            "g:\\PythonProject\\Educational_Folder\\venv\\Lib\\site-packages\\sklearn\\linear_model\\_coordinate_descent.py:695: ConvergenceWarning:\n",
            "\n",
            "Objective did not converge. You might want to increase the number of iterations, check the scale of the features or consider increasing regularisation. Duality gap: 8.996e+04, tolerance: 1.172e+04\n",
            "\n",
            "g:\\PythonProject\\Educational_Folder\\venv\\Lib\\site-packages\\sklearn\\linear_model\\_coordinate_descent.py:695: ConvergenceWarning:\n",
            "\n",
            "Objective did not converge. You might want to increase the number of iterations, check the scale of the features or consider increasing regularisation. Duality gap: 9.561e+04, tolerance: 1.346e+04\n",
            "\n",
            "g:\\PythonProject\\Educational_Folder\\venv\\Lib\\site-packages\\sklearn\\linear_model\\_coordinate_descent.py:695: ConvergenceWarning:\n",
            "\n",
            "Objective did not converge. You might want to increase the number of iterations, check the scale of the features or consider increasing regularisation. Duality gap: 9.632e+04, tolerance: 1.329e+04\n",
            "\n",
            "g:\\PythonProject\\Educational_Folder\\venv\\Lib\\site-packages\\sklearn\\linear_model\\_coordinate_descent.py:695: ConvergenceWarning:\n",
            "\n",
            "Objective did not converge. You might want to increase the number of iterations, check the scale of the features or consider increasing regularisation. Duality gap: 4.705e+04, tolerance: 1.286e+04\n",
            "\n",
            "g:\\PythonProject\\Educational_Folder\\venv\\Lib\\site-packages\\sklearn\\linear_model\\_coordinate_descent.py:695: ConvergenceWarning:\n",
            "\n",
            "Objective did not converge. You might want to increase the number of iterations, check the scale of the features or consider increasing regularisation. Duality gap: 5.149e+04, tolerance: 1.332e+04\n",
            "\n",
            "g:\\PythonProject\\Educational_Folder\\venv\\Lib\\site-packages\\sklearn\\linear_model\\_coordinate_descent.py:695: ConvergenceWarning:\n",
            "\n",
            "Objective did not converge. You might want to increase the number of iterations, check the scale of the features or consider increasing regularisation. Duality gap: 4.317e+04, tolerance: 1.172e+04\n",
            "\n",
            "g:\\PythonProject\\Educational_Folder\\venv\\Lib\\site-packages\\sklearn\\linear_model\\_coordinate_descent.py:695: ConvergenceWarning:\n",
            "\n",
            "Objective did not converge. You might want to increase the number of iterations, check the scale of the features or consider increasing regularisation. Duality gap: 4.172e+04, tolerance: 1.346e+04\n",
            "\n",
            "g:\\PythonProject\\Educational_Folder\\venv\\Lib\\site-packages\\sklearn\\linear_model\\_coordinate_descent.py:695: ConvergenceWarning:\n",
            "\n",
            "Objective did not converge. You might want to increase the number of iterations, check the scale of the features or consider increasing regularisation. Duality gap: 4.547e+04, tolerance: 1.329e+04\n",
            "\n",
            "g:\\PythonProject\\Educational_Folder\\venv\\Lib\\site-packages\\sklearn\\linear_model\\_coordinate_descent.py:695: ConvergenceWarning:\n",
            "\n",
            "Objective did not converge. You might want to increase the number of iterations, check the scale of the features or consider increasing regularisation. Duality gap: 1.181e+06, tolerance: 1.286e+04\n",
            "\n",
            "g:\\PythonProject\\Educational_Folder\\venv\\Lib\\site-packages\\sklearn\\linear_model\\_coordinate_descent.py:695: ConvergenceWarning:\n",
            "\n",
            "Objective did not converge. You might want to increase the number of iterations, check the scale of the features or consider increasing regularisation. Duality gap: 6.557e+05, tolerance: 1.332e+04\n",
            "\n",
            "g:\\PythonProject\\Educational_Folder\\venv\\Lib\\site-packages\\sklearn\\linear_model\\_coordinate_descent.py:695: ConvergenceWarning:\n",
            "\n",
            "Objective did not converge. You might want to increase the number of iterations, check the scale of the features or consider increasing regularisation. Duality gap: 2.890e+05, tolerance: 1.172e+04\n",
            "\n",
            "g:\\PythonProject\\Educational_Folder\\venv\\Lib\\site-packages\\sklearn\\linear_model\\_coordinate_descent.py:695: ConvergenceWarning:\n",
            "\n",
            "Objective did not converge. You might want to increase the number of iterations, check the scale of the features or consider increasing regularisation. Duality gap: 1.188e+06, tolerance: 1.346e+04\n",
            "\n",
            "g:\\PythonProject\\Educational_Folder\\venv\\Lib\\site-packages\\sklearn\\linear_model\\_coordinate_descent.py:695: ConvergenceWarning:\n",
            "\n",
            "Objective did not converge. You might want to increase the number of iterations, check the scale of the features or consider increasing regularisation. Duality gap: 5.091e+05, tolerance: 1.329e+04\n",
            "\n",
            "g:\\PythonProject\\Educational_Folder\\venv\\Lib\\site-packages\\sklearn\\linear_model\\_coordinate_descent.py:695: ConvergenceWarning:\n",
            "\n",
            "Objective did not converge. You might want to increase the number of iterations, check the scale of the features or consider increasing regularisation. Duality gap: 9.334e+05, tolerance: 1.286e+04\n",
            "\n",
            "g:\\PythonProject\\Educational_Folder\\venv\\Lib\\site-packages\\sklearn\\linear_model\\_coordinate_descent.py:695: ConvergenceWarning:\n",
            "\n",
            "Objective did not converge. You might want to increase the number of iterations, check the scale of the features or consider increasing regularisation. Duality gap: 6.064e+05, tolerance: 1.332e+04\n",
            "\n",
            "g:\\PythonProject\\Educational_Folder\\venv\\Lib\\site-packages\\sklearn\\linear_model\\_coordinate_descent.py:695: ConvergenceWarning:\n",
            "\n",
            "Objective did not converge. You might want to increase the number of iterations, check the scale of the features or consider increasing regularisation. Duality gap: 5.678e+05, tolerance: 1.172e+04\n",
            "\n",
            "g:\\PythonProject\\Educational_Folder\\venv\\Lib\\site-packages\\sklearn\\linear_model\\_coordinate_descent.py:695: ConvergenceWarning:\n",
            "\n",
            "Objective did not converge. You might want to increase the number of iterations, check the scale of the features or consider increasing regularisation. Duality gap: 8.989e+05, tolerance: 1.346e+04\n",
            "\n",
            "g:\\PythonProject\\Educational_Folder\\venv\\Lib\\site-packages\\sklearn\\linear_model\\_coordinate_descent.py:695: ConvergenceWarning:\n",
            "\n",
            "Objective did not converge. You might want to increase the number of iterations, check the scale of the features or consider increasing regularisation. Duality gap: 4.706e+05, tolerance: 1.329e+04\n",
            "\n",
            "g:\\PythonProject\\Educational_Folder\\venv\\Lib\\site-packages\\sklearn\\linear_model\\_coordinate_descent.py:695: ConvergenceWarning:\n",
            "\n",
            "Objective did not converge. You might want to increase the number of iterations, check the scale of the features or consider increasing regularisation. Duality gap: 6.556e+05, tolerance: 1.286e+04\n",
            "\n",
            "g:\\PythonProject\\Educational_Folder\\venv\\Lib\\site-packages\\sklearn\\linear_model\\_coordinate_descent.py:695: ConvergenceWarning:\n",
            "\n",
            "Objective did not converge. You might want to increase the number of iterations, check the scale of the features or consider increasing regularisation. Duality gap: 4.268e+05, tolerance: 1.332e+04\n",
            "\n",
            "g:\\PythonProject\\Educational_Folder\\venv\\Lib\\site-packages\\sklearn\\linear_model\\_coordinate_descent.py:695: ConvergenceWarning:\n",
            "\n",
            "Objective did not converge. You might want to increase the number of iterations, check the scale of the features or consider increasing regularisation. Duality gap: 5.411e+05, tolerance: 1.172e+04\n",
            "\n",
            "g:\\PythonProject\\Educational_Folder\\venv\\Lib\\site-packages\\sklearn\\linear_model\\_coordinate_descent.py:695: ConvergenceWarning:\n",
            "\n",
            "Objective did not converge. You might want to increase the number of iterations, check the scale of the features or consider increasing regularisation. Duality gap: 6.823e+05, tolerance: 1.346e+04\n",
            "\n",
            "g:\\PythonProject\\Educational_Folder\\venv\\Lib\\site-packages\\sklearn\\linear_model\\_coordinate_descent.py:695: ConvergenceWarning:\n",
            "\n",
            "Objective did not converge. You might want to increase the number of iterations, check the scale of the features or consider increasing regularisation. Duality gap: 3.188e+05, tolerance: 1.329e+04\n",
            "\n",
            "g:\\PythonProject\\Educational_Folder\\venv\\Lib\\site-packages\\sklearn\\linear_model\\_coordinate_descent.py:695: ConvergenceWarning:\n",
            "\n",
            "Objective did not converge. You might want to increase the number of iterations, check the scale of the features or consider increasing regularisation. Duality gap: 4.704e+05, tolerance: 1.286e+04\n",
            "\n",
            "g:\\PythonProject\\Educational_Folder\\venv\\Lib\\site-packages\\sklearn\\linear_model\\_coordinate_descent.py:695: ConvergenceWarning:\n",
            "\n",
            "Objective did not converge. You might want to increase the number of iterations, check the scale of the features or consider increasing regularisation. Duality gap: 3.280e+05, tolerance: 1.332e+04\n",
            "\n",
            "g:\\PythonProject\\Educational_Folder\\venv\\Lib\\site-packages\\sklearn\\linear_model\\_coordinate_descent.py:695: ConvergenceWarning:\n",
            "\n",
            "Objective did not converge. You might want to increase the number of iterations, check the scale of the features or consider increasing regularisation. Duality gap: 4.171e+05, tolerance: 1.172e+04\n",
            "\n",
            "g:\\PythonProject\\Educational_Folder\\venv\\Lib\\site-packages\\sklearn\\linear_model\\_coordinate_descent.py:695: ConvergenceWarning:\n",
            "\n",
            "Objective did not converge. You might want to increase the number of iterations, check the scale of the features or consider increasing regularisation. Duality gap: 6.723e+05, tolerance: 1.346e+04\n",
            "\n",
            "g:\\PythonProject\\Educational_Folder\\venv\\Lib\\site-packages\\sklearn\\linear_model\\_coordinate_descent.py:695: ConvergenceWarning:\n",
            "\n",
            "Objective did not converge. You might want to increase the number of iterations, check the scale of the features or consider increasing regularisation. Duality gap: 1.877e+05, tolerance: 1.329e+04\n",
            "\n",
            "g:\\PythonProject\\Educational_Folder\\venv\\Lib\\site-packages\\sklearn\\linear_model\\_coordinate_descent.py:695: ConvergenceWarning:\n",
            "\n",
            "Objective did not converge. You might want to increase the number of iterations, check the scale of the features or consider increasing regularisation. Duality gap: 3.475e+05, tolerance: 1.286e+04\n",
            "\n",
            "g:\\PythonProject\\Educational_Folder\\venv\\Lib\\site-packages\\sklearn\\linear_model\\_coordinate_descent.py:695: ConvergenceWarning:\n",
            "\n",
            "Objective did not converge. You might want to increase the number of iterations, check the scale of the features or consider increasing regularisation. Duality gap: 2.988e+05, tolerance: 1.332e+04\n",
            "\n",
            "g:\\PythonProject\\Educational_Folder\\venv\\Lib\\site-packages\\sklearn\\linear_model\\_coordinate_descent.py:695: ConvergenceWarning:\n",
            "\n",
            "Objective did not converge. You might want to increase the number of iterations, check the scale of the features or consider increasing regularisation. Duality gap: 3.259e+05, tolerance: 1.172e+04\n",
            "\n",
            "g:\\PythonProject\\Educational_Folder\\venv\\Lib\\site-packages\\sklearn\\linear_model\\_coordinate_descent.py:695: ConvergenceWarning:\n",
            "\n",
            "Objective did not converge. You might want to increase the number of iterations, check the scale of the features or consider increasing regularisation. Duality gap: 5.746e+05, tolerance: 1.346e+04\n",
            "\n",
            "g:\\PythonProject\\Educational_Folder\\venv\\Lib\\site-packages\\sklearn\\linear_model\\_coordinate_descent.py:695: ConvergenceWarning:\n",
            "\n",
            "Objective did not converge. You might want to increase the number of iterations, check the scale of the features or consider increasing regularisation. Duality gap: 1.777e+05, tolerance: 1.329e+04\n",
            "\n",
            "g:\\PythonProject\\Educational_Folder\\venv\\Lib\\site-packages\\sklearn\\linear_model\\_coordinate_descent.py:695: ConvergenceWarning:\n",
            "\n",
            "Objective did not converge. You might want to increase the number of iterations, check the scale of the features or consider increasing regularisation. Duality gap: 3.426e+05, tolerance: 1.286e+04\n",
            "\n",
            "g:\\PythonProject\\Educational_Folder\\venv\\Lib\\site-packages\\sklearn\\linear_model\\_coordinate_descent.py:695: ConvergenceWarning:\n",
            "\n",
            "Objective did not converge. You might want to increase the number of iterations, check the scale of the features or consider increasing regularisation. Duality gap: 2.634e+05, tolerance: 1.332e+04\n",
            "\n",
            "g:\\PythonProject\\Educational_Folder\\venv\\Lib\\site-packages\\sklearn\\linear_model\\_coordinate_descent.py:695: ConvergenceWarning:\n",
            "\n",
            "Objective did not converge. You might want to increase the number of iterations, check the scale of the features or consider increasing regularisation. Duality gap: 3.700e+05, tolerance: 1.172e+04\n",
            "\n",
            "g:\\PythonProject\\Educational_Folder\\venv\\Lib\\site-packages\\sklearn\\linear_model\\_coordinate_descent.py:695: ConvergenceWarning:\n",
            "\n",
            "Objective did not converge. You might want to increase the number of iterations, check the scale of the features or consider increasing regularisation. Duality gap: 3.657e+05, tolerance: 1.346e+04\n",
            "\n",
            "g:\\PythonProject\\Educational_Folder\\venv\\Lib\\site-packages\\sklearn\\linear_model\\_coordinate_descent.py:695: ConvergenceWarning:\n",
            "\n",
            "Objective did not converge. You might want to increase the number of iterations, check the scale of the features or consider increasing regularisation. Duality gap: 1.124e+05, tolerance: 1.329e+04\n",
            "\n",
            "g:\\PythonProject\\Educational_Folder\\venv\\Lib\\site-packages\\sklearn\\linear_model\\_coordinate_descent.py:695: ConvergenceWarning:\n",
            "\n",
            "Objective did not converge. You might want to increase the number of iterations, check the scale of the features or consider increasing regularisation. Duality gap: 1.800e+05, tolerance: 1.286e+04\n",
            "\n",
            "g:\\PythonProject\\Educational_Folder\\venv\\Lib\\site-packages\\sklearn\\linear_model\\_coordinate_descent.py:695: ConvergenceWarning:\n",
            "\n",
            "Objective did not converge. You might want to increase the number of iterations, check the scale of the features or consider increasing regularisation. Duality gap: 1.154e+05, tolerance: 1.332e+04\n",
            "\n",
            "g:\\PythonProject\\Educational_Folder\\venv\\Lib\\site-packages\\sklearn\\linear_model\\_coordinate_descent.py:695: ConvergenceWarning:\n",
            "\n",
            "Objective did not converge. You might want to increase the number of iterations, check the scale of the features or consider increasing regularisation. Duality gap: 2.444e+05, tolerance: 1.172e+04\n",
            "\n",
            "g:\\PythonProject\\Educational_Folder\\venv\\Lib\\site-packages\\sklearn\\linear_model\\_coordinate_descent.py:695: ConvergenceWarning:\n",
            "\n",
            "Objective did not converge. You might want to increase the number of iterations, check the scale of the features or consider increasing regularisation. Duality gap: 9.552e+04, tolerance: 1.346e+04\n",
            "\n",
            "g:\\PythonProject\\Educational_Folder\\venv\\Lib\\site-packages\\sklearn\\linear_model\\_coordinate_descent.py:695: ConvergenceWarning:\n",
            "\n",
            "Objective did not converge. You might want to increase the number of iterations, check the scale of the features or consider increasing regularisation. Duality gap: 3.349e+04, tolerance: 1.329e+04\n",
            "\n",
            "g:\\PythonProject\\Educational_Folder\\venv\\Lib\\site-packages\\sklearn\\linear_model\\_coordinate_descent.py:695: ConvergenceWarning:\n",
            "\n",
            "Objective did not converge. You might want to increase the number of iterations, check the scale of the features or consider increasing regularisation. Duality gap: 9.223e+04, tolerance: 1.286e+04\n",
            "\n",
            "g:\\PythonProject\\Educational_Folder\\venv\\Lib\\site-packages\\sklearn\\linear_model\\_coordinate_descent.py:695: ConvergenceWarning:\n",
            "\n",
            "Objective did not converge. You might want to increase the number of iterations, check the scale of the features or consider increasing regularisation. Duality gap: 1.208e+05, tolerance: 1.332e+04\n",
            "\n",
            "g:\\PythonProject\\Educational_Folder\\venv\\Lib\\site-packages\\sklearn\\linear_model\\_coordinate_descent.py:695: ConvergenceWarning:\n",
            "\n",
            "Objective did not converge. You might want to increase the number of iterations, check the scale of the features or consider increasing regularisation. Duality gap: 8.133e+04, tolerance: 1.172e+04\n",
            "\n",
            "g:\\PythonProject\\Educational_Folder\\venv\\Lib\\site-packages\\sklearn\\linear_model\\_coordinate_descent.py:695: ConvergenceWarning:\n",
            "\n",
            "Objective did not converge. You might want to increase the number of iterations, check the scale of the features or consider increasing regularisation. Duality gap: 1.896e+05, tolerance: 1.346e+04\n",
            "\n",
            "g:\\PythonProject\\Educational_Folder\\venv\\Lib\\site-packages\\sklearn\\linear_model\\_coordinate_descent.py:695: ConvergenceWarning:\n",
            "\n",
            "Objective did not converge. You might want to increase the number of iterations, check the scale of the features or consider increasing regularisation. Duality gap: 8.628e+04, tolerance: 1.329e+04\n",
            "\n",
            "g:\\PythonProject\\Educational_Folder\\venv\\Lib\\site-packages\\sklearn\\linear_model\\_coordinate_descent.py:695: ConvergenceWarning:\n",
            "\n",
            "Objective did not converge. You might want to increase the number of iterations, check the scale of the features or consider increasing regularisation. Duality gap: 1.526e+05, tolerance: 1.286e+04\n",
            "\n",
            "g:\\PythonProject\\Educational_Folder\\venv\\Lib\\site-packages\\sklearn\\linear_model\\_coordinate_descent.py:695: ConvergenceWarning:\n",
            "\n",
            "Objective did not converge. You might want to increase the number of iterations, check the scale of the features or consider increasing regularisation. Duality gap: 1.530e+05, tolerance: 1.332e+04\n",
            "\n",
            "g:\\PythonProject\\Educational_Folder\\venv\\Lib\\site-packages\\sklearn\\linear_model\\_coordinate_descent.py:695: ConvergenceWarning:\n",
            "\n",
            "Objective did not converge. You might want to increase the number of iterations, check the scale of the features or consider increasing regularisation. Duality gap: 8.416e+04, tolerance: 1.172e+04\n",
            "\n",
            "g:\\PythonProject\\Educational_Folder\\venv\\Lib\\site-packages\\sklearn\\linear_model\\_coordinate_descent.py:695: ConvergenceWarning:\n",
            "\n",
            "Objective did not converge. You might want to increase the number of iterations, check the scale of the features or consider increasing regularisation. Duality gap: 2.002e+05, tolerance: 1.346e+04\n",
            "\n",
            "g:\\PythonProject\\Educational_Folder\\venv\\Lib\\site-packages\\sklearn\\linear_model\\_coordinate_descent.py:695: ConvergenceWarning:\n",
            "\n",
            "Objective did not converge. You might want to increase the number of iterations, check the scale of the features or consider increasing regularisation. Duality gap: 1.157e+05, tolerance: 1.329e+04\n",
            "\n",
            "g:\\PythonProject\\Educational_Folder\\venv\\Lib\\site-packages\\sklearn\\linear_model\\_coordinate_descent.py:695: ConvergenceWarning:\n",
            "\n",
            "Objective did not converge. You might want to increase the number of iterations, check the scale of the features or consider increasing regularisation. Duality gap: 4.794e+04, tolerance: 1.286e+04\n",
            "\n",
            "g:\\PythonProject\\Educational_Folder\\venv\\Lib\\site-packages\\sklearn\\linear_model\\_coordinate_descent.py:695: ConvergenceWarning:\n",
            "\n",
            "Objective did not converge. You might want to increase the number of iterations, check the scale of the features or consider increasing regularisation. Duality gap: 4.585e+04, tolerance: 1.332e+04\n",
            "\n",
            "g:\\PythonProject\\Educational_Folder\\venv\\Lib\\site-packages\\sklearn\\linear_model\\_coordinate_descent.py:695: ConvergenceWarning:\n",
            "\n",
            "Objective did not converge. You might want to increase the number of iterations, check the scale of the features or consider increasing regularisation. Duality gap: 3.846e+04, tolerance: 1.172e+04\n",
            "\n",
            "g:\\PythonProject\\Educational_Folder\\venv\\Lib\\site-packages\\sklearn\\linear_model\\_coordinate_descent.py:695: ConvergenceWarning:\n",
            "\n",
            "Objective did not converge. You might want to increase the number of iterations, check the scale of the features or consider increasing regularisation. Duality gap: 4.237e+04, tolerance: 1.346e+04\n",
            "\n",
            "g:\\PythonProject\\Educational_Folder\\venv\\Lib\\site-packages\\sklearn\\linear_model\\_coordinate_descent.py:695: ConvergenceWarning:\n",
            "\n",
            "Objective did not converge. You might want to increase the number of iterations, check the scale of the features or consider increasing regularisation. Duality gap: 3.953e+04, tolerance: 1.329e+04\n",
            "\n",
            "g:\\PythonProject\\Educational_Folder\\venv\\Lib\\site-packages\\sklearn\\linear_model\\_coordinate_descent.py:695: ConvergenceWarning:\n",
            "\n",
            "Objective did not converge. You might want to increase the number of iterations, check the scale of the features or consider increasing regularisation. Duality gap: 2.326e+04, tolerance: 1.286e+04\n",
            "\n",
            "g:\\PythonProject\\Educational_Folder\\venv\\Lib\\site-packages\\sklearn\\linear_model\\_coordinate_descent.py:695: ConvergenceWarning:\n",
            "\n",
            "Objective did not converge. You might want to increase the number of iterations, check the scale of the features or consider increasing regularisation. Duality gap: 4.212e+04, tolerance: 1.346e+04\n",
            "\n",
            "g:\\PythonProject\\Educational_Folder\\venv\\Lib\\site-packages\\sklearn\\linear_model\\_coordinate_descent.py:695: ConvergenceWarning:\n",
            "\n",
            "Objective did not converge. You might want to increase the number of iterations, check the scale of the features or consider increasing regularisation. Duality gap: 2.271e+04, tolerance: 1.172e+04\n",
            "\n",
            "g:\\PythonProject\\Educational_Folder\\venv\\Lib\\site-packages\\sklearn\\linear_model\\_coordinate_descent.py:695: ConvergenceWarning:\n",
            "\n",
            "Objective did not converge. You might want to increase the number of iterations, check the scale of the features or consider increasing regularisation. Duality gap: 1.847e+04, tolerance: 1.346e+04\n",
            "\n",
            "g:\\PythonProject\\Educational_Folder\\venv\\Lib\\site-packages\\sklearn\\linear_model\\_coordinate_descent.py:695: ConvergenceWarning:\n",
            "\n",
            "Objective did not converge. You might want to increase the number of iterations, check the scale of the features or consider increasing regularisation. Duality gap: 3.069e+04, tolerance: 1.332e+04\n",
            "\n",
            "g:\\PythonProject\\Educational_Folder\\venv\\Lib\\site-packages\\sklearn\\linear_model\\_coordinate_descent.py:695: ConvergenceWarning:\n",
            "\n",
            "Objective did not converge. You might want to increase the number of iterations, check the scale of the features or consider increasing regularisation. Duality gap: 1.991e+04, tolerance: 1.329e+04\n",
            "\n"
          ]
        },
        {
          "name": "stdout",
          "output_type": "stream",
          "text": [
            "Лучшее значение alpha: 4.64\n",
            "Лучшее значение l1_ratio: 1.0\n",
            "MAPE на тренировочных фолдах: 0.99 %\n",
            "MAPE на валидационных фолдах: 1.40 %\n"
          ]
        }
      ],
      "source": [
        "# Разделяем данные на обучающую и валидационную выборки\n",
        "X_train, X_val, y_train, y_val = train_test_split(A_poly, y, test_size=0.2, random_state=42) \n",
        "\n",
        "# Создаем L1 регулязацию\n",
        "elastic_net = ElasticNet()\n",
        "\n",
        "# Задаем сетку значений alpha и lambda. \n",
        "# 100 значений alpha от 10^-4 до 10^2. \n",
        "# 100 значений l1_ratio от 0.1 до 1\n",
        "param_grid = {\n",
        "    'alpha': np.logspace(-4, 2, 10),  \n",
        "    'l1_ratio': np.linspace(0.1, 1, 10)\n",
        "}\n",
        "# Создаем и обучаем GridSearchCV\n",
        "# cv - количество фолдов для кросс-валидации, scoring - метрика\n",
        "grid_search = GridSearchCV(elastic_net, param_grid, cv=5, scoring='neg_mean_squared_error') \n",
        "grid_search.fit(X_train, y_train)\n",
        "# Лучшее значение alpha\n",
        "best_alpha = round(grid_search.best_params_['alpha'], 2)\n",
        "best_l1_ratio = round(grid_search.best_params_['l1_ratio'], 2)\n",
        "print(f\"Лучшее значение alpha: {best_alpha}\")\n",
        "print(f\"Лучшее значение l1_ratio: {best_l1_ratio}\")\n",
        "\n",
        "elastic_net = ElasticNet(alpha=best_alpha, l1_ratio=best_l1_ratio, max_iter=10000)\n",
        "\n",
        "# оцениваем качество модели на кросс-валидации\n",
        "cv_results = cross_validate(elastic_net, A_poly, y, scoring='neg_mean_absolute_percentage_error', cv=5, return_train_score=True)\n",
        "print('MAPE на тренировочных фолдах: {:.2f} %'.format(-cv_results['train_score'].mean()* 100))\n",
        "print('MAPE на валидационных фолдах: {:.2f} %'.format(-cv_results['test_score'].mean() * 100))\n",
        "elastic_net_model = np.array(['ElasticNet Model', f'Alpha = {best_alpha}, L1_ratio = {best_l1_ratio}', True, round(-cv_results['train_score'].mean()* 100, 2), round(-cv_results['test_score'].mean() * 100, 2)])"
      ]
    },
    {
      "cell_type": "markdown",
      "id": "er2lAiE9QpAb",
      "metadata": {
        "id": "er2lAiE9QpAb"
      },
      "source": [
        "Примерно такие же значения ошибки как у модели с $L_1$-регуляризацией "
      ]
    },
    {
      "cell_type": "markdown",
      "id": "91c6e1d1",
      "metadata": {
        "id": "91c6e1d1"
      },
      "source": [
        "### Задание 8.5. (1 балл)\n",
        "\n",
        "Завершением вашей работы будет сводная таблица результатов, которую вы представите на презентации заказчику Василию.\n",
        "\n",
        "Составьте таблицу (DataFrame) со следующими столбцами (имена столбцов выберите самостоятельно):\n",
        "* Наименование модели.\n",
        "* Гиперпараметры (коэффициенты регуляризации, если таковые имеются), если нет — оставьте ячейку пустой.\n",
        "* Использовались ли полиномиальные признаки при построении модели (Да/Нет или True/False).\n",
        "* Значение выбранной метрики на тренировочных фолдах при кросс-валидации модели.\n",
        "* Значение выбранной метрики на валидационных фолдах при кросс-валидации модели.\n",
        "\n",
        "Сделайте финальный вывод по проделанной работе. Какая линейная модель из тех, что мы рассмотрели, показала наилучший результат с точки зрения качества на валидационных фолдах, а также с точки зрения переобученности?"
      ]
    },
    {
      "cell_type": "markdown",
      "id": "OsFRaKkF_nLq",
      "metadata": {
        "id": "OsFRaKkF_nLq"
      },
      "source": [
        "**Критерии оценивания:**\n",
        "\n",
        "- Задание выполнено верно, учтены все условия (**1 балл**): \n",
        "    * верно составлена сводная таблица итоговых результатов построенных ранее моделей с указанными в задании столбцами;\n",
        "    * приведены итоговые выводы по проделанной работе, указано, какая из рассмотренных моделей показала наилучший результат.\n",
        "\n",
        "- Задание выполнено неверно, не учтено одно или несколько условий (**0 баллов**)."
      ]
    },
    {
      "cell_type": "code",
      "execution_count": 426,
      "id": "wRiys8lKQuqW",
      "metadata": {
        "id": "wRiys8lKQuqW"
      },
      "outputs": [
        {
          "data": {
            "text/html": [
              "<div>\n",
              "<style scoped>\n",
              "    .dataframe tbody tr th:only-of-type {\n",
              "        vertical-align: middle;\n",
              "    }\n",
              "\n",
              "    .dataframe tbody tr th {\n",
              "        vertical-align: top;\n",
              "    }\n",
              "\n",
              "    .dataframe thead th {\n",
              "        text-align: right;\n",
              "    }\n",
              "</style>\n",
              "<table border=\"1\" class=\"dataframe\">\n",
              "  <thead>\n",
              "    <tr style=\"text-align: right;\">\n",
              "      <th></th>\n",
              "      <th>Model name</th>\n",
              "      <th>Hyperparameters</th>\n",
              "      <th>Polynomial Characteristics</th>\n",
              "      <th>MAPE trening folds</th>\n",
              "      <th>MAPE validation folds</th>\n",
              "    </tr>\n",
              "  </thead>\n",
              "  <tbody>\n",
              "    <tr>\n",
              "      <th>0</th>\n",
              "      <td>Linear Model</td>\n",
              "      <td>nan</td>\n",
              "      <td>True</td>\n",
              "      <td>0.55</td>\n",
              "      <td>1.89</td>\n",
              "    </tr>\n",
              "    <tr>\n",
              "      <th>1</th>\n",
              "      <td>Lasso Model</td>\n",
              "      <td>Alpha = 3.05</td>\n",
              "      <td>True</td>\n",
              "      <td>0.92</td>\n",
              "      <td>1.34</td>\n",
              "    </tr>\n",
              "    <tr>\n",
              "      <th>2</th>\n",
              "      <td>Ridge Model</td>\n",
              "      <td>Alpha = 0.66</td>\n",
              "      <td>True</td>\n",
              "      <td>0.65</td>\n",
              "      <td>1.5</td>\n",
              "    </tr>\n",
              "    <tr>\n",
              "      <th>3</th>\n",
              "      <td>ElasticNet Model</td>\n",
              "      <td>Alpha = 4.64, L1_ratio = 1.0</td>\n",
              "      <td>True</td>\n",
              "      <td>0.99</td>\n",
              "      <td>1.4</td>\n",
              "    </tr>\n",
              "  </tbody>\n",
              "</table>\n",
              "</div>"
            ],
            "text/plain": [
              "         Model name               Hyperparameters Polynomial Characteristics  \\\n",
              "0      Linear Model                           nan                       True   \n",
              "1       Lasso Model                  Alpha = 3.05                       True   \n",
              "2       Ridge Model                  Alpha = 0.66                       True   \n",
              "3  ElasticNet Model  Alpha = 4.64, L1_ratio = 1.0                       True   \n",
              "\n",
              "  MAPE trening folds MAPE validation folds  \n",
              "0               0.55                  1.89  \n",
              "1               0.92                  1.34  \n",
              "2               0.65                   1.5  \n",
              "3               0.99                   1.4  "
            ]
          },
          "execution_count": 426,
          "metadata": {},
          "output_type": "execute_result"
        }
      ],
      "source": [
        "end_dataframe = pd.DataFrame(data=[linear_model, lasso_model, ridge_model, elastic_net_model], columns=['Model name', 'Hyperparameters', 'Polynomial Characteristics', 'MAPE trening folds', 'MAPE validation folds'])\n",
        "end_dataframe"
      ]
    },
    {
      "cell_type": "markdown",
      "id": "UP7_LSoEQsrA",
      "metadata": {
        "id": "UP7_LSoEQsrA"
      },
      "source": [
        "Лучше всего по показателю MAPE показала себя **Lasso Model**, так как имеет наименьшее расхождение между тренировочная фолдами и валидационными"
      ]
    }
  ],
  "metadata": {
    "colab": {
      "provenance": []
    },
    "kernelspec": {
      "display_name": "Python 3.11.6 ('venv': venv)",
      "language": "python",
      "name": "python3"
    },
    "language_info": {
      "codemirror_mode": {
        "name": "ipython",
        "version": 3
      },
      "file_extension": ".py",
      "mimetype": "text/x-python",
      "name": "python",
      "nbconvert_exporter": "python",
      "pygments_lexer": "ipython3",
      "version": "3.11.6"
    },
    "vscode": {
      "interpreter": {
        "hash": "c93c71f6771094a2f96d77cd888b02bd88758730d61f89dca383fef5c6e96e6c"
      }
    }
  },
  "nbformat": 4,
  "nbformat_minor": 5
}
